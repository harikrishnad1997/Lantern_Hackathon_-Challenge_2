{
 "cells": [
  {
   "cell_type": "code",
   "execution_count": 15,
   "id": "3fe72deb-f9b2-40a3-8324-af0706a73f0e",
   "metadata": {
    "tags": []
   },
   "outputs": [
    {
     "name": "stdout",
     "output_type": "stream",
     "text": [
      "Checking whether there is an H2O instance running at http://localhost:54321. connected.\n"
     ]
    },
    {
     "data": {
      "text/html": [
       "\n",
       "<style>\n",
       "\n",
       "#h2o-table-2.h2o-container {\n",
       "  overflow-x: auto;\n",
       "}\n",
       "#h2o-table-2 .h2o-table {\n",
       "  /* width: 100%; */\n",
       "  margin-top: 1em;\n",
       "  margin-bottom: 1em;\n",
       "}\n",
       "#h2o-table-2 .h2o-table caption {\n",
       "  white-space: nowrap;\n",
       "  caption-side: top;\n",
       "  text-align: left;\n",
       "  /* margin-left: 1em; */\n",
       "  margin: 0;\n",
       "  font-size: larger;\n",
       "}\n",
       "#h2o-table-2 .h2o-table thead {\n",
       "  white-space: nowrap; \n",
       "  position: sticky;\n",
       "  top: 0;\n",
       "  box-shadow: 0 -1px inset;\n",
       "}\n",
       "#h2o-table-2 .h2o-table tbody {\n",
       "  overflow: auto;\n",
       "}\n",
       "#h2o-table-2 .h2o-table th,\n",
       "#h2o-table-2 .h2o-table td {\n",
       "  text-align: right;\n",
       "  /* border: 1px solid; */\n",
       "}\n",
       "#h2o-table-2 .h2o-table tr:nth-child(even) {\n",
       "  /* background: #F5F5F5 */\n",
       "}\n",
       "\n",
       "</style>      \n",
       "<div id=\"h2o-table-2\" class=\"h2o-container\">\n",
       "  <table class=\"h2o-table\">\n",
       "    <caption></caption>\n",
       "    <thead></thead>\n",
       "    <tbody><tr><td>H2O_cluster_uptime:</td>\n",
       "<td>22 mins 50 secs</td></tr>\n",
       "<tr><td>H2O_cluster_timezone:</td>\n",
       "<td>Etc/UTC</td></tr>\n",
       "<tr><td>H2O_data_parsing_timezone:</td>\n",
       "<td>UTC</td></tr>\n",
       "<tr><td>H2O_cluster_version:</td>\n",
       "<td>3.44.0.2</td></tr>\n",
       "<tr><td>H2O_cluster_version_age:</td>\n",
       "<td>11 days</td></tr>\n",
       "<tr><td>H2O_cluster_name:</td>\n",
       "<td>H2O_from_python_unknownUser_mfii72</td></tr>\n",
       "<tr><td>H2O_cluster_total_nodes:</td>\n",
       "<td>1</td></tr>\n",
       "<tr><td>H2O_cluster_free_memory:</td>\n",
       "<td>13.32 Gb</td></tr>\n",
       "<tr><td>H2O_cluster_total_cores:</td>\n",
       "<td>8</td></tr>\n",
       "<tr><td>H2O_cluster_allowed_cores:</td>\n",
       "<td>8</td></tr>\n",
       "<tr><td>H2O_cluster_status:</td>\n",
       "<td>locked, healthy</td></tr>\n",
       "<tr><td>H2O_connection_url:</td>\n",
       "<td>http://localhost:54321</td></tr>\n",
       "<tr><td>H2O_connection_proxy:</td>\n",
       "<td>{\"http\": null, \"https\": null}</td></tr>\n",
       "<tr><td>H2O_internal_security:</td>\n",
       "<td>False</td></tr>\n",
       "<tr><td>Python_version:</td>\n",
       "<td>3.10.12 final</td></tr></tbody>\n",
       "  </table>\n",
       "</div>\n"
      ],
      "text/plain": [
       "--------------------------  ----------------------------------\n",
       "H2O_cluster_uptime:         22 mins 50 secs\n",
       "H2O_cluster_timezone:       Etc/UTC\n",
       "H2O_data_parsing_timezone:  UTC\n",
       "H2O_cluster_version:        3.44.0.2\n",
       "H2O_cluster_version_age:    11 days\n",
       "H2O_cluster_name:           H2O_from_python_unknownUser_mfii72\n",
       "H2O_cluster_total_nodes:    1\n",
       "H2O_cluster_free_memory:    13.32 Gb\n",
       "H2O_cluster_total_cores:    8\n",
       "H2O_cluster_allowed_cores:  8\n",
       "H2O_cluster_status:         locked, healthy\n",
       "H2O_connection_url:         http://localhost:54321\n",
       "H2O_connection_proxy:       {\"http\": null, \"https\": null}\n",
       "H2O_internal_security:      False\n",
       "Python_version:             3.10.12 final\n",
       "--------------------------  ----------------------------------"
      ]
     },
     "metadata": {},
     "output_type": "display_data"
    }
   ],
   "source": [
    "import pandas as pd\n",
    "import h2o\n",
    "h2o.init()"
   ]
  },
  {
   "cell_type": "code",
   "execution_count": 16,
   "id": "44bf8d0e-a52b-4695-b8dd-b552c186e26e",
   "metadata": {
    "tags": []
   },
   "outputs": [],
   "source": [
    "model_path = \"/root/capsule/code/Fulvestrant/DeepLearning_grid_3_AutoML_3_20231119_81736_model_12\"\n",
    "fulvestrant_model = h2o.load_model(model_path)"
   ]
  },
  {
   "cell_type": "code",
   "execution_count": 17,
   "id": "235ec0ac-93bf-4452-a8fa-ed70b05d5b32",
   "metadata": {
    "tags": []
   },
   "outputs": [
    {
     "name": "stdout",
     "output_type": "stream",
     "text": [
      "Parse progress: |████████████████████████████████████████████████████████████████| (done) 100%\n"
     ]
    },
    {
     "data": {
      "text/plain": [
       "(48, 1602)"
      ]
     },
     "execution_count": 17,
     "metadata": {},
     "output_type": "execute_result"
    }
   ],
   "source": [
    "df = h2o.import_file(path=\"Fulvestrant_final.csv\")\n",
    "df.shape"
   ]
  },
  {
   "cell_type": "code",
   "execution_count": 20,
   "id": "fcf28a37-e88c-41c7-89af-0fad143e7501",
   "metadata": {
    "tags": []
   },
   "outputs": [
    {
     "data": {
      "text/html": [
       "<div>\n",
       "<style scoped>\n",
       "    .dataframe tbody tr th:only-of-type {\n",
       "        vertical-align: middle;\n",
       "    }\n",
       "\n",
       "    .dataframe tbody tr th {\n",
       "        vertical-align: top;\n",
       "    }\n",
       "\n",
       "    .dataframe thead th {\n",
       "        text-align: right;\n",
       "    }\n",
       "</style>\n",
       "<table border=\"1\" class=\"dataframe\">\n",
       "  <thead>\n",
       "    <tr style=\"text-align: right;\">\n",
       "      <th></th>\n",
       "      <th>variable</th>\n",
       "      <th>relative_importance</th>\n",
       "      <th>scaled_importance</th>\n",
       "      <th>percentage</th>\n",
       "    </tr>\n",
       "  </thead>\n",
       "  <tbody>\n",
       "    <tr>\n",
       "      <th>0</th>\n",
       "      <td>rna_ZDHHC11</td>\n",
       "      <td>1.000000</td>\n",
       "      <td>1.000000</td>\n",
       "      <td>0.000781</td>\n",
       "    </tr>\n",
       "    <tr>\n",
       "      <th>1</th>\n",
       "      <td>rna_UXS1</td>\n",
       "      <td>0.986073</td>\n",
       "      <td>0.986073</td>\n",
       "      <td>0.000770</td>\n",
       "    </tr>\n",
       "    <tr>\n",
       "      <th>2</th>\n",
       "      <td>rna_KIRREL</td>\n",
       "      <td>0.981119</td>\n",
       "      <td>0.981119</td>\n",
       "      <td>0.000766</td>\n",
       "    </tr>\n",
       "    <tr>\n",
       "      <th>3</th>\n",
       "      <td>rna_PLXNA2</td>\n",
       "      <td>0.972651</td>\n",
       "      <td>0.972651</td>\n",
       "      <td>0.000760</td>\n",
       "    </tr>\n",
       "    <tr>\n",
       "      <th>4</th>\n",
       "      <td>rna_LOC202181</td>\n",
       "      <td>0.967827</td>\n",
       "      <td>0.967827</td>\n",
       "      <td>0.000756</td>\n",
       "    </tr>\n",
       "    <tr>\n",
       "      <th>...</th>\n",
       "      <td>...</td>\n",
       "      <td>...</td>\n",
       "      <td>...</td>\n",
       "      <td>...</td>\n",
       "    </tr>\n",
       "    <tr>\n",
       "      <th>1617</th>\n",
       "      <td>mut_CUL9.missing(NA)</td>\n",
       "      <td>0.000000</td>\n",
       "      <td>0.000000</td>\n",
       "      <td>0.000000</td>\n",
       "    </tr>\n",
       "    <tr>\n",
       "      <th>1618</th>\n",
       "      <td>mut_HSPG2.missing(NA)</td>\n",
       "      <td>0.000000</td>\n",
       "      <td>0.000000</td>\n",
       "      <td>0.000000</td>\n",
       "    </tr>\n",
       "    <tr>\n",
       "      <th>1619</th>\n",
       "      <td>mut_LRRIQ1.missing(NA)</td>\n",
       "      <td>0.000000</td>\n",
       "      <td>0.000000</td>\n",
       "      <td>0.000000</td>\n",
       "    </tr>\n",
       "    <tr>\n",
       "      <th>1620</th>\n",
       "      <td>mut_H6PD.missing(NA)</td>\n",
       "      <td>0.000000</td>\n",
       "      <td>0.000000</td>\n",
       "      <td>0.000000</td>\n",
       "    </tr>\n",
       "    <tr>\n",
       "      <th>1621</th>\n",
       "      <td>mut_MAP2.missing(NA)</td>\n",
       "      <td>0.000000</td>\n",
       "      <td>0.000000</td>\n",
       "      <td>0.000000</td>\n",
       "    </tr>\n",
       "  </tbody>\n",
       "</table>\n",
       "<p>1622 rows × 4 columns</p>\n",
       "</div>"
      ],
      "text/plain": [
       "                    variable  relative_importance  scaled_importance  \\\n",
       "0                rna_ZDHHC11             1.000000           1.000000   \n",
       "1                   rna_UXS1             0.986073           0.986073   \n",
       "2                 rna_KIRREL             0.981119           0.981119   \n",
       "3                 rna_PLXNA2             0.972651           0.972651   \n",
       "4              rna_LOC202181             0.967827           0.967827   \n",
       "...                      ...                  ...                ...   \n",
       "1617    mut_CUL9.missing(NA)             0.000000           0.000000   \n",
       "1618   mut_HSPG2.missing(NA)             0.000000           0.000000   \n",
       "1619  mut_LRRIQ1.missing(NA)             0.000000           0.000000   \n",
       "1620    mut_H6PD.missing(NA)             0.000000           0.000000   \n",
       "1621    mut_MAP2.missing(NA)             0.000000           0.000000   \n",
       "\n",
       "      percentage  \n",
       "0       0.000781  \n",
       "1       0.000770  \n",
       "2       0.000766  \n",
       "3       0.000760  \n",
       "4       0.000756  \n",
       "...          ...  \n",
       "1617    0.000000  \n",
       "1618    0.000000  \n",
       "1619    0.000000  \n",
       "1620    0.000000  \n",
       "1621    0.000000  \n",
       "\n",
       "[1622 rows x 4 columns]"
      ]
     },
     "execution_count": 20,
     "metadata": {},
     "output_type": "execute_result"
    }
   ],
   "source": [
    "variable_importance = fulvestrant_model.varimp(df[df[\"type\"] == \"Breast\"])\n",
    "variable_importance"
   ]
  },
  {
   "cell_type": "code",
   "execution_count": 26,
   "id": "e48381f4-3737-4464-9ac3-3a951dba2da1",
   "metadata": {
    "tags": []
   },
   "outputs": [
    {
     "data": {
      "text/html": [
       "<table class='dataframe'>\n",
       "<thead>\n",
       "<tr><th>C1      </th></tr>\n",
       "</thead>\n",
       "<tbody>\n",
       "<tr><td>Blood   </td></tr>\n",
       "<tr><td>Bowel   </td></tr>\n",
       "<tr><td>BrainCNS</td></tr>\n",
       "<tr><td>Breast  </td></tr>\n",
       "<tr><td>Kidney  </td></tr>\n",
       "<tr><td>Lung    </td></tr>\n",
       "<tr><td>Ovary   </td></tr>\n",
       "<tr><td>Prostate</td></tr>\n",
       "<tr><td>Skin    </td></tr>\n",
       "</tbody>\n",
       "</table><pre style='font-size: smaller; margin-bottom: 1em;'>[9 rows x 1 column]</pre>"
      ],
      "text/plain": [
       "C1\n",
       "--------\n",
       "Blood\n",
       "Bowel\n",
       "BrainCNS\n",
       "Breast\n",
       "Kidney\n",
       "Lung\n",
       "Ovary\n",
       "Prostate\n",
       "Skin\n",
       "[9 rows x 1 column]\n"
      ]
     },
     "execution_count": 26,
     "metadata": {},
     "output_type": "execute_result"
    }
   ],
   "source": [
    "df[\"type\"].unique()"
   ]
  },
  {
   "cell_type": "code",
   "execution_count": 38,
   "id": "f5baae3c-e5ae-42e9-9ff5-ebb291bc611f",
   "metadata": {
    "tags": []
   },
   "outputs": [],
   "source": [
    "type = df[\"type\"].unique().as_data_frame()"
   ]
  },
  {
   "cell_type": "code",
   "execution_count": 39,
   "id": "21337b35-340a-4c9b-ac1c-37ecaad2be4e",
   "metadata": {
    "tags": []
   },
   "outputs": [
    {
     "ename": "TypeError",
     "evalue": "'DataFrame' object is not callable",
     "output_type": "error",
     "traceback": [
      "\u001b[0;31m---------------------------------------------------------------------------\u001b[0m",
      "\u001b[0;31mTypeError\u001b[0m                                 Traceback (most recent call last)",
      "Cell \u001b[0;32mIn[39], line 1\u001b[0m\n\u001b[0;32m----> 1\u001b[0m \u001b[38;5;28;43mtype\u001b[39;49m\u001b[43m(\u001b[49m\u001b[38;5;28;43mtype\u001b[39;49m\u001b[43m)\u001b[49m\n",
      "\u001b[0;31mTypeError\u001b[0m: 'DataFrame' object is not callable"
     ]
    }
   ],
   "source": [
    "type(type)"
   ]
  },
  {
   "cell_type": "code",
   "execution_count": 35,
   "id": "24d93e66-a66a-4917-b7cb-f7e14b643570",
   "metadata": {
    "tags": []
   },
   "outputs": [
    {
     "name": "stdout",
     "output_type": "stream",
     "text": [
      "C1\n"
     ]
    }
   ],
   "source": [
    "for t in df[\"type\"].unique().as_data_frame():\n",
    "    print(t)"
   ]
  },
  {
   "cell_type": "code",
   "execution_count": 23,
   "id": "698d1287-2c38-47c8-95cd-3efdfcc55531",
   "metadata": {
    "tags": []
   },
   "outputs": [
    {
     "ename": "H2OValueError",
     "evalue": "Attempting to operate on incompatible frames: (48 x 1) and (9 x 1)",
     "output_type": "error",
     "traceback": [
      "\u001b[0;31m---------------------------------------------------------------------------\u001b[0m",
      "\u001b[0;31mH2OValueError\u001b[0m                             Traceback (most recent call last)",
      "Cell \u001b[0;32mIn[23], line 2\u001b[0m\n\u001b[1;32m      1\u001b[0m \u001b[38;5;28;01mfor\u001b[39;00m t \u001b[38;5;129;01min\u001b[39;00m df[\u001b[38;5;124m\"\u001b[39m\u001b[38;5;124mtype\u001b[39m\u001b[38;5;124m\"\u001b[39m]\u001b[38;5;241m.\u001b[39munique():\n\u001b[0;32m----> 2\u001b[0m     tmp \u001b[38;5;241m=\u001b[39m fulvestrant_model\u001b[38;5;241m.\u001b[39mvarimp(df[\u001b[43mdf\u001b[49m\u001b[43m[\u001b[49m\u001b[38;5;124;43m\"\u001b[39;49m\u001b[38;5;124;43mtype\u001b[39;49m\u001b[38;5;124;43m\"\u001b[39;49m\u001b[43m]\u001b[49m\u001b[43m \u001b[49m\u001b[38;5;241;43m==\u001b[39;49m\u001b[43m \u001b[49m\u001b[43mt\u001b[49m])\n\u001b[1;32m      3\u001b[0m     tmp\u001b[38;5;241m.\u001b[39miloc[\u001b[38;5;241m0\u001b[39m]\n",
      "File \u001b[0;32m/opt/conda/lib/python3.10/site-packages/h2o/frame.py:699\u001b[0m, in \u001b[0;36mH2OFrame.__eq__\u001b[0;34m(self, rhs)\u001b[0m\n\u001b[1;32m    697\u001b[0m \u001b[38;5;28;01mdef\u001b[39;00m \u001b[38;5;21m__eq__\u001b[39m(\u001b[38;5;28mself\u001b[39m, rhs):\n\u001b[1;32m    698\u001b[0m     \u001b[38;5;28;01mif\u001b[39;00m rhs \u001b[38;5;129;01mis\u001b[39;00m \u001b[38;5;28;01mNone\u001b[39;00m: rhs \u001b[38;5;241m=\u001b[39m \u001b[38;5;28mfloat\u001b[39m(\u001b[38;5;124m\"\u001b[39m\u001b[38;5;124mnan\u001b[39m\u001b[38;5;124m\"\u001b[39m)\n\u001b[0;32m--> 699\u001b[0m     \u001b[38;5;28;01mreturn\u001b[39;00m \u001b[43m_binop\u001b[49m\u001b[43m(\u001b[49m\u001b[38;5;28;43mself\u001b[39;49m\u001b[43m,\u001b[49m\u001b[43m \u001b[49m\u001b[38;5;124;43m\"\u001b[39;49m\u001b[38;5;124;43m==\u001b[39;49m\u001b[38;5;124;43m\"\u001b[39;49m\u001b[43m,\u001b[49m\u001b[43m \u001b[49m\u001b[43mrhs\u001b[49m\u001b[43m,\u001b[49m\u001b[43m \u001b[49m\u001b[43mrtype\u001b[49m\u001b[38;5;241;43m=\u001b[39;49m\u001b[38;5;124;43m\"\u001b[39;49m\u001b[38;5;124;43mbool\u001b[39;49m\u001b[38;5;124;43m\"\u001b[39;49m\u001b[43m)\u001b[49m\n",
      "File \u001b[0;32m/opt/conda/lib/python3.10/site-packages/h2o/frame.py:5137\u001b[0m, in \u001b[0;36m_binop\u001b[0;34m(lhs, op, rhs, rtype)\u001b[0m\n\u001b[1;32m   5128\u001b[0m     compatible \u001b[38;5;241m=\u001b[39m ((lcols \u001b[38;5;241m==\u001b[39m rcols \u001b[38;5;129;01mand\u001b[39;00m lrows \u001b[38;5;241m==\u001b[39m rrows) \u001b[38;5;129;01mor\u001b[39;00m\n\u001b[1;32m   5129\u001b[0m                   (lcols \u001b[38;5;241m==\u001b[39m \u001b[38;5;241m1\u001b[39m \u001b[38;5;129;01mand\u001b[39;00m lrows \u001b[38;5;241m==\u001b[39m rrows) \u001b[38;5;129;01mor\u001b[39;00m\n\u001b[1;32m   5130\u001b[0m                   (lcols \u001b[38;5;241m==\u001b[39m \u001b[38;5;241m1\u001b[39m \u001b[38;5;129;01mand\u001b[39;00m lrows \u001b[38;5;241m==\u001b[39m \u001b[38;5;241m1\u001b[39m) \u001b[38;5;129;01mor\u001b[39;00m\n\u001b[0;32m   (...)\u001b[0m\n\u001b[1;32m   5134\u001b[0m                   (rrows \u001b[38;5;241m==\u001b[39m \u001b[38;5;241m1\u001b[39m \u001b[38;5;129;01mand\u001b[39;00m lcols \u001b[38;5;241m==\u001b[39m rcols)\n\u001b[1;32m   5135\u001b[0m                   )\n\u001b[1;32m   5136\u001b[0m     \u001b[38;5;28;01mif\u001b[39;00m \u001b[38;5;129;01mnot\u001b[39;00m compatible:\n\u001b[0;32m-> 5137\u001b[0m         \u001b[38;5;28;01mraise\u001b[39;00m H2OValueError(\u001b[38;5;124m\"\u001b[39m\u001b[38;5;124mAttempting to operate on incompatible frames: (\u001b[39m\u001b[38;5;132;01m%d\u001b[39;00m\u001b[38;5;124m x \u001b[39m\u001b[38;5;132;01m%d\u001b[39;00m\u001b[38;5;124m) and (\u001b[39m\u001b[38;5;132;01m%d\u001b[39;00m\u001b[38;5;124m x \u001b[39m\u001b[38;5;132;01m%d\u001b[39;00m\u001b[38;5;124m)\u001b[39m\u001b[38;5;124m\"\u001b[39m\n\u001b[1;32m   5138\u001b[0m                             \u001b[38;5;241m%\u001b[39m (lrows, lcols, rrows, rcols))\n\u001b[1;32m   5140\u001b[0m \u001b[38;5;28;01mif\u001b[39;00m is_type(lhs, pandas_timestamp, numpy_datetime, datetime\u001b[38;5;241m.\u001b[39mdate):\n\u001b[1;32m   5141\u001b[0m     lhs \u001b[38;5;241m=\u001b[39m H2OFrame\u001b[38;5;241m.\u001b[39mmoment(date\u001b[38;5;241m=\u001b[39mlhs)\n",
      "\u001b[0;31mH2OValueError\u001b[0m: Attempting to operate on incompatible frames: (48 x 1) and (9 x 1)"
     ]
    }
   ],
   "source": [
    "for t in df[\"type\"].unique():\n",
    "    tmp = fulvestrant_model.varimp(df[df[\"type\"] == t])\n",
    "    tmp.iloc[0]"
   ]
  },
  {
   "cell_type": "code",
   "execution_count": 22,
   "id": "ccbf27df-f031-4dce-867d-48c00ebf79c9",
   "metadata": {
    "tags": []
   },
   "outputs": [
    {
     "name": "stdout",
     "output_type": "stream",
     "text": [
      "variable               rna_ZDHHC11\n",
      "relative_importance            1.0\n",
      "scaled_importance              1.0\n",
      "percentage                0.000781\n",
      "Name: 0, dtype: object\n"
     ]
    }
   ],
   "source": [
    "variable_importance = fulvestrant_model.varimp(df[df[\"type\"] == \"BrainCNS\"])\n",
    "print(variable_importance.iloc[0])"
   ]
  },
  {
   "cell_type": "code",
   "execution_count": 7,
   "id": "04d3bb0d-63b1-46f7-ab25-8314ff1c786b",
   "metadata": {
    "tags": []
   },
   "outputs": [
    {
     "name": "stdout",
     "output_type": "stream",
     "text": [
      "                    variable  relative_importance  scaled_importance  \\\n",
      "0                rna_ZDHHC11             1.000000           1.000000   \n",
      "1                   rna_UXS1             0.986073           0.986073   \n",
      "2                 rna_KIRREL             0.981119           0.981119   \n",
      "3                 rna_PLXNA2             0.972651           0.972651   \n",
      "4              rna_LOC202181             0.967827           0.967827   \n",
      "...                      ...                  ...                ...   \n",
      "1617    mut_CUL9.missing(NA)             0.000000           0.000000   \n",
      "1618   mut_HSPG2.missing(NA)             0.000000           0.000000   \n",
      "1619  mut_LRRIQ1.missing(NA)             0.000000           0.000000   \n",
      "1620    mut_H6PD.missing(NA)             0.000000           0.000000   \n",
      "1621    mut_MAP2.missing(NA)             0.000000           0.000000   \n",
      "\n",
      "      percentage  \n",
      "0       0.000781  \n",
      "1       0.000770  \n",
      "2       0.000766  \n",
      "3       0.000760  \n",
      "4       0.000756  \n",
      "...          ...  \n",
      "1617    0.000000  \n",
      "1618    0.000000  \n",
      "1619    0.000000  \n",
      "1620    0.000000  \n",
      "1621    0.000000  \n",
      "\n",
      "[1622 rows x 4 columns]\n"
     ]
    }
   ],
   "source": [
    "variable_importance = fulvestrant_model.varimp(df[df[\"type\"] == \"Blood\"])\n",
    "print(variable_importance)"
   ]
  },
  {
   "cell_type": "code",
   "execution_count": 8,
   "id": "f42472a6-d4e9-4cb9-a3fe-a3cebc2a8f2e",
   "metadata": {
    "tags": []
   },
   "outputs": [
    {
     "name": "stdout",
     "output_type": "stream",
     "text": [
      "                    variable  relative_importance  scaled_importance  \\\n",
      "0                rna_ZDHHC11             1.000000           1.000000   \n",
      "1                   rna_UXS1             0.986073           0.986073   \n",
      "2                 rna_KIRREL             0.981119           0.981119   \n",
      "3                 rna_PLXNA2             0.972651           0.972651   \n",
      "4              rna_LOC202181             0.967827           0.967827   \n",
      "...                      ...                  ...                ...   \n",
      "1617    mut_CUL9.missing(NA)             0.000000           0.000000   \n",
      "1618   mut_HSPG2.missing(NA)             0.000000           0.000000   \n",
      "1619  mut_LRRIQ1.missing(NA)             0.000000           0.000000   \n",
      "1620    mut_H6PD.missing(NA)             0.000000           0.000000   \n",
      "1621    mut_MAP2.missing(NA)             0.000000           0.000000   \n",
      "\n",
      "      percentage  \n",
      "0       0.000781  \n",
      "1       0.000770  \n",
      "2       0.000766  \n",
      "3       0.000760  \n",
      "4       0.000756  \n",
      "...          ...  \n",
      "1617    0.000000  \n",
      "1618    0.000000  \n",
      "1619    0.000000  \n",
      "1620    0.000000  \n",
      "1621    0.000000  \n",
      "\n",
      "[1622 rows x 4 columns]\n"
     ]
    }
   ],
   "source": [
    "variable_importance = fulvestrant_model.varimp(df[df[\"type\"] == \"Lung\"])\n",
    "print(variable_importance)"
   ]
  },
  {
   "cell_type": "code",
   "execution_count": 9,
   "id": "b708fa5b-c865-4c11-b75f-730c56c4aba1",
   "metadata": {
    "tags": []
   },
   "outputs": [
    {
     "name": "stdout",
     "output_type": "stream",
     "text": [
      "                    variable  relative_importance  scaled_importance  \\\n",
      "0                rna_ZDHHC11             1.000000           1.000000   \n",
      "1                   rna_UXS1             0.986073           0.986073   \n",
      "2                 rna_KIRREL             0.981119           0.981119   \n",
      "3                 rna_PLXNA2             0.972651           0.972651   \n",
      "4              rna_LOC202181             0.967827           0.967827   \n",
      "...                      ...                  ...                ...   \n",
      "1617    mut_CUL9.missing(NA)             0.000000           0.000000   \n",
      "1618   mut_HSPG2.missing(NA)             0.000000           0.000000   \n",
      "1619  mut_LRRIQ1.missing(NA)             0.000000           0.000000   \n",
      "1620    mut_H6PD.missing(NA)             0.000000           0.000000   \n",
      "1621    mut_MAP2.missing(NA)             0.000000           0.000000   \n",
      "\n",
      "      percentage  \n",
      "0       0.000781  \n",
      "1       0.000770  \n",
      "2       0.000766  \n",
      "3       0.000760  \n",
      "4       0.000756  \n",
      "...          ...  \n",
      "1617    0.000000  \n",
      "1618    0.000000  \n",
      "1619    0.000000  \n",
      "1620    0.000000  \n",
      "1621    0.000000  \n",
      "\n",
      "[1622 rows x 4 columns]\n"
     ]
    }
   ],
   "source": [
    "variable_importance = fulvestrant_model.varimp(df[df[\"type\"] == \"Blood\"])\n",
    "print(variable_importance)"
   ]
  },
  {
   "cell_type": "code",
   "execution_count": 10,
   "id": "0eae6724-1c41-414a-856b-a908103a0a7a",
   "metadata": {
    "tags": []
   },
   "outputs": [
    {
     "name": "stdout",
     "output_type": "stream",
     "text": [
      "                    variable  relative_importance  scaled_importance  \\\n",
      "0                rna_ZDHHC11             1.000000           1.000000   \n",
      "1                   rna_UXS1             0.986073           0.986073   \n",
      "2                 rna_KIRREL             0.981119           0.981119   \n",
      "3                 rna_PLXNA2             0.972651           0.972651   \n",
      "4              rna_LOC202181             0.967827           0.967827   \n",
      "...                      ...                  ...                ...   \n",
      "1617    mut_CUL9.missing(NA)             0.000000           0.000000   \n",
      "1618   mut_HSPG2.missing(NA)             0.000000           0.000000   \n",
      "1619  mut_LRRIQ1.missing(NA)             0.000000           0.000000   \n",
      "1620    mut_H6PD.missing(NA)             0.000000           0.000000   \n",
      "1621    mut_MAP2.missing(NA)             0.000000           0.000000   \n",
      "\n",
      "      percentage  \n",
      "0       0.000781  \n",
      "1       0.000770  \n",
      "2       0.000766  \n",
      "3       0.000760  \n",
      "4       0.000756  \n",
      "...          ...  \n",
      "1617    0.000000  \n",
      "1618    0.000000  \n",
      "1619    0.000000  \n",
      "1620    0.000000  \n",
      "1621    0.000000  \n",
      "\n",
      "[1622 rows x 4 columns]\n"
     ]
    }
   ],
   "source": [
    "variable_importance = fulvestrant_model.varimp(df[df[\"type\"] == \"Bowel\"])\n",
    "print(variable_importance)"
   ]
  },
  {
   "cell_type": "code",
   "execution_count": 11,
   "id": "a9644138-13d2-446d-bbb8-b0011cf608f9",
   "metadata": {
    "tags": []
   },
   "outputs": [
    {
     "name": "stdout",
     "output_type": "stream",
     "text": [
      "                    variable  relative_importance  scaled_importance  \\\n",
      "0                rna_ZDHHC11             1.000000           1.000000   \n",
      "1                   rna_UXS1             0.986073           0.986073   \n",
      "2                 rna_KIRREL             0.981119           0.981119   \n",
      "3                 rna_PLXNA2             0.972651           0.972651   \n",
      "4              rna_LOC202181             0.967827           0.967827   \n",
      "...                      ...                  ...                ...   \n",
      "1617    mut_CUL9.missing(NA)             0.000000           0.000000   \n",
      "1618   mut_HSPG2.missing(NA)             0.000000           0.000000   \n",
      "1619  mut_LRRIQ1.missing(NA)             0.000000           0.000000   \n",
      "1620    mut_H6PD.missing(NA)             0.000000           0.000000   \n",
      "1621    mut_MAP2.missing(NA)             0.000000           0.000000   \n",
      "\n",
      "      percentage  \n",
      "0       0.000781  \n",
      "1       0.000770  \n",
      "2       0.000766  \n",
      "3       0.000760  \n",
      "4       0.000756  \n",
      "...          ...  \n",
      "1617    0.000000  \n",
      "1618    0.000000  \n",
      "1619    0.000000  \n",
      "1620    0.000000  \n",
      "1621    0.000000  \n",
      "\n",
      "[1622 rows x 4 columns]\n"
     ]
    }
   ],
   "source": [
    "variable_importance = fulvestrant_model.varimp(df[df[\"type\"] == \"Kidney\"])\n",
    "print(variable_importance)"
   ]
  },
  {
   "cell_type": "code",
   "execution_count": 12,
   "id": "2c664ac0-8b4b-4552-ac67-66a9dbd2dbe1",
   "metadata": {
    "tags": []
   },
   "outputs": [
    {
     "name": "stdout",
     "output_type": "stream",
     "text": [
      "                    variable  relative_importance  scaled_importance  \\\n",
      "0                rna_ZDHHC11             1.000000           1.000000   \n",
      "1                   rna_UXS1             0.986073           0.986073   \n",
      "2                 rna_KIRREL             0.981119           0.981119   \n",
      "3                 rna_PLXNA2             0.972651           0.972651   \n",
      "4              rna_LOC202181             0.967827           0.967827   \n",
      "...                      ...                  ...                ...   \n",
      "1617    mut_CUL9.missing(NA)             0.000000           0.000000   \n",
      "1618   mut_HSPG2.missing(NA)             0.000000           0.000000   \n",
      "1619  mut_LRRIQ1.missing(NA)             0.000000           0.000000   \n",
      "1620    mut_H6PD.missing(NA)             0.000000           0.000000   \n",
      "1621    mut_MAP2.missing(NA)             0.000000           0.000000   \n",
      "\n",
      "      percentage  \n",
      "0       0.000781  \n",
      "1       0.000770  \n",
      "2       0.000766  \n",
      "3       0.000760  \n",
      "4       0.000756  \n",
      "...          ...  \n",
      "1617    0.000000  \n",
      "1618    0.000000  \n",
      "1619    0.000000  \n",
      "1620    0.000000  \n",
      "1621    0.000000  \n",
      "\n",
      "[1622 rows x 4 columns]\n"
     ]
    }
   ],
   "source": [
    "variable_importance = fulvestrant_model.varimp(df[df[\"type\"] == \"Prostate\"])\n",
    "print(variable_importance)"
   ]
  },
  {
   "cell_type": "code",
   "execution_count": 14,
   "id": "423b5cde-d2f6-4187-8791-a7201a8576ab",
   "metadata": {
    "tags": []
   },
   "outputs": [
    {
     "name": "stdout",
     "output_type": "stream",
     "text": [
      "                    variable  relative_importance  scaled_importance  \\\n",
      "0                rna_ZDHHC11             1.000000           1.000000   \n",
      "1                   rna_UXS1             0.986073           0.986073   \n",
      "2                 rna_KIRREL             0.981119           0.981119   \n",
      "3                 rna_PLXNA2             0.972651           0.972651   \n",
      "4              rna_LOC202181             0.967827           0.967827   \n",
      "...                      ...                  ...                ...   \n",
      "1617    mut_CUL9.missing(NA)             0.000000           0.000000   \n",
      "1618   mut_HSPG2.missing(NA)             0.000000           0.000000   \n",
      "1619  mut_LRRIQ1.missing(NA)             0.000000           0.000000   \n",
      "1620    mut_H6PD.missing(NA)             0.000000           0.000000   \n",
      "1621    mut_MAP2.missing(NA)             0.000000           0.000000   \n",
      "\n",
      "      percentage  \n",
      "0       0.000781  \n",
      "1       0.000770  \n",
      "2       0.000766  \n",
      "3       0.000760  \n",
      "4       0.000756  \n",
      "...          ...  \n",
      "1617    0.000000  \n",
      "1618    0.000000  \n",
      "1619    0.000000  \n",
      "1620    0.000000  \n",
      "1621    0.000000  \n",
      "\n",
      "[1622 rows x 4 columns]\n"
     ]
    }
   ],
   "source": [
    "variable_importance = fulvestrant_model.varimp(df[df[\"type\"] == \"Skin\"])\n",
    "print(variable_importance)"
   ]
  },
  {
   "cell_type": "code",
   "execution_count": null,
   "id": "2af76f71-f3a4-4140-90ac-6bbcedacea8f",
   "metadata": {},
   "outputs": [],
   "source": []
  },
  {
   "cell_type": "code",
   "execution_count": null,
   "id": "3b831326-58d8-467c-a2e9-1acd2117fbcc",
   "metadata": {},
   "outputs": [],
   "source": []
  }
 ],
 "metadata": {
  "kernelspec": {
   "display_name": "Python 3 (ipykernel)",
   "language": "python",
   "name": "python3"
  },
  "language_info": {
   "codemirror_mode": {
    "name": "ipython",
    "version": 3
   },
   "file_extension": ".py",
   "mimetype": "text/x-python",
   "name": "python",
   "nbconvert_exporter": "python",
   "pygments_lexer": "ipython3",
   "version": "3.10.12"
  }
 },
 "nbformat": 4,
 "nbformat_minor": 5
}
