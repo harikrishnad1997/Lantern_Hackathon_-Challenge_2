{
 "cells": [
  {
   "cell_type": "code",
   "execution_count": 26,
   "id": "4c2173e0-558f-4013-8bab-7d7f71e348b2",
   "metadata": {
    "tags": []
   },
   "outputs": [],
   "source": [
    "import warnings\n",
    "\n",
    "# Suppress all warnings\n",
    "warnings.filterwarnings(\"ignore\")\n",
    "\n",
    "# Reset the warning filter to its original state\n",
    "warnings.resetwarnings()\n"
   ]
  },
  {
   "cell_type": "code",
   "execution_count": 27,
   "id": "b7bd0ecf-d88b-4be0-9c1c-a824a0c056f4",
   "metadata": {
    "tags": []
   },
   "outputs": [
    {
     "name": "stdout",
     "output_type": "stream",
     "text": [
      "Checking whether there is an H2O instance running at http://localhost:54321. connected.\n"
     ]
    },
    {
     "data": {
      "text/html": [
       "\n",
       "<style>\n",
       "\n",
       "#h2o-table-2.h2o-container {\n",
       "  overflow-x: auto;\n",
       "}\n",
       "#h2o-table-2 .h2o-table {\n",
       "  /* width: 100%; */\n",
       "  margin-top: 1em;\n",
       "  margin-bottom: 1em;\n",
       "}\n",
       "#h2o-table-2 .h2o-table caption {\n",
       "  white-space: nowrap;\n",
       "  caption-side: top;\n",
       "  text-align: left;\n",
       "  /* margin-left: 1em; */\n",
       "  margin: 0;\n",
       "  font-size: larger;\n",
       "}\n",
       "#h2o-table-2 .h2o-table thead {\n",
       "  white-space: nowrap; \n",
       "  position: sticky;\n",
       "  top: 0;\n",
       "  box-shadow: 0 -1px inset;\n",
       "}\n",
       "#h2o-table-2 .h2o-table tbody {\n",
       "  overflow: auto;\n",
       "}\n",
       "#h2o-table-2 .h2o-table th,\n",
       "#h2o-table-2 .h2o-table td {\n",
       "  text-align: right;\n",
       "  /* border: 1px solid; */\n",
       "}\n",
       "#h2o-table-2 .h2o-table tr:nth-child(even) {\n",
       "  /* background: #F5F5F5 */\n",
       "}\n",
       "\n",
       "</style>      \n",
       "<div id=\"h2o-table-2\" class=\"h2o-container\">\n",
       "  <table class=\"h2o-table\">\n",
       "    <caption></caption>\n",
       "    <thead></thead>\n",
       "    <tbody><tr><td>H2O_cluster_uptime:</td>\n",
       "<td>36 mins 42 secs</td></tr>\n",
       "<tr><td>H2O_cluster_timezone:</td>\n",
       "<td>Etc/UTC</td></tr>\n",
       "<tr><td>H2O_data_parsing_timezone:</td>\n",
       "<td>UTC</td></tr>\n",
       "<tr><td>H2O_cluster_version:</td>\n",
       "<td>3.44.0.2</td></tr>\n",
       "<tr><td>H2O_cluster_version_age:</td>\n",
       "<td>11 days</td></tr>\n",
       "<tr><td>H2O_cluster_name:</td>\n",
       "<td>H2O_from_python_unknownUser_mfii72</td></tr>\n",
       "<tr><td>H2O_cluster_total_nodes:</td>\n",
       "<td>1</td></tr>\n",
       "<tr><td>H2O_cluster_free_memory:</td>\n",
       "<td>13.31 Gb</td></tr>\n",
       "<tr><td>H2O_cluster_total_cores:</td>\n",
       "<td>8</td></tr>\n",
       "<tr><td>H2O_cluster_allowed_cores:</td>\n",
       "<td>8</td></tr>\n",
       "<tr><td>H2O_cluster_status:</td>\n",
       "<td>locked, healthy</td></tr>\n",
       "<tr><td>H2O_connection_url:</td>\n",
       "<td>http://localhost:54321</td></tr>\n",
       "<tr><td>H2O_connection_proxy:</td>\n",
       "<td>{\"http\": null, \"https\": null}</td></tr>\n",
       "<tr><td>H2O_internal_security:</td>\n",
       "<td>False</td></tr>\n",
       "<tr><td>Python_version:</td>\n",
       "<td>3.10.12 final</td></tr></tbody>\n",
       "  </table>\n",
       "</div>\n"
      ],
      "text/plain": [
       "--------------------------  ----------------------------------\n",
       "H2O_cluster_uptime:         36 mins 42 secs\n",
       "H2O_cluster_timezone:       Etc/UTC\n",
       "H2O_data_parsing_timezone:  UTC\n",
       "H2O_cluster_version:        3.44.0.2\n",
       "H2O_cluster_version_age:    11 days\n",
       "H2O_cluster_name:           H2O_from_python_unknownUser_mfii72\n",
       "H2O_cluster_total_nodes:    1\n",
       "H2O_cluster_free_memory:    13.31 Gb\n",
       "H2O_cluster_total_cores:    8\n",
       "H2O_cluster_allowed_cores:  8\n",
       "H2O_cluster_status:         locked, healthy\n",
       "H2O_connection_url:         http://localhost:54321\n",
       "H2O_connection_proxy:       {\"http\": null, \"https\": null}\n",
       "H2O_internal_security:      False\n",
       "Python_version:             3.10.12 final\n",
       "--------------------------  ----------------------------------"
      ]
     },
     "metadata": {},
     "output_type": "display_data"
    }
   ],
   "source": [
    "import pandas as pd\n",
    "import h2o\n",
    "h2o.init()"
   ]
  },
  {
   "cell_type": "code",
   "execution_count": 28,
   "id": "8323e12f-3633-443c-9c6a-9c758d00c4b9",
   "metadata": {
    "tags": []
   },
   "outputs": [],
   "source": [
    "model_path = \"/root/capsule/code/Fulvestrant/DeepLearning_grid_3_AutoML_3_20231119_81736_model_12\"\n",
    "fulvestrant_model = h2o.load_model(model_path)"
   ]
  },
  {
   "cell_type": "code",
   "execution_count": 29,
   "id": "5fc21b20-dc5e-45f2-8bd6-02e612630de8",
   "metadata": {},
   "outputs": [
    {
     "name": "stdout",
     "output_type": "stream",
     "text": [
      "Parse progress: |████████████████████████████████████████████████████████████████| (done) 100%\n"
     ]
    },
    {
     "data": {
      "text/plain": [
       "(48, 1602)"
      ]
     },
     "execution_count": 29,
     "metadata": {},
     "output_type": "execute_result"
    }
   ],
   "source": [
    "df = h2o.import_file(path=\"Fulvestrant_final.csv\")\n",
    "df.shape"
   ]
  },
  {
   "cell_type": "code",
   "execution_count": 30,
   "id": "aac13c73-e5e6-438c-858d-8231d838de22",
   "metadata": {
    "tags": []
   },
   "outputs": [
    {
     "data": {
      "text/html": [
       "<table class='dataframe'>\n",
       "<thead>\n",
       "<tr><th>type    </th></tr>\n",
       "</thead>\n",
       "<tbody>\n",
       "<tr><td>Breast  </td></tr>\n",
       "<tr><td>Breast  </td></tr>\n",
       "<tr><td>Breast  </td></tr>\n",
       "<tr><td>Breast  </td></tr>\n",
       "<tr><td>Breast  </td></tr>\n",
       "<tr><td>BrainCNS</td></tr>\n",
       "<tr><td>BrainCNS</td></tr>\n",
       "<tr><td>BrainCNS</td></tr>\n",
       "<tr><td>BrainCNS</td></tr>\n",
       "<tr><td>BrainCNS</td></tr>\n",
       "</tbody>\n",
       "</table><pre style='font-size: smaller; margin-bottom: 1em;'>[10 rows x 1 column]</pre>"
      ],
      "text/plain": [
       "type\n",
       "--------\n",
       "Breast\n",
       "Breast\n",
       "Breast\n",
       "Breast\n",
       "Breast\n",
       "BrainCNS\n",
       "BrainCNS\n",
       "BrainCNS\n",
       "BrainCNS\n",
       "BrainCNS\n",
       "[10 rows x 1 column]\n"
      ]
     },
     "execution_count": 30,
     "metadata": {},
     "output_type": "execute_result"
    }
   ],
   "source": [
    "df[\"type\"].head()"
   ]
  },
  {
   "cell_type": "code",
   "execution_count": 31,
   "id": "20a4a16b-13cd-46a3-b532-48bfb03f8f56",
   "metadata": {
    "tags": []
   },
   "outputs": [
    {
     "name": "stdout",
     "output_type": "stream",
     "text": [
      "Parse progress: |████████████████████████████████████████████████████████████████| (done) 100%\n"
     ]
    },
    {
     "data": {
      "text/html": [
       "<table class='dataframe'>\n",
       "<thead>\n",
       "<tr><th>index          </th><th>type    </th><th style=\"text-align: right;\">  mut_C1orf222</th><th style=\"text-align: right;\">  mut_CAMTA1</th><th style=\"text-align: right;\">  mut_H6PD</th><th style=\"text-align: right;\">  mut_SPEN</th><th style=\"text-align: right;\">  mut_HSPG2</th><th style=\"text-align: right;\">  mut_ARID1A</th><th style=\"text-align: right;\">  mut_ZSCAN20</th><th style=\"text-align: right;\">  mut_CSMD2</th><th style=\"text-align: right;\">  mut_MACF1</th><th style=\"text-align: right;\">  mut_CDCP2</th><th style=\"text-align: right;\">  mut_LRRC7</th><th style=\"text-align: right;\">  mut_ADGRL2</th><th style=\"text-align: right;\">  mut_COL11A1</th><th style=\"text-align: right;\">  mut_CHI3L2</th><th style=\"text-align: right;\">  mut_OVGP1</th><th style=\"text-align: right;\">  mut_NOTCH2</th><th style=\"text-align: right;\">  mut_PDE4DIP</th><th style=\"text-align: right;\">  mut_OTUD7B</th><th style=\"text-align: right;\">  mut_RHBG</th><th style=\"text-align: right;\">  mut_SPTA1</th><th style=\"text-align: right;\">  mut_BRINP3</th><th style=\"text-align: right;\">  mut_ASPM</th><th style=\"text-align: right;\">  mut_CRB1</th><th style=\"text-align: right;\">  mut_CACNA1S</th><th style=\"text-align: right;\">  mut_USH2A</th><th style=\"text-align: right;\">  mut_ITPKB</th><th style=\"text-align: right;\">  mut_APOB</th><th style=\"text-align: right;\">  mut_LTBP1</th><th style=\"text-align: right;\">  mut_PRKD3</th><th style=\"text-align: right;\">  mut_PREPL</th><th style=\"text-align: right;\">  mut_EPAS1</th><th style=\"text-align: right;\">  mut_SPTBN1</th><th style=\"text-align: right;\">  mut_USP34</th><th style=\"text-align: right;\">  mut_ALMS1</th><th style=\"text-align: right;\">  mut_IL1R2</th><th style=\"text-align: right;\">  mut_LCT</th><th style=\"text-align: right;\">  mut_LRP1B</th><th style=\"text-align: right;\">  mut_GALNT13</th><th style=\"text-align: right;\">  mut_TANC1</th><th style=\"text-align: right;\">  mut_SCN2A</th><th style=\"text-align: right;\">  mut_XIRP2</th><th style=\"text-align: right;\">  mut_LRP2</th><th style=\"text-align: right;\">  mut_SCRN3</th><th style=\"text-align: right;\">  mut_TTN</th><th style=\"text-align: right;\">  mut_DNAH7</th><th style=\"text-align: right;\">  mut_MAP2</th><th style=\"text-align: right;\">  mut_ERBB4</th><th style=\"text-align: right;\">  mut_ABCA12</th><th style=\"text-align: right;\">  mut_FN1</th><th style=\"text-align: right;\">  mut_COL4A4</th><th style=\"text-align: right;\">  mut_COL4A3</th><th style=\"text-align: right;\">  mut_COL6A3</th><th style=\"text-align: right;\">  mut_NUP210</th><th style=\"text-align: right;\">  mut_XIRP1</th><th style=\"text-align: right;\">  mut_SETD2</th><th style=\"text-align: right;\">  mut_COL7A1</th><th style=\"text-align: right;\">  mut_CELSR3</th><th style=\"text-align: right;\">  mut_MAGI1</th><th style=\"text-align: right;\">  mut_OR5K3</th><th style=\"text-align: right;\">  mut_DZIP3</th><th style=\"text-align: right;\">  mut_RETNLB</th><th style=\"text-align: right;\">  mut_POLQ</th><th style=\"text-align: right;\">  mut_KALRN</th><th style=\"text-align: right;\">  mut_CEP70</th><th style=\"text-align: right;\">  mut_WWTR1</th><th style=\"text-align: right;\">  mut_HTR3E</th><th style=\"text-align: right;\">  mut_SLIT2</th><th style=\"text-align: right;\">  mut_CWH43</th><th style=\"text-align: right;\">  mut_ANK2</th><th style=\"text-align: right;\">  mut_KIAA1109</th><th style=\"text-align: right;\">  mut_FAT4</th><th style=\"text-align: right;\">  mut_PCDH10</th><th style=\"text-align: right;\">  mut_DCHS2</th><th style=\"text-align: right;\">  mut_ADAMTS16</th><th style=\"text-align: right;\">  mut_CTNND2</th><th style=\"text-align: right;\">  mut_DNAH5</th><th style=\"text-align: right;\">  mut_CDH10</th><th style=\"text-align: right;\">  mut_CDH6</th><th style=\"text-align: right;\">  mut_PDZD2</th><th style=\"text-align: right;\">  mut_NIPBL</th><th style=\"text-align: right;\">  mut_LIFR</th><th style=\"text-align: right;\">  mut_BDP1</th><th style=\"text-align: right;\">  mut_ZNF366</th><th style=\"text-align: right;\">  mut_DMGDH</th><th style=\"text-align: right;\">  mut_VCAN</th><th style=\"text-align: right;\">  mut_APC</th><th style=\"text-align: right;\">  mut_ZNF474</th><th style=\"text-align: right;\">  mut_FBN2</th><th style=\"text-align: right;\">  mut_ADAMTS19</th><th style=\"text-align: right;\">  mut_SPINK5</th><th style=\"text-align: right;\">  mut_FAT2</th><th style=\"text-align: right;\">  mut_DOCK2</th><th style=\"text-align: right;\">  mut_OR2V2</th><th style=\"text-align: right;\">  mut_DNAH8</th><th style=\"text-align: right;\">  mut_CUL9</th><th style=\"text-align: right;\">  mut_ZNF318</th><th style=\"text-align: right;\">  mut_PKHD1</th><th style=\"text-align: right;\">  mut_COL12A1</th><th style=\"text-align: right;\">  mut_MDN1</th><th style=\"text-align: right;\">  mut_PTPRK</th><th style=\"text-align: right;\">  mut_HIVEP2</th><th style=\"text-align: right;\">  mut_SYNE1</th><th style=\"text-align: right;\">  mut_MICALL2</th><th style=\"text-align: right;\">  mut_PKD1L1</th><th style=\"text-align: right;\">  mut_ZNF804B</th><th style=\"text-align: right;\">  mut_RELN</th><th style=\"text-align: right;\">  mut_LAMB4</th><th style=\"text-align: right;\">  mut_PPP1R3A</th><th style=\"text-align: right;\">  mut_PTPRZ1</th><th style=\"text-align: right;\">  mut_ASB15</th><th style=\"text-align: right;\">  mut_PLXNA4</th><th style=\"text-align: right;\">  mut_BRAF</th><th style=\"text-align: right;\">  mut_CNTNAP2</th><th style=\"text-align: right;\">  mut_KMT2C</th><th style=\"text-align: right;\">  mut_TEX15</th><th style=\"text-align: right;\">  mut_RP1</th><th style=\"text-align: right;\">  mut_PREX2</th><th style=\"text-align: right;\">  mut_RIMS2</th><th style=\"text-align: right;\">  mut_CSMD3</th><th style=\"text-align: right;\">  mut_FER1L6</th><th style=\"text-align: right;\">  mut_TG</th><th style=\"text-align: right;\">  mut_FAM135B</th><th style=\"text-align: right;\">  mut_COL22A1</th><th style=\"text-align: right;\">  mut_PLEC</th><th style=\"text-align: right;\">  mut_CER1</th><th style=\"text-align: right;\">  mut_TEK</th><th style=\"text-align: right;\">  mut_TRPM6</th><th style=\"text-align: right;\">  mut_ROR2</th><th style=\"text-align: right;\">  mut_ZNF462</th><th style=\"text-align: right;\">  mut_CCDC7</th><th style=\"text-align: right;\">  mut_RBP3</th><th style=\"text-align: right;\">  mut_PCDH15</th><th style=\"text-align: right;\">  mut_ANK3</th><th style=\"text-align: right;\">  mut_KAT6B</th><th style=\"text-align: right;\">  mut_SORCS3</th><th style=\"text-align: right;\">  mut_ATRNL1</th><th style=\"text-align: right;\">  mut_TACC2</th><th style=\"text-align: right;\">  mut_OR52D1</th><th style=\"text-align: right;\">  mut_OR52N1</th><th style=\"text-align: right;\">  mut_OR5L2</th><th style=\"text-align: right;\">  mut_TNKS1BP1</th><th style=\"text-align: right;\">  mut_AHNAK</th><th style=\"text-align: right;\">  mut_NRXN2</th><th style=\"text-align: right;\">  mut_C2CD3</th><th style=\"text-align: right;\">  mut_GUCY1A2</th><th style=\"text-align: right;\">  mut_TECTA</th><th style=\"text-align: right;\">  mut_SORL1</th><th style=\"text-align: right;\">  mut_AKAP3</th><th style=\"text-align: right;\">  mut_C12orf60</th><th style=\"text-align: right;\">  mut_KRAS</th><th style=\"text-align: right;\">  mut_KIF21A</th><th style=\"text-align: right;\">  mut_LRRK2</th><th style=\"text-align: right;\">  mut_COL2A1</th><th style=\"text-align: right;\">  mut_LRP1</th><th style=\"text-align: right;\">  mut_GLI1</th><th style=\"text-align: right;\">  mut_TRHDE</th><th style=\"text-align: right;\">  mut_LRRIQ1</th><th style=\"text-align: right;\">  mut_GNPTAB</th><th style=\"text-align: right;\">  mut_CIT</th><th style=\"text-align: right;\">  mut_KDM2B</th><th style=\"text-align: right;\">  mut_SBNO1</th><th style=\"text-align: right;\">  mut_SACS</th><th style=\"text-align: right;\">  mut_FLT3</th><th style=\"text-align: right;\">  mut_FLT1</th><th style=\"text-align: right;\">  mut_RXFP2</th><th style=\"text-align: right;\">  mut_FREM2</th><th style=\"text-align: right;\">  mut_ZC3H13</th><th style=\"text-align: right;\">  mut_PCDH9</th><th style=\"text-align: right;\">  mut_FANCM</th><th style=\"text-align: right;\">  mut_KCNH5</th><th style=\"text-align: right;\">  mut_SYNE2</th><th style=\"text-align: right;\">  mut_SLC8A3</th><th style=\"text-align: right;\">  mut_NRXN3</th><th style=\"text-align: right;\">  mut_UNC79</th><th style=\"text-align: right;\">  mut_HERC2</th><th style=\"text-align: right;\">  mut_DMXL2</th><th style=\"text-align: right;\">  mut_MYO9A</th><th style=\"text-align: right;\">  mut_ALPK3</th><th style=\"text-align: right;\">  mut_AKAP13</th><th style=\"text-align: right;\">  mut_DNAH3</th><th style=\"text-align: right;\">  mut_KCTD19</th><th style=\"text-align: right;\">  mut_TP53</th><th style=\"text-align: right;\">  mut_DNAH2</th><th style=\"text-align: right;\">  mut_MYH1</th><th style=\"text-align: right;\">  mut_MYH2</th><th style=\"text-align: right;\">  mut_DNAH9</th><th style=\"text-align: right;\">  mut_GPR179</th><th style=\"text-align: right;\">  mut_SPAG9</th><th style=\"text-align: right;\">  mut_BZRAP1</th><th style=\"text-align: right;\">  mut_CLTC</th><th style=\"text-align: right;\">  mut_ABCA8</th><th style=\"text-align: right;\">  mut_ABCA10</th><th style=\"text-align: right;\">  mut_LAMA1</th><th style=\"text-align: right;\">  mut_LAMA3</th><th style=\"text-align: right;\">  mut_ALPK2</th><th style=\"text-align: right;\">  mut_RTTN</th><th style=\"text-align: right;\">  mut_TMPRSS9</th><th style=\"text-align: right;\">  mut_ZNF527</th></tr>\n",
       "</thead>\n",
       "<tbody>\n",
       "<tr><td>BrainCNS_VFF746</td><td>BrainCNS</td><td style=\"text-align: right;\">             0</td><td style=\"text-align: right;\">           0</td><td style=\"text-align: right;\">         0</td><td style=\"text-align: right;\">         0</td><td style=\"text-align: right;\">          0</td><td style=\"text-align: right;\">           0</td><td style=\"text-align: right;\">            0</td><td style=\"text-align: right;\">          1</td><td style=\"text-align: right;\">          0</td><td style=\"text-align: right;\">          0</td><td style=\"text-align: right;\">          0</td><td style=\"text-align: right;\">           0</td><td style=\"text-align: right;\">            0</td><td style=\"text-align: right;\">           0</td><td style=\"text-align: right;\">          0</td><td style=\"text-align: right;\">           0</td><td style=\"text-align: right;\">            0</td><td style=\"text-align: right;\">           0</td><td style=\"text-align: right;\">         0</td><td style=\"text-align: right;\">          0</td><td style=\"text-align: right;\">           0</td><td style=\"text-align: right;\">         0</td><td style=\"text-align: right;\">         0</td><td style=\"text-align: right;\">            0</td><td style=\"text-align: right;\">          0</td><td style=\"text-align: right;\">          0</td><td style=\"text-align: right;\">         0</td><td style=\"text-align: right;\">          0</td><td style=\"text-align: right;\">          0</td><td style=\"text-align: right;\">          0</td><td style=\"text-align: right;\">          0</td><td style=\"text-align: right;\">           0</td><td style=\"text-align: right;\">          0</td><td style=\"text-align: right;\">          0</td><td style=\"text-align: right;\">          0</td><td style=\"text-align: right;\">        0</td><td style=\"text-align: right;\">          0</td><td style=\"text-align: right;\">            0</td><td style=\"text-align: right;\">          0</td><td style=\"text-align: right;\">          0</td><td style=\"text-align: right;\">          0</td><td style=\"text-align: right;\">         0</td><td style=\"text-align: right;\">          0</td><td style=\"text-align: right;\">        0</td><td style=\"text-align: right;\">          0</td><td style=\"text-align: right;\">         0</td><td style=\"text-align: right;\">          0</td><td style=\"text-align: right;\">           0</td><td style=\"text-align: right;\">        0</td><td style=\"text-align: right;\">           0</td><td style=\"text-align: right;\">           0</td><td style=\"text-align: right;\">           1</td><td style=\"text-align: right;\">           0</td><td style=\"text-align: right;\">          1</td><td style=\"text-align: right;\">          0</td><td style=\"text-align: right;\">           0</td><td style=\"text-align: right;\">           0</td><td style=\"text-align: right;\">          0</td><td style=\"text-align: right;\">          1</td><td style=\"text-align: right;\">          0</td><td style=\"text-align: right;\">           0</td><td style=\"text-align: right;\">         0</td><td style=\"text-align: right;\">          0</td><td style=\"text-align: right;\">          0</td><td style=\"text-align: right;\">          0</td><td style=\"text-align: right;\">          0</td><td style=\"text-align: right;\">          0</td><td style=\"text-align: right;\">          0</td><td style=\"text-align: right;\">         0</td><td style=\"text-align: right;\">             0</td><td style=\"text-align: right;\">         0</td><td style=\"text-align: right;\">           0</td><td style=\"text-align: right;\">          0</td><td style=\"text-align: right;\">             0</td><td style=\"text-align: right;\">           0</td><td style=\"text-align: right;\">          0</td><td style=\"text-align: right;\">          0</td><td style=\"text-align: right;\">         0</td><td style=\"text-align: right;\">          0</td><td style=\"text-align: right;\">          0</td><td style=\"text-align: right;\">         0</td><td style=\"text-align: right;\">         0</td><td style=\"text-align: right;\">           0</td><td style=\"text-align: right;\">          0</td><td style=\"text-align: right;\">         0</td><td style=\"text-align: right;\">        0</td><td style=\"text-align: right;\">           0</td><td style=\"text-align: right;\">         0</td><td style=\"text-align: right;\">             0</td><td style=\"text-align: right;\">           0</td><td style=\"text-align: right;\">         0</td><td style=\"text-align: right;\">          0</td><td style=\"text-align: right;\">          0</td><td style=\"text-align: right;\">          0</td><td style=\"text-align: right;\">         0</td><td style=\"text-align: right;\">           0</td><td style=\"text-align: right;\">          0</td><td style=\"text-align: right;\">            0</td><td style=\"text-align: right;\">         0</td><td style=\"text-align: right;\">          0</td><td style=\"text-align: right;\">           0</td><td style=\"text-align: right;\">          0</td><td style=\"text-align: right;\">            0</td><td style=\"text-align: right;\">           0</td><td style=\"text-align: right;\">            0</td><td style=\"text-align: right;\">         0</td><td style=\"text-align: right;\">          0</td><td style=\"text-align: right;\">            0</td><td style=\"text-align: right;\">           0</td><td style=\"text-align: right;\">          1</td><td style=\"text-align: right;\">           0</td><td style=\"text-align: right;\">         0</td><td style=\"text-align: right;\">            0</td><td style=\"text-align: right;\">          1</td><td style=\"text-align: right;\">          0</td><td style=\"text-align: right;\">        0</td><td style=\"text-align: right;\">          0</td><td style=\"text-align: right;\">          0</td><td style=\"text-align: right;\">          0</td><td style=\"text-align: right;\">           0</td><td style=\"text-align: right;\">       0</td><td style=\"text-align: right;\">            0</td><td style=\"text-align: right;\">            0</td><td style=\"text-align: right;\">         0</td><td style=\"text-align: right;\">         0</td><td style=\"text-align: right;\">        0</td><td style=\"text-align: right;\">          0</td><td style=\"text-align: right;\">         0</td><td style=\"text-align: right;\">           1</td><td style=\"text-align: right;\">          0</td><td style=\"text-align: right;\">         0</td><td style=\"text-align: right;\">           0</td><td style=\"text-align: right;\">         0</td><td style=\"text-align: right;\">          0</td><td style=\"text-align: right;\">           0</td><td style=\"text-align: right;\">           0</td><td style=\"text-align: right;\">          0</td><td style=\"text-align: right;\">           0</td><td style=\"text-align: right;\">           0</td><td style=\"text-align: right;\">          0</td><td style=\"text-align: right;\">             0</td><td style=\"text-align: right;\">          0</td><td style=\"text-align: right;\">          0</td><td style=\"text-align: right;\">          0</td><td style=\"text-align: right;\">            0</td><td style=\"text-align: right;\">          0</td><td style=\"text-align: right;\">          0</td><td style=\"text-align: right;\">          0</td><td style=\"text-align: right;\">             1</td><td style=\"text-align: right;\">         0</td><td style=\"text-align: right;\">           1</td><td style=\"text-align: right;\">          0</td><td style=\"text-align: right;\">           0</td><td style=\"text-align: right;\">         0</td><td style=\"text-align: right;\">         0</td><td style=\"text-align: right;\">          0</td><td style=\"text-align: right;\">           0</td><td style=\"text-align: right;\">           0</td><td style=\"text-align: right;\">        0</td><td style=\"text-align: right;\">          0</td><td style=\"text-align: right;\">          0</td><td style=\"text-align: right;\">         0</td><td style=\"text-align: right;\">         0</td><td style=\"text-align: right;\">         0</td><td style=\"text-align: right;\">          0</td><td style=\"text-align: right;\">          0</td><td style=\"text-align: right;\">           0</td><td style=\"text-align: right;\">          0</td><td style=\"text-align: right;\">          0</td><td style=\"text-align: right;\">          0</td><td style=\"text-align: right;\">          0</td><td style=\"text-align: right;\">           0</td><td style=\"text-align: right;\">          0</td><td style=\"text-align: right;\">          0</td><td style=\"text-align: right;\">          0</td><td style=\"text-align: right;\">          0</td><td style=\"text-align: right;\">          0</td><td style=\"text-align: right;\">          0</td><td style=\"text-align: right;\">           0</td><td style=\"text-align: right;\">          0</td><td style=\"text-align: right;\">           0</td><td style=\"text-align: right;\">         0</td><td style=\"text-align: right;\">          0</td><td style=\"text-align: right;\">         0</td><td style=\"text-align: right;\">         0</td><td style=\"text-align: right;\">          0</td><td style=\"text-align: right;\">           0</td><td style=\"text-align: right;\">          0</td><td style=\"text-align: right;\">           0</td><td style=\"text-align: right;\">         0</td><td style=\"text-align: right;\">          0</td><td style=\"text-align: right;\">           0</td><td style=\"text-align: right;\">          0</td><td style=\"text-align: right;\">          0</td><td style=\"text-align: right;\">          0</td><td style=\"text-align: right;\">         0</td><td style=\"text-align: right;\">            0</td><td style=\"text-align: right;\">           0</td></tr>\n",
       "<tr><td>Bowel_KI64     </td><td>Bowel   </td><td style=\"text-align: right;\">             1</td><td style=\"text-align: right;\">           1</td><td style=\"text-align: right;\">         1</td><td style=\"text-align: right;\">         0</td><td style=\"text-align: right;\">          0</td><td style=\"text-align: right;\">           0</td><td style=\"text-align: right;\">            0</td><td style=\"text-align: right;\">          1</td><td style=\"text-align: right;\">          1</td><td style=\"text-align: right;\">          1</td><td style=\"text-align: right;\">          0</td><td style=\"text-align: right;\">           1</td><td style=\"text-align: right;\">            1</td><td style=\"text-align: right;\">           0</td><td style=\"text-align: right;\">          1</td><td style=\"text-align: right;\">           0</td><td style=\"text-align: right;\">            0</td><td style=\"text-align: right;\">           1</td><td style=\"text-align: right;\">         0</td><td style=\"text-align: right;\">          1</td><td style=\"text-align: right;\">           1</td><td style=\"text-align: right;\">         1</td><td style=\"text-align: right;\">         1</td><td style=\"text-align: right;\">            1</td><td style=\"text-align: right;\">          1</td><td style=\"text-align: right;\">          1</td><td style=\"text-align: right;\">         1</td><td style=\"text-align: right;\">          0</td><td style=\"text-align: right;\">          1</td><td style=\"text-align: right;\">          1</td><td style=\"text-align: right;\">          0</td><td style=\"text-align: right;\">           0</td><td style=\"text-align: right;\">          1</td><td style=\"text-align: right;\">          1</td><td style=\"text-align: right;\">          0</td><td style=\"text-align: right;\">        1</td><td style=\"text-align: right;\">          1</td><td style=\"text-align: right;\">            1</td><td style=\"text-align: right;\">          1</td><td style=\"text-align: right;\">          1</td><td style=\"text-align: right;\">          0</td><td style=\"text-align: right;\">         1</td><td style=\"text-align: right;\">          0</td><td style=\"text-align: right;\">        1</td><td style=\"text-align: right;\">          1</td><td style=\"text-align: right;\">         0</td><td style=\"text-align: right;\">          1</td><td style=\"text-align: right;\">           1</td><td style=\"text-align: right;\">        1</td><td style=\"text-align: right;\">           0</td><td style=\"text-align: right;\">           1</td><td style=\"text-align: right;\">           0</td><td style=\"text-align: right;\">           1</td><td style=\"text-align: right;\">          0</td><td style=\"text-align: right;\">          1</td><td style=\"text-align: right;\">           1</td><td style=\"text-align: right;\">           1</td><td style=\"text-align: right;\">          1</td><td style=\"text-align: right;\">          0</td><td style=\"text-align: right;\">          0</td><td style=\"text-align: right;\">           0</td><td style=\"text-align: right;\">         1</td><td style=\"text-align: right;\">          0</td><td style=\"text-align: right;\">          0</td><td style=\"text-align: right;\">          0</td><td style=\"text-align: right;\">          0</td><td style=\"text-align: right;\">          1</td><td style=\"text-align: right;\">          0</td><td style=\"text-align: right;\">         0</td><td style=\"text-align: right;\">             1</td><td style=\"text-align: right;\">         1</td><td style=\"text-align: right;\">           1</td><td style=\"text-align: right;\">          1</td><td style=\"text-align: right;\">             0</td><td style=\"text-align: right;\">           1</td><td style=\"text-align: right;\">          1</td><td style=\"text-align: right;\">          0</td><td style=\"text-align: right;\">         1</td><td style=\"text-align: right;\">          0</td><td style=\"text-align: right;\">          0</td><td style=\"text-align: right;\">         1</td><td style=\"text-align: right;\">         1</td><td style=\"text-align: right;\">           1</td><td style=\"text-align: right;\">          0</td><td style=\"text-align: right;\">         1</td><td style=\"text-align: right;\">        1</td><td style=\"text-align: right;\">           0</td><td style=\"text-align: right;\">         1</td><td style=\"text-align: right;\">             0</td><td style=\"text-align: right;\">           1</td><td style=\"text-align: right;\">         1</td><td style=\"text-align: right;\">          1</td><td style=\"text-align: right;\">          0</td><td style=\"text-align: right;\">          1</td><td style=\"text-align: right;\">         0</td><td style=\"text-align: right;\">           0</td><td style=\"text-align: right;\">          1</td><td style=\"text-align: right;\">            1</td><td style=\"text-align: right;\">         1</td><td style=\"text-align: right;\">          0</td><td style=\"text-align: right;\">           1</td><td style=\"text-align: right;\">          1</td><td style=\"text-align: right;\">            1</td><td style=\"text-align: right;\">           1</td><td style=\"text-align: right;\">            1</td><td style=\"text-align: right;\">         1</td><td style=\"text-align: right;\">          0</td><td style=\"text-align: right;\">            0</td><td style=\"text-align: right;\">           1</td><td style=\"text-align: right;\">          0</td><td style=\"text-align: right;\">           0</td><td style=\"text-align: right;\">         0</td><td style=\"text-align: right;\">            1</td><td style=\"text-align: right;\">          1</td><td style=\"text-align: right;\">          0</td><td style=\"text-align: right;\">        1</td><td style=\"text-align: right;\">          1</td><td style=\"text-align: right;\">          1</td><td style=\"text-align: right;\">          1</td><td style=\"text-align: right;\">           1</td><td style=\"text-align: right;\">       1</td><td style=\"text-align: right;\">            1</td><td style=\"text-align: right;\">            0</td><td style=\"text-align: right;\">         1</td><td style=\"text-align: right;\">         1</td><td style=\"text-align: right;\">        1</td><td style=\"text-align: right;\">          1</td><td style=\"text-align: right;\">         1</td><td style=\"text-align: right;\">           1</td><td style=\"text-align: right;\">          0</td><td style=\"text-align: right;\">         1</td><td style=\"text-align: right;\">           0</td><td style=\"text-align: right;\">         1</td><td style=\"text-align: right;\">          1</td><td style=\"text-align: right;\">           1</td><td style=\"text-align: right;\">           0</td><td style=\"text-align: right;\">          0</td><td style=\"text-align: right;\">           0</td><td style=\"text-align: right;\">           0</td><td style=\"text-align: right;\">          1</td><td style=\"text-align: right;\">             1</td><td style=\"text-align: right;\">          1</td><td style=\"text-align: right;\">          1</td><td style=\"text-align: right;\">          1</td><td style=\"text-align: right;\">            1</td><td style=\"text-align: right;\">          1</td><td style=\"text-align: right;\">          1</td><td style=\"text-align: right;\">          0</td><td style=\"text-align: right;\">             0</td><td style=\"text-align: right;\">         1</td><td style=\"text-align: right;\">           0</td><td style=\"text-align: right;\">          1</td><td style=\"text-align: right;\">           1</td><td style=\"text-align: right;\">         1</td><td style=\"text-align: right;\">         1</td><td style=\"text-align: right;\">          1</td><td style=\"text-align: right;\">           0</td><td style=\"text-align: right;\">           1</td><td style=\"text-align: right;\">        1</td><td style=\"text-align: right;\">          0</td><td style=\"text-align: right;\">          0</td><td style=\"text-align: right;\">         1</td><td style=\"text-align: right;\">         0</td><td style=\"text-align: right;\">         0</td><td style=\"text-align: right;\">          1</td><td style=\"text-align: right;\">          1</td><td style=\"text-align: right;\">           1</td><td style=\"text-align: right;\">          1</td><td style=\"text-align: right;\">          1</td><td style=\"text-align: right;\">          0</td><td style=\"text-align: right;\">          1</td><td style=\"text-align: right;\">           0</td><td style=\"text-align: right;\">          1</td><td style=\"text-align: right;\">          1</td><td style=\"text-align: right;\">          1</td><td style=\"text-align: right;\">          1</td><td style=\"text-align: right;\">          1</td><td style=\"text-align: right;\">          1</td><td style=\"text-align: right;\">           1</td><td style=\"text-align: right;\">          1</td><td style=\"text-align: right;\">           1</td><td style=\"text-align: right;\">         1</td><td style=\"text-align: right;\">          1</td><td style=\"text-align: right;\">         0</td><td style=\"text-align: right;\">         1</td><td style=\"text-align: right;\">          1</td><td style=\"text-align: right;\">           1</td><td style=\"text-align: right;\">          1</td><td style=\"text-align: right;\">           0</td><td style=\"text-align: right;\">         0</td><td style=\"text-align: right;\">          1</td><td style=\"text-align: right;\">           0</td><td style=\"text-align: right;\">          1</td><td style=\"text-align: right;\">          1</td><td style=\"text-align: right;\">          1</td><td style=\"text-align: right;\">         1</td><td style=\"text-align: right;\">            1</td><td style=\"text-align: right;\">           0</td></tr>\n",
       "<tr><td>Bowel_QEVT62   </td><td>Bowel   </td><td style=\"text-align: right;\">             0</td><td style=\"text-align: right;\">           0</td><td style=\"text-align: right;\">         0</td><td style=\"text-align: right;\">         0</td><td style=\"text-align: right;\">          0</td><td style=\"text-align: right;\">           0</td><td style=\"text-align: right;\">            0</td><td style=\"text-align: right;\">          0</td><td style=\"text-align: right;\">          0</td><td style=\"text-align: right;\">          0</td><td style=\"text-align: right;\">          0</td><td style=\"text-align: right;\">           0</td><td style=\"text-align: right;\">            0</td><td style=\"text-align: right;\">           0</td><td style=\"text-align: right;\">          0</td><td style=\"text-align: right;\">           0</td><td style=\"text-align: right;\">            1</td><td style=\"text-align: right;\">           1</td><td style=\"text-align: right;\">         0</td><td style=\"text-align: right;\">          0</td><td style=\"text-align: right;\">           0</td><td style=\"text-align: right;\">         0</td><td style=\"text-align: right;\">         0</td><td style=\"text-align: right;\">            0</td><td style=\"text-align: right;\">          0</td><td style=\"text-align: right;\">          0</td><td style=\"text-align: right;\">         0</td><td style=\"text-align: right;\">          0</td><td style=\"text-align: right;\">          0</td><td style=\"text-align: right;\">          0</td><td style=\"text-align: right;\">          1</td><td style=\"text-align: right;\">           1</td><td style=\"text-align: right;\">          0</td><td style=\"text-align: right;\">          0</td><td style=\"text-align: right;\">          0</td><td style=\"text-align: right;\">        0</td><td style=\"text-align: right;\">          1</td><td style=\"text-align: right;\">            0</td><td style=\"text-align: right;\">          0</td><td style=\"text-align: right;\">          0</td><td style=\"text-align: right;\">          0</td><td style=\"text-align: right;\">         0</td><td style=\"text-align: right;\">          0</td><td style=\"text-align: right;\">        0</td><td style=\"text-align: right;\">          0</td><td style=\"text-align: right;\">         1</td><td style=\"text-align: right;\">          0</td><td style=\"text-align: right;\">           0</td><td style=\"text-align: right;\">        0</td><td style=\"text-align: right;\">           0</td><td style=\"text-align: right;\">           0</td><td style=\"text-align: right;\">           0</td><td style=\"text-align: right;\">           0</td><td style=\"text-align: right;\">          0</td><td style=\"text-align: right;\">          0</td><td style=\"text-align: right;\">           0</td><td style=\"text-align: right;\">           0</td><td style=\"text-align: right;\">          0</td><td style=\"text-align: right;\">          0</td><td style=\"text-align: right;\">          0</td><td style=\"text-align: right;\">           0</td><td style=\"text-align: right;\">         0</td><td style=\"text-align: right;\">          0</td><td style=\"text-align: right;\">          0</td><td style=\"text-align: right;\">          0</td><td style=\"text-align: right;\">          0</td><td style=\"text-align: right;\">          0</td><td style=\"text-align: right;\">          0</td><td style=\"text-align: right;\">         1</td><td style=\"text-align: right;\">             0</td><td style=\"text-align: right;\">         0</td><td style=\"text-align: right;\">           0</td><td style=\"text-align: right;\">          1</td><td style=\"text-align: right;\">             0</td><td style=\"text-align: right;\">           0</td><td style=\"text-align: right;\">          0</td><td style=\"text-align: right;\">          0</td><td style=\"text-align: right;\">         0</td><td style=\"text-align: right;\">          1</td><td style=\"text-align: right;\">          0</td><td style=\"text-align: right;\">         0</td><td style=\"text-align: right;\">         0</td><td style=\"text-align: right;\">           0</td><td style=\"text-align: right;\">          0</td><td style=\"text-align: right;\">         0</td><td style=\"text-align: right;\">        0</td><td style=\"text-align: right;\">           0</td><td style=\"text-align: right;\">         0</td><td style=\"text-align: right;\">             1</td><td style=\"text-align: right;\">           0</td><td style=\"text-align: right;\">         1</td><td style=\"text-align: right;\">          0</td><td style=\"text-align: right;\">          0</td><td style=\"text-align: right;\">          0</td><td style=\"text-align: right;\">         0</td><td style=\"text-align: right;\">           0</td><td style=\"text-align: right;\">          0</td><td style=\"text-align: right;\">            0</td><td style=\"text-align: right;\">         0</td><td style=\"text-align: right;\">          0</td><td style=\"text-align: right;\">           0</td><td style=\"text-align: right;\">          0</td><td style=\"text-align: right;\">            0</td><td style=\"text-align: right;\">           0</td><td style=\"text-align: right;\">            0</td><td style=\"text-align: right;\">         0</td><td style=\"text-align: right;\">          0</td><td style=\"text-align: right;\">            0</td><td style=\"text-align: right;\">           0</td><td style=\"text-align: right;\">          0</td><td style=\"text-align: right;\">           0</td><td style=\"text-align: right;\">         0</td><td style=\"text-align: right;\">            0</td><td style=\"text-align: right;\">          0</td><td style=\"text-align: right;\">          0</td><td style=\"text-align: right;\">        1</td><td style=\"text-align: right;\">          0</td><td style=\"text-align: right;\">          0</td><td style=\"text-align: right;\">          0</td><td style=\"text-align: right;\">           0</td><td style=\"text-align: right;\">       0</td><td style=\"text-align: right;\">            0</td><td style=\"text-align: right;\">            0</td><td style=\"text-align: right;\">         0</td><td style=\"text-align: right;\">         0</td><td style=\"text-align: right;\">        0</td><td style=\"text-align: right;\">          0</td><td style=\"text-align: right;\">         0</td><td style=\"text-align: right;\">           0</td><td style=\"text-align: right;\">          0</td><td style=\"text-align: right;\">         0</td><td style=\"text-align: right;\">           0</td><td style=\"text-align: right;\">         0</td><td style=\"text-align: right;\">          0</td><td style=\"text-align: right;\">           0</td><td style=\"text-align: right;\">           0</td><td style=\"text-align: right;\">          0</td><td style=\"text-align: right;\">           0</td><td style=\"text-align: right;\">           0</td><td style=\"text-align: right;\">          0</td><td style=\"text-align: right;\">             0</td><td style=\"text-align: right;\">          0</td><td style=\"text-align: right;\">          0</td><td style=\"text-align: right;\">          0</td><td style=\"text-align: right;\">            0</td><td style=\"text-align: right;\">          0</td><td style=\"text-align: right;\">          0</td><td style=\"text-align: right;\">          0</td><td style=\"text-align: right;\">             0</td><td style=\"text-align: right;\">         1</td><td style=\"text-align: right;\">           0</td><td style=\"text-align: right;\">          1</td><td style=\"text-align: right;\">           0</td><td style=\"text-align: right;\">         0</td><td style=\"text-align: right;\">         0</td><td style=\"text-align: right;\">          0</td><td style=\"text-align: right;\">           0</td><td style=\"text-align: right;\">           0</td><td style=\"text-align: right;\">        0</td><td style=\"text-align: right;\">          0</td><td style=\"text-align: right;\">          0</td><td style=\"text-align: right;\">         0</td><td style=\"text-align: right;\">         0</td><td style=\"text-align: right;\">         0</td><td style=\"text-align: right;\">          0</td><td style=\"text-align: right;\">          0</td><td style=\"text-align: right;\">           0</td><td style=\"text-align: right;\">          0</td><td style=\"text-align: right;\">          0</td><td style=\"text-align: right;\">          0</td><td style=\"text-align: right;\">          0</td><td style=\"text-align: right;\">           0</td><td style=\"text-align: right;\">          0</td><td style=\"text-align: right;\">          0</td><td style=\"text-align: right;\">          0</td><td style=\"text-align: right;\">          0</td><td style=\"text-align: right;\">          0</td><td style=\"text-align: right;\">          0</td><td style=\"text-align: right;\">           1</td><td style=\"text-align: right;\">          1</td><td style=\"text-align: right;\">           0</td><td style=\"text-align: right;\">         0</td><td style=\"text-align: right;\">          1</td><td style=\"text-align: right;\">         0</td><td style=\"text-align: right;\">         0</td><td style=\"text-align: right;\">          0</td><td style=\"text-align: right;\">           0</td><td style=\"text-align: right;\">          0</td><td style=\"text-align: right;\">           0</td><td style=\"text-align: right;\">         1</td><td style=\"text-align: right;\">          0</td><td style=\"text-align: right;\">           0</td><td style=\"text-align: right;\">          0</td><td style=\"text-align: right;\">          0</td><td style=\"text-align: right;\">          1</td><td style=\"text-align: right;\">         0</td><td style=\"text-align: right;\">            0</td><td style=\"text-align: right;\">           0</td></tr>\n",
       "<tr><td>Lung_TXY395    </td><td>Lung    </td><td style=\"text-align: right;\">             0</td><td style=\"text-align: right;\">           0</td><td style=\"text-align: right;\">         0</td><td style=\"text-align: right;\">         0</td><td style=\"text-align: right;\">          0</td><td style=\"text-align: right;\">           0</td><td style=\"text-align: right;\">            0</td><td style=\"text-align: right;\">          0</td><td style=\"text-align: right;\">          0</td><td style=\"text-align: right;\">          1</td><td style=\"text-align: right;\">          0</td><td style=\"text-align: right;\">           0</td><td style=\"text-align: right;\">            0</td><td style=\"text-align: right;\">           0</td><td style=\"text-align: right;\">          1</td><td style=\"text-align: right;\">           0</td><td style=\"text-align: right;\">            0</td><td style=\"text-align: right;\">           0</td><td style=\"text-align: right;\">         0</td><td style=\"text-align: right;\">          0</td><td style=\"text-align: right;\">           1</td><td style=\"text-align: right;\">         0</td><td style=\"text-align: right;\">         1</td><td style=\"text-align: right;\">            0</td><td style=\"text-align: right;\">          1</td><td style=\"text-align: right;\">          0</td><td style=\"text-align: right;\">         0</td><td style=\"text-align: right;\">          0</td><td style=\"text-align: right;\">          0</td><td style=\"text-align: right;\">          0</td><td style=\"text-align: right;\">          0</td><td style=\"text-align: right;\">           0</td><td style=\"text-align: right;\">          0</td><td style=\"text-align: right;\">          0</td><td style=\"text-align: right;\">          0</td><td style=\"text-align: right;\">        0</td><td style=\"text-align: right;\">          1</td><td style=\"text-align: right;\">            1</td><td style=\"text-align: right;\">          0</td><td style=\"text-align: right;\">          0</td><td style=\"text-align: right;\">          0</td><td style=\"text-align: right;\">         0</td><td style=\"text-align: right;\">          0</td><td style=\"text-align: right;\">        0</td><td style=\"text-align: right;\">          0</td><td style=\"text-align: right;\">         0</td><td style=\"text-align: right;\">          0</td><td style=\"text-align: right;\">           0</td><td style=\"text-align: right;\">        0</td><td style=\"text-align: right;\">           0</td><td style=\"text-align: right;\">           0</td><td style=\"text-align: right;\">           0</td><td style=\"text-align: right;\">           1</td><td style=\"text-align: right;\">          0</td><td style=\"text-align: right;\">          0</td><td style=\"text-align: right;\">           0</td><td style=\"text-align: right;\">           0</td><td style=\"text-align: right;\">          0</td><td style=\"text-align: right;\">          0</td><td style=\"text-align: right;\">          0</td><td style=\"text-align: right;\">           0</td><td style=\"text-align: right;\">         0</td><td style=\"text-align: right;\">          0</td><td style=\"text-align: right;\">          0</td><td style=\"text-align: right;\">          1</td><td style=\"text-align: right;\">          0</td><td style=\"text-align: right;\">          0</td><td style=\"text-align: right;\">          0</td><td style=\"text-align: right;\">         0</td><td style=\"text-align: right;\">             1</td><td style=\"text-align: right;\">         0</td><td style=\"text-align: right;\">           0</td><td style=\"text-align: right;\">          0</td><td style=\"text-align: right;\">             0</td><td style=\"text-align: right;\">           0</td><td style=\"text-align: right;\">          0</td><td style=\"text-align: right;\">          0</td><td style=\"text-align: right;\">         0</td><td style=\"text-align: right;\">          0</td><td style=\"text-align: right;\">          0</td><td style=\"text-align: right;\">         0</td><td style=\"text-align: right;\">         0</td><td style=\"text-align: right;\">           0</td><td style=\"text-align: right;\">          0</td><td style=\"text-align: right;\">         0</td><td style=\"text-align: right;\">        0</td><td style=\"text-align: right;\">           0</td><td style=\"text-align: right;\">         0</td><td style=\"text-align: right;\">             0</td><td style=\"text-align: right;\">           0</td><td style=\"text-align: right;\">         1</td><td style=\"text-align: right;\">          0</td><td style=\"text-align: right;\">          0</td><td style=\"text-align: right;\">          0</td><td style=\"text-align: right;\">         0</td><td style=\"text-align: right;\">           0</td><td style=\"text-align: right;\">          0</td><td style=\"text-align: right;\">            0</td><td style=\"text-align: right;\">         0</td><td style=\"text-align: right;\">          0</td><td style=\"text-align: right;\">           0</td><td style=\"text-align: right;\">          1</td><td style=\"text-align: right;\">            0</td><td style=\"text-align: right;\">           0</td><td style=\"text-align: right;\">            0</td><td style=\"text-align: right;\">         0</td><td style=\"text-align: right;\">          1</td><td style=\"text-align: right;\">            1</td><td style=\"text-align: right;\">           0</td><td style=\"text-align: right;\">          0</td><td style=\"text-align: right;\">           0</td><td style=\"text-align: right;\">         0</td><td style=\"text-align: right;\">            1</td><td style=\"text-align: right;\">          0</td><td style=\"text-align: right;\">          0</td><td style=\"text-align: right;\">        0</td><td style=\"text-align: right;\">          0</td><td style=\"text-align: right;\">          0</td><td style=\"text-align: right;\">          0</td><td style=\"text-align: right;\">           0</td><td style=\"text-align: right;\">       0</td><td style=\"text-align: right;\">            1</td><td style=\"text-align: right;\">            1</td><td style=\"text-align: right;\">         1</td><td style=\"text-align: right;\">         0</td><td style=\"text-align: right;\">        0</td><td style=\"text-align: right;\">          0</td><td style=\"text-align: right;\">         0</td><td style=\"text-align: right;\">           0</td><td style=\"text-align: right;\">          1</td><td style=\"text-align: right;\">         1</td><td style=\"text-align: right;\">           0</td><td style=\"text-align: right;\">         0</td><td style=\"text-align: right;\">          0</td><td style=\"text-align: right;\">           0</td><td style=\"text-align: right;\">           1</td><td style=\"text-align: right;\">          1</td><td style=\"text-align: right;\">           0</td><td style=\"text-align: right;\">           0</td><td style=\"text-align: right;\">          0</td><td style=\"text-align: right;\">             0</td><td style=\"text-align: right;\">          0</td><td style=\"text-align: right;\">          0</td><td style=\"text-align: right;\">          0</td><td style=\"text-align: right;\">            1</td><td style=\"text-align: right;\">          1</td><td style=\"text-align: right;\">          1</td><td style=\"text-align: right;\">          0</td><td style=\"text-align: right;\">             0</td><td style=\"text-align: right;\">         0</td><td style=\"text-align: right;\">           0</td><td style=\"text-align: right;\">          0</td><td style=\"text-align: right;\">           0</td><td style=\"text-align: right;\">         1</td><td style=\"text-align: right;\">         0</td><td style=\"text-align: right;\">          0</td><td style=\"text-align: right;\">           0</td><td style=\"text-align: right;\">           0</td><td style=\"text-align: right;\">        0</td><td style=\"text-align: right;\">          0</td><td style=\"text-align: right;\">          0</td><td style=\"text-align: right;\">         0</td><td style=\"text-align: right;\">         0</td><td style=\"text-align: right;\">         0</td><td style=\"text-align: right;\">          0</td><td style=\"text-align: right;\">          0</td><td style=\"text-align: right;\">           0</td><td style=\"text-align: right;\">          0</td><td style=\"text-align: right;\">          0</td><td style=\"text-align: right;\">          1</td><td style=\"text-align: right;\">          0</td><td style=\"text-align: right;\">           0</td><td style=\"text-align: right;\">          0</td><td style=\"text-align: right;\">          0</td><td style=\"text-align: right;\">          0</td><td style=\"text-align: right;\">          0</td><td style=\"text-align: right;\">          0</td><td style=\"text-align: right;\">          0</td><td style=\"text-align: right;\">           0</td><td style=\"text-align: right;\">          0</td><td style=\"text-align: right;\">           1</td><td style=\"text-align: right;\">         1</td><td style=\"text-align: right;\">          0</td><td style=\"text-align: right;\">         0</td><td style=\"text-align: right;\">         0</td><td style=\"text-align: right;\">          0</td><td style=\"text-align: right;\">           0</td><td style=\"text-align: right;\">          0</td><td style=\"text-align: right;\">           0</td><td style=\"text-align: right;\">         0</td><td style=\"text-align: right;\">          0</td><td style=\"text-align: right;\">           0</td><td style=\"text-align: right;\">          0</td><td style=\"text-align: right;\">          0</td><td style=\"text-align: right;\">          0</td><td style=\"text-align: right;\">         0</td><td style=\"text-align: right;\">            0</td><td style=\"text-align: right;\">           0</td></tr>\n",
       "<tr><td>Lung_JIL5      </td><td>Lung    </td><td style=\"text-align: right;\">             0</td><td style=\"text-align: right;\">           0</td><td style=\"text-align: right;\">         0</td><td style=\"text-align: right;\">         0</td><td style=\"text-align: right;\">          0</td><td style=\"text-align: right;\">           0</td><td style=\"text-align: right;\">            0</td><td style=\"text-align: right;\">          0</td><td style=\"text-align: right;\">          0</td><td style=\"text-align: right;\">          0</td><td style=\"text-align: right;\">          0</td><td style=\"text-align: right;\">           0</td><td style=\"text-align: right;\">            0</td><td style=\"text-align: right;\">           0</td><td style=\"text-align: right;\">          1</td><td style=\"text-align: right;\">           0</td><td style=\"text-align: right;\">            0</td><td style=\"text-align: right;\">           0</td><td style=\"text-align: right;\">         0</td><td style=\"text-align: right;\">          0</td><td style=\"text-align: right;\">           0</td><td style=\"text-align: right;\">         0</td><td style=\"text-align: right;\">         0</td><td style=\"text-align: right;\">            0</td><td style=\"text-align: right;\">          0</td><td style=\"text-align: right;\">          0</td><td style=\"text-align: right;\">         0</td><td style=\"text-align: right;\">          0</td><td style=\"text-align: right;\">          1</td><td style=\"text-align: right;\">          0</td><td style=\"text-align: right;\">          0</td><td style=\"text-align: right;\">           0</td><td style=\"text-align: right;\">          0</td><td style=\"text-align: right;\">          1</td><td style=\"text-align: right;\">          0</td><td style=\"text-align: right;\">        0</td><td style=\"text-align: right;\">          0</td><td style=\"text-align: right;\">            1</td><td style=\"text-align: right;\">          0</td><td style=\"text-align: right;\">          0</td><td style=\"text-align: right;\">          0</td><td style=\"text-align: right;\">         1</td><td style=\"text-align: right;\">          0</td><td style=\"text-align: right;\">        0</td><td style=\"text-align: right;\">          0</td><td style=\"text-align: right;\">         0</td><td style=\"text-align: right;\">          0</td><td style=\"text-align: right;\">           0</td><td style=\"text-align: right;\">        0</td><td style=\"text-align: right;\">           0</td><td style=\"text-align: right;\">           0</td><td style=\"text-align: right;\">           0</td><td style=\"text-align: right;\">           1</td><td style=\"text-align: right;\">          0</td><td style=\"text-align: right;\">          0</td><td style=\"text-align: right;\">           0</td><td style=\"text-align: right;\">           0</td><td style=\"text-align: right;\">          0</td><td style=\"text-align: right;\">          0</td><td style=\"text-align: right;\">          0</td><td style=\"text-align: right;\">           0</td><td style=\"text-align: right;\">         0</td><td style=\"text-align: right;\">          0</td><td style=\"text-align: right;\">          0</td><td style=\"text-align: right;\">          0</td><td style=\"text-align: right;\">          0</td><td style=\"text-align: right;\">          0</td><td style=\"text-align: right;\">          0</td><td style=\"text-align: right;\">         0</td><td style=\"text-align: right;\">             0</td><td style=\"text-align: right;\">         0</td><td style=\"text-align: right;\">           0</td><td style=\"text-align: right;\">          0</td><td style=\"text-align: right;\">             0</td><td style=\"text-align: right;\">           0</td><td style=\"text-align: right;\">          0</td><td style=\"text-align: right;\">          0</td><td style=\"text-align: right;\">         0</td><td style=\"text-align: right;\">          0</td><td style=\"text-align: right;\">          1</td><td style=\"text-align: right;\">         0</td><td style=\"text-align: right;\">         0</td><td style=\"text-align: right;\">           0</td><td style=\"text-align: right;\">          0</td><td style=\"text-align: right;\">         0</td><td style=\"text-align: right;\">        0</td><td style=\"text-align: right;\">           0</td><td style=\"text-align: right;\">         0</td><td style=\"text-align: right;\">             0</td><td style=\"text-align: right;\">           0</td><td style=\"text-align: right;\">         0</td><td style=\"text-align: right;\">          0</td><td style=\"text-align: right;\">          0</td><td style=\"text-align: right;\">          0</td><td style=\"text-align: right;\">         0</td><td style=\"text-align: right;\">           0</td><td style=\"text-align: right;\">          0</td><td style=\"text-align: right;\">            0</td><td style=\"text-align: right;\">         0</td><td style=\"text-align: right;\">          0</td><td style=\"text-align: right;\">           0</td><td style=\"text-align: right;\">          0</td><td style=\"text-align: right;\">            0</td><td style=\"text-align: right;\">           0</td><td style=\"text-align: right;\">            0</td><td style=\"text-align: right;\">         0</td><td style=\"text-align: right;\">          0</td><td style=\"text-align: right;\">            0</td><td style=\"text-align: right;\">           0</td><td style=\"text-align: right;\">          0</td><td style=\"text-align: right;\">           0</td><td style=\"text-align: right;\">         0</td><td style=\"text-align: right;\">            0</td><td style=\"text-align: right;\">          0</td><td style=\"text-align: right;\">          0</td><td style=\"text-align: right;\">        0</td><td style=\"text-align: right;\">          0</td><td style=\"text-align: right;\">          0</td><td style=\"text-align: right;\">          0</td><td style=\"text-align: right;\">           0</td><td style=\"text-align: right;\">       0</td><td style=\"text-align: right;\">            0</td><td style=\"text-align: right;\">            0</td><td style=\"text-align: right;\">         1</td><td style=\"text-align: right;\">         0</td><td style=\"text-align: right;\">        0</td><td style=\"text-align: right;\">          0</td><td style=\"text-align: right;\">         0</td><td style=\"text-align: right;\">           0</td><td style=\"text-align: right;\">          1</td><td style=\"text-align: right;\">         0</td><td style=\"text-align: right;\">           0</td><td style=\"text-align: right;\">         0</td><td style=\"text-align: right;\">          0</td><td style=\"text-align: right;\">           0</td><td style=\"text-align: right;\">           0</td><td style=\"text-align: right;\">          0</td><td style=\"text-align: right;\">           0</td><td style=\"text-align: right;\">           0</td><td style=\"text-align: right;\">          0</td><td style=\"text-align: right;\">             0</td><td style=\"text-align: right;\">          0</td><td style=\"text-align: right;\">          0</td><td style=\"text-align: right;\">          0</td><td style=\"text-align: right;\">            0</td><td style=\"text-align: right;\">          0</td><td style=\"text-align: right;\">          0</td><td style=\"text-align: right;\">          0</td><td style=\"text-align: right;\">             0</td><td style=\"text-align: right;\">         1</td><td style=\"text-align: right;\">           0</td><td style=\"text-align: right;\">          0</td><td style=\"text-align: right;\">           0</td><td style=\"text-align: right;\">         0</td><td style=\"text-align: right;\">         0</td><td style=\"text-align: right;\">          1</td><td style=\"text-align: right;\">           0</td><td style=\"text-align: right;\">           0</td><td style=\"text-align: right;\">        0</td><td style=\"text-align: right;\">          0</td><td style=\"text-align: right;\">          0</td><td style=\"text-align: right;\">         0</td><td style=\"text-align: right;\">         0</td><td style=\"text-align: right;\">         0</td><td style=\"text-align: right;\">          0</td><td style=\"text-align: right;\">          0</td><td style=\"text-align: right;\">           0</td><td style=\"text-align: right;\">          0</td><td style=\"text-align: right;\">          0</td><td style=\"text-align: right;\">          0</td><td style=\"text-align: right;\">          0</td><td style=\"text-align: right;\">           0</td><td style=\"text-align: right;\">          1</td><td style=\"text-align: right;\">          0</td><td style=\"text-align: right;\">          0</td><td style=\"text-align: right;\">          0</td><td style=\"text-align: right;\">          0</td><td style=\"text-align: right;\">          0</td><td style=\"text-align: right;\">           0</td><td style=\"text-align: right;\">          0</td><td style=\"text-align: right;\">           0</td><td style=\"text-align: right;\">         0</td><td style=\"text-align: right;\">          0</td><td style=\"text-align: right;\">         0</td><td style=\"text-align: right;\">         0</td><td style=\"text-align: right;\">          0</td><td style=\"text-align: right;\">           0</td><td style=\"text-align: right;\">          0</td><td style=\"text-align: right;\">           1</td><td style=\"text-align: right;\">         0</td><td style=\"text-align: right;\">          0</td><td style=\"text-align: right;\">           0</td><td style=\"text-align: right;\">          0</td><td style=\"text-align: right;\">          1</td><td style=\"text-align: right;\">          0</td><td style=\"text-align: right;\">         0</td><td style=\"text-align: right;\">            0</td><td style=\"text-align: right;\">           0</td></tr>\n",
       "<tr><td>Blood_CB485    </td><td>Blood   </td><td style=\"text-align: right;\">             0</td><td style=\"text-align: right;\">           0</td><td style=\"text-align: right;\">         1</td><td style=\"text-align: right;\">         1</td><td style=\"text-align: right;\">          0</td><td style=\"text-align: right;\">           1</td><td style=\"text-align: right;\">            1</td><td style=\"text-align: right;\">          1</td><td style=\"text-align: right;\">          1</td><td style=\"text-align: right;\">          0</td><td style=\"text-align: right;\">          0</td><td style=\"text-align: right;\">           0</td><td style=\"text-align: right;\">            0</td><td style=\"text-align: right;\">           0</td><td style=\"text-align: right;\">          0</td><td style=\"text-align: right;\">           1</td><td style=\"text-align: right;\">            0</td><td style=\"text-align: right;\">           0</td><td style=\"text-align: right;\">         0</td><td style=\"text-align: right;\">          0</td><td style=\"text-align: right;\">           0</td><td style=\"text-align: right;\">         0</td><td style=\"text-align: right;\">         0</td><td style=\"text-align: right;\">            0</td><td style=\"text-align: right;\">          1</td><td style=\"text-align: right;\">          0</td><td style=\"text-align: right;\">         0</td><td style=\"text-align: right;\">          0</td><td style=\"text-align: right;\">          0</td><td style=\"text-align: right;\">          0</td><td style=\"text-align: right;\">          0</td><td style=\"text-align: right;\">           0</td><td style=\"text-align: right;\">          0</td><td style=\"text-align: right;\">          0</td><td style=\"text-align: right;\">          0</td><td style=\"text-align: right;\">        1</td><td style=\"text-align: right;\">          1</td><td style=\"text-align: right;\">            0</td><td style=\"text-align: right;\">          0</td><td style=\"text-align: right;\">          0</td><td style=\"text-align: right;\">          1</td><td style=\"text-align: right;\">         0</td><td style=\"text-align: right;\">          0</td><td style=\"text-align: right;\">        0</td><td style=\"text-align: right;\">          0</td><td style=\"text-align: right;\">         1</td><td style=\"text-align: right;\">          1</td><td style=\"text-align: right;\">           0</td><td style=\"text-align: right;\">        0</td><td style=\"text-align: right;\">           0</td><td style=\"text-align: right;\">           1</td><td style=\"text-align: right;\">           0</td><td style=\"text-align: right;\">           0</td><td style=\"text-align: right;\">          0</td><td style=\"text-align: right;\">          0</td><td style=\"text-align: right;\">           1</td><td style=\"text-align: right;\">           0</td><td style=\"text-align: right;\">          1</td><td style=\"text-align: right;\">          0</td><td style=\"text-align: right;\">          0</td><td style=\"text-align: right;\">           0</td><td style=\"text-align: right;\">         0</td><td style=\"text-align: right;\">          1</td><td style=\"text-align: right;\">          0</td><td style=\"text-align: right;\">          0</td><td style=\"text-align: right;\">          0</td><td style=\"text-align: right;\">          0</td><td style=\"text-align: right;\">          0</td><td style=\"text-align: right;\">         0</td><td style=\"text-align: right;\">             0</td><td style=\"text-align: right;\">         0</td><td style=\"text-align: right;\">           0</td><td style=\"text-align: right;\">          0</td><td style=\"text-align: right;\">             0</td><td style=\"text-align: right;\">           0</td><td style=\"text-align: right;\">          0</td><td style=\"text-align: right;\">          0</td><td style=\"text-align: right;\">         0</td><td style=\"text-align: right;\">          1</td><td style=\"text-align: right;\">          0</td><td style=\"text-align: right;\">         0</td><td style=\"text-align: right;\">         0</td><td style=\"text-align: right;\">           0</td><td style=\"text-align: right;\">          0</td><td style=\"text-align: right;\">         0</td><td style=\"text-align: right;\">        0</td><td style=\"text-align: right;\">           0</td><td style=\"text-align: right;\">         1</td><td style=\"text-align: right;\">             0</td><td style=\"text-align: right;\">           0</td><td style=\"text-align: right;\">         0</td><td style=\"text-align: right;\">          0</td><td style=\"text-align: right;\">          1</td><td style=\"text-align: right;\">          1</td><td style=\"text-align: right;\">         0</td><td style=\"text-align: right;\">           1</td><td style=\"text-align: right;\">          1</td><td style=\"text-align: right;\">            1</td><td style=\"text-align: right;\">         1</td><td style=\"text-align: right;\">          1</td><td style=\"text-align: right;\">           1</td><td style=\"text-align: right;\">          1</td><td style=\"text-align: right;\">            0</td><td style=\"text-align: right;\">           0</td><td style=\"text-align: right;\">            1</td><td style=\"text-align: right;\">         0</td><td style=\"text-align: right;\">          1</td><td style=\"text-align: right;\">            0</td><td style=\"text-align: right;\">           1</td><td style=\"text-align: right;\">          0</td><td style=\"text-align: right;\">           0</td><td style=\"text-align: right;\">         0</td><td style=\"text-align: right;\">            0</td><td style=\"text-align: right;\">          0</td><td style=\"text-align: right;\">          0</td><td style=\"text-align: right;\">        0</td><td style=\"text-align: right;\">          1</td><td style=\"text-align: right;\">          0</td><td style=\"text-align: right;\">          1</td><td style=\"text-align: right;\">           1</td><td style=\"text-align: right;\">       1</td><td style=\"text-align: right;\">            1</td><td style=\"text-align: right;\">            1</td><td style=\"text-align: right;\">         0</td><td style=\"text-align: right;\">         0</td><td style=\"text-align: right;\">        0</td><td style=\"text-align: right;\">          0</td><td style=\"text-align: right;\">         0</td><td style=\"text-align: right;\">           0</td><td style=\"text-align: right;\">          0</td><td style=\"text-align: right;\">         1</td><td style=\"text-align: right;\">           0</td><td style=\"text-align: right;\">         1</td><td style=\"text-align: right;\">          0</td><td style=\"text-align: right;\">           1</td><td style=\"text-align: right;\">           0</td><td style=\"text-align: right;\">          0</td><td style=\"text-align: right;\">           0</td><td style=\"text-align: right;\">           0</td><td style=\"text-align: right;\">          0</td><td style=\"text-align: right;\">             0</td><td style=\"text-align: right;\">          1</td><td style=\"text-align: right;\">          1</td><td style=\"text-align: right;\">          1</td><td style=\"text-align: right;\">            1</td><td style=\"text-align: right;\">          0</td><td style=\"text-align: right;\">          0</td><td style=\"text-align: right;\">          1</td><td style=\"text-align: right;\">             0</td><td style=\"text-align: right;\">         0</td><td style=\"text-align: right;\">           1</td><td style=\"text-align: right;\">          0</td><td style=\"text-align: right;\">           0</td><td style=\"text-align: right;\">         1</td><td style=\"text-align: right;\">         1</td><td style=\"text-align: right;\">          0</td><td style=\"text-align: right;\">           0</td><td style=\"text-align: right;\">           0</td><td style=\"text-align: right;\">        0</td><td style=\"text-align: right;\">          1</td><td style=\"text-align: right;\">          1</td><td style=\"text-align: right;\">         0</td><td style=\"text-align: right;\">         0</td><td style=\"text-align: right;\">         0</td><td style=\"text-align: right;\">          0</td><td style=\"text-align: right;\">          0</td><td style=\"text-align: right;\">           0</td><td style=\"text-align: right;\">          1</td><td style=\"text-align: right;\">          1</td><td style=\"text-align: right;\">          1</td><td style=\"text-align: right;\">          1</td><td style=\"text-align: right;\">           1</td><td style=\"text-align: right;\">          1</td><td style=\"text-align: right;\">          1</td><td style=\"text-align: right;\">          0</td><td style=\"text-align: right;\">          0</td><td style=\"text-align: right;\">          0</td><td style=\"text-align: right;\">          1</td><td style=\"text-align: right;\">           0</td><td style=\"text-align: right;\">          1</td><td style=\"text-align: right;\">           0</td><td style=\"text-align: right;\">         1</td><td style=\"text-align: right;\">          0</td><td style=\"text-align: right;\">         0</td><td style=\"text-align: right;\">         1</td><td style=\"text-align: right;\">          0</td><td style=\"text-align: right;\">           1</td><td style=\"text-align: right;\">          0</td><td style=\"text-align: right;\">           0</td><td style=\"text-align: right;\">         0</td><td style=\"text-align: right;\">          0</td><td style=\"text-align: right;\">           1</td><td style=\"text-align: right;\">          0</td><td style=\"text-align: right;\">          1</td><td style=\"text-align: right;\">          1</td><td style=\"text-align: right;\">         1</td><td style=\"text-align: right;\">            1</td><td style=\"text-align: right;\">           0</td></tr>\n",
       "<tr><td>Skin_SFL7      </td><td>Skin    </td><td style=\"text-align: right;\">             0</td><td style=\"text-align: right;\">           0</td><td style=\"text-align: right;\">         0</td><td style=\"text-align: right;\">         0</td><td style=\"text-align: right;\">          0</td><td style=\"text-align: right;\">           0</td><td style=\"text-align: right;\">            0</td><td style=\"text-align: right;\">          1</td><td style=\"text-align: right;\">          0</td><td style=\"text-align: right;\">          0</td><td style=\"text-align: right;\">          0</td><td style=\"text-align: right;\">           1</td><td style=\"text-align: right;\">            0</td><td style=\"text-align: right;\">           0</td><td style=\"text-align: right;\">          0</td><td style=\"text-align: right;\">           0</td><td style=\"text-align: right;\">            0</td><td style=\"text-align: right;\">           1</td><td style=\"text-align: right;\">         0</td><td style=\"text-align: right;\">          1</td><td style=\"text-align: right;\">           0</td><td style=\"text-align: right;\">         0</td><td style=\"text-align: right;\">         0</td><td style=\"text-align: right;\">            0</td><td style=\"text-align: right;\">          1</td><td style=\"text-align: right;\">          0</td><td style=\"text-align: right;\">         0</td><td style=\"text-align: right;\">          0</td><td style=\"text-align: right;\">          0</td><td style=\"text-align: right;\">          0</td><td style=\"text-align: right;\">          0</td><td style=\"text-align: right;\">           0</td><td style=\"text-align: right;\">          0</td><td style=\"text-align: right;\">          0</td><td style=\"text-align: right;\">          0</td><td style=\"text-align: right;\">        0</td><td style=\"text-align: right;\">          0</td><td style=\"text-align: right;\">            0</td><td style=\"text-align: right;\">          0</td><td style=\"text-align: right;\">          0</td><td style=\"text-align: right;\">          1</td><td style=\"text-align: right;\">         0</td><td style=\"text-align: right;\">          0</td><td style=\"text-align: right;\">        1</td><td style=\"text-align: right;\">          0</td><td style=\"text-align: right;\">         0</td><td style=\"text-align: right;\">          0</td><td style=\"text-align: right;\">           0</td><td style=\"text-align: right;\">        0</td><td style=\"text-align: right;\">           0</td><td style=\"text-align: right;\">           1</td><td style=\"text-align: right;\">           0</td><td style=\"text-align: right;\">           0</td><td style=\"text-align: right;\">          1</td><td style=\"text-align: right;\">          0</td><td style=\"text-align: right;\">           0</td><td style=\"text-align: right;\">           0</td><td style=\"text-align: right;\">          0</td><td style=\"text-align: right;\">          0</td><td style=\"text-align: right;\">          0</td><td style=\"text-align: right;\">           0</td><td style=\"text-align: right;\">         0</td><td style=\"text-align: right;\">          0</td><td style=\"text-align: right;\">          0</td><td style=\"text-align: right;\">          1</td><td style=\"text-align: right;\">          0</td><td style=\"text-align: right;\">          0</td><td style=\"text-align: right;\">          0</td><td style=\"text-align: right;\">         1</td><td style=\"text-align: right;\">             0</td><td style=\"text-align: right;\">         0</td><td style=\"text-align: right;\">           0</td><td style=\"text-align: right;\">          1</td><td style=\"text-align: right;\">             0</td><td style=\"text-align: right;\">           0</td><td style=\"text-align: right;\">          1</td><td style=\"text-align: right;\">          0</td><td style=\"text-align: right;\">         0</td><td style=\"text-align: right;\">          0</td><td style=\"text-align: right;\">          0</td><td style=\"text-align: right;\">         0</td><td style=\"text-align: right;\">         0</td><td style=\"text-align: right;\">           0</td><td style=\"text-align: right;\">          0</td><td style=\"text-align: right;\">         0</td><td style=\"text-align: right;\">        1</td><td style=\"text-align: right;\">           0</td><td style=\"text-align: right;\">         0</td><td style=\"text-align: right;\">             1</td><td style=\"text-align: right;\">           0</td><td style=\"text-align: right;\">         1</td><td style=\"text-align: right;\">          0</td><td style=\"text-align: right;\">          0</td><td style=\"text-align: right;\">          0</td><td style=\"text-align: right;\">         0</td><td style=\"text-align: right;\">           0</td><td style=\"text-align: right;\">          0</td><td style=\"text-align: right;\">            0</td><td style=\"text-align: right;\">         0</td><td style=\"text-align: right;\">          0</td><td style=\"text-align: right;\">           0</td><td style=\"text-align: right;\">          0</td><td style=\"text-align: right;\">            0</td><td style=\"text-align: right;\">           0</td><td style=\"text-align: right;\">            0</td><td style=\"text-align: right;\">         0</td><td style=\"text-align: right;\">          0</td><td style=\"text-align: right;\">            0</td><td style=\"text-align: right;\">           0</td><td style=\"text-align: right;\">          0</td><td style=\"text-align: right;\">           0</td><td style=\"text-align: right;\">         1</td><td style=\"text-align: right;\">            0</td><td style=\"text-align: right;\">          0</td><td style=\"text-align: right;\">          0</td><td style=\"text-align: right;\">        0</td><td style=\"text-align: right;\">          0</td><td style=\"text-align: right;\">          0</td><td style=\"text-align: right;\">          0</td><td style=\"text-align: right;\">           0</td><td style=\"text-align: right;\">       0</td><td style=\"text-align: right;\">            0</td><td style=\"text-align: right;\">            0</td><td style=\"text-align: right;\">         0</td><td style=\"text-align: right;\">         1</td><td style=\"text-align: right;\">        0</td><td style=\"text-align: right;\">          1</td><td style=\"text-align: right;\">         0</td><td style=\"text-align: right;\">           0</td><td style=\"text-align: right;\">          0</td><td style=\"text-align: right;\">         0</td><td style=\"text-align: right;\">           0</td><td style=\"text-align: right;\">         1</td><td style=\"text-align: right;\">          0</td><td style=\"text-align: right;\">           0</td><td style=\"text-align: right;\">           0</td><td style=\"text-align: right;\">          0</td><td style=\"text-align: right;\">           0</td><td style=\"text-align: right;\">           0</td><td style=\"text-align: right;\">          0</td><td style=\"text-align: right;\">             0</td><td style=\"text-align: right;\">          0</td><td style=\"text-align: right;\">          0</td><td style=\"text-align: right;\">          0</td><td style=\"text-align: right;\">            1</td><td style=\"text-align: right;\">          0</td><td style=\"text-align: right;\">          0</td><td style=\"text-align: right;\">          0</td><td style=\"text-align: right;\">             0</td><td style=\"text-align: right;\">         0</td><td style=\"text-align: right;\">           0</td><td style=\"text-align: right;\">          0</td><td style=\"text-align: right;\">           0</td><td style=\"text-align: right;\">         0</td><td style=\"text-align: right;\">         0</td><td style=\"text-align: right;\">          0</td><td style=\"text-align: right;\">           0</td><td style=\"text-align: right;\">           0</td><td style=\"text-align: right;\">        1</td><td style=\"text-align: right;\">          0</td><td style=\"text-align: right;\">          0</td><td style=\"text-align: right;\">         0</td><td style=\"text-align: right;\">         0</td><td style=\"text-align: right;\">         0</td><td style=\"text-align: right;\">          0</td><td style=\"text-align: right;\">          0</td><td style=\"text-align: right;\">           0</td><td style=\"text-align: right;\">          0</td><td style=\"text-align: right;\">          0</td><td style=\"text-align: right;\">          0</td><td style=\"text-align: right;\">          0</td><td style=\"text-align: right;\">           0</td><td style=\"text-align: right;\">          1</td><td style=\"text-align: right;\">          0</td><td style=\"text-align: right;\">          0</td><td style=\"text-align: right;\">          0</td><td style=\"text-align: right;\">          0</td><td style=\"text-align: right;\">          0</td><td style=\"text-align: right;\">           0</td><td style=\"text-align: right;\">          0</td><td style=\"text-align: right;\">           0</td><td style=\"text-align: right;\">         0</td><td style=\"text-align: right;\">          0</td><td style=\"text-align: right;\">         0</td><td style=\"text-align: right;\">         0</td><td style=\"text-align: right;\">          0</td><td style=\"text-align: right;\">           0</td><td style=\"text-align: right;\">          0</td><td style=\"text-align: right;\">           0</td><td style=\"text-align: right;\">         0</td><td style=\"text-align: right;\">          0</td><td style=\"text-align: right;\">           0</td><td style=\"text-align: right;\">          0</td><td style=\"text-align: right;\">          0</td><td style=\"text-align: right;\">          0</td><td style=\"text-align: right;\">         0</td><td style=\"text-align: right;\">            0</td><td style=\"text-align: right;\">           0</td></tr>\n",
       "<tr><td>Skin_VAK5      </td><td>Skin    </td><td style=\"text-align: right;\">             1</td><td style=\"text-align: right;\">           0</td><td style=\"text-align: right;\">         0</td><td style=\"text-align: right;\">         0</td><td style=\"text-align: right;\">          1</td><td style=\"text-align: right;\">           0</td><td style=\"text-align: right;\">            0</td><td style=\"text-align: right;\">          0</td><td style=\"text-align: right;\">          0</td><td style=\"text-align: right;\">          0</td><td style=\"text-align: right;\">          1</td><td style=\"text-align: right;\">           0</td><td style=\"text-align: right;\">            0</td><td style=\"text-align: right;\">           0</td><td style=\"text-align: right;\">          0</td><td style=\"text-align: right;\">           0</td><td style=\"text-align: right;\">            0</td><td style=\"text-align: right;\">           1</td><td style=\"text-align: right;\">         0</td><td style=\"text-align: right;\">          1</td><td style=\"text-align: right;\">           1</td><td style=\"text-align: right;\">         0</td><td style=\"text-align: right;\">         0</td><td style=\"text-align: right;\">            0</td><td style=\"text-align: right;\">          0</td><td style=\"text-align: right;\">          0</td><td style=\"text-align: right;\">         0</td><td style=\"text-align: right;\">          0</td><td style=\"text-align: right;\">          0</td><td style=\"text-align: right;\">          0</td><td style=\"text-align: right;\">          0</td><td style=\"text-align: right;\">           0</td><td style=\"text-align: right;\">          0</td><td style=\"text-align: right;\">          1</td><td style=\"text-align: right;\">          0</td><td style=\"text-align: right;\">        0</td><td style=\"text-align: right;\">          0</td><td style=\"text-align: right;\">            0</td><td style=\"text-align: right;\">          0</td><td style=\"text-align: right;\">          0</td><td style=\"text-align: right;\">          1</td><td style=\"text-align: right;\">         0</td><td style=\"text-align: right;\">          0</td><td style=\"text-align: right;\">        1</td><td style=\"text-align: right;\">          0</td><td style=\"text-align: right;\">         0</td><td style=\"text-align: right;\">          0</td><td style=\"text-align: right;\">           0</td><td style=\"text-align: right;\">        0</td><td style=\"text-align: right;\">           0</td><td style=\"text-align: right;\">           0</td><td style=\"text-align: right;\">           0</td><td style=\"text-align: right;\">           0</td><td style=\"text-align: right;\">          1</td><td style=\"text-align: right;\">          0</td><td style=\"text-align: right;\">           0</td><td style=\"text-align: right;\">           0</td><td style=\"text-align: right;\">          1</td><td style=\"text-align: right;\">          0</td><td style=\"text-align: right;\">          0</td><td style=\"text-align: right;\">           0</td><td style=\"text-align: right;\">         0</td><td style=\"text-align: right;\">          0</td><td style=\"text-align: right;\">          1</td><td style=\"text-align: right;\">          0</td><td style=\"text-align: right;\">          0</td><td style=\"text-align: right;\">          0</td><td style=\"text-align: right;\">          0</td><td style=\"text-align: right;\">         0</td><td style=\"text-align: right;\">             0</td><td style=\"text-align: right;\">         0</td><td style=\"text-align: right;\">           0</td><td style=\"text-align: right;\">          0</td><td style=\"text-align: right;\">             0</td><td style=\"text-align: right;\">           0</td><td style=\"text-align: right;\">          0</td><td style=\"text-align: right;\">          0</td><td style=\"text-align: right;\">         1</td><td style=\"text-align: right;\">          0</td><td style=\"text-align: right;\">          0</td><td style=\"text-align: right;\">         1</td><td style=\"text-align: right;\">         0</td><td style=\"text-align: right;\">           1</td><td style=\"text-align: right;\">          0</td><td style=\"text-align: right;\">         0</td><td style=\"text-align: right;\">        0</td><td style=\"text-align: right;\">           0</td><td style=\"text-align: right;\">         0</td><td style=\"text-align: right;\">             0</td><td style=\"text-align: right;\">           0</td><td style=\"text-align: right;\">         0</td><td style=\"text-align: right;\">          0</td><td style=\"text-align: right;\">          0</td><td style=\"text-align: right;\">          0</td><td style=\"text-align: right;\">         1</td><td style=\"text-align: right;\">           0</td><td style=\"text-align: right;\">          0</td><td style=\"text-align: right;\">            0</td><td style=\"text-align: right;\">         0</td><td style=\"text-align: right;\">          0</td><td style=\"text-align: right;\">           0</td><td style=\"text-align: right;\">          0</td><td style=\"text-align: right;\">            1</td><td style=\"text-align: right;\">           0</td><td style=\"text-align: right;\">            0</td><td style=\"text-align: right;\">         0</td><td style=\"text-align: right;\">          0</td><td style=\"text-align: right;\">            0</td><td style=\"text-align: right;\">           0</td><td style=\"text-align: right;\">          0</td><td style=\"text-align: right;\">           0</td><td style=\"text-align: right;\">         1</td><td style=\"text-align: right;\">            1</td><td style=\"text-align: right;\">          1</td><td style=\"text-align: right;\">          0</td><td style=\"text-align: right;\">        0</td><td style=\"text-align: right;\">          0</td><td style=\"text-align: right;\">          0</td><td style=\"text-align: right;\">          0</td><td style=\"text-align: right;\">           0</td><td style=\"text-align: right;\">       0</td><td style=\"text-align: right;\">            0</td><td style=\"text-align: right;\">            0</td><td style=\"text-align: right;\">         0</td><td style=\"text-align: right;\">         0</td><td style=\"text-align: right;\">        0</td><td style=\"text-align: right;\">          0</td><td style=\"text-align: right;\">         0</td><td style=\"text-align: right;\">           1</td><td style=\"text-align: right;\">          0</td><td style=\"text-align: right;\">         0</td><td style=\"text-align: right;\">           0</td><td style=\"text-align: right;\">         0</td><td style=\"text-align: right;\">          0</td><td style=\"text-align: right;\">           0</td><td style=\"text-align: right;\">           0</td><td style=\"text-align: right;\">          0</td><td style=\"text-align: right;\">           1</td><td style=\"text-align: right;\">           0</td><td style=\"text-align: right;\">          0</td><td style=\"text-align: right;\">             0</td><td style=\"text-align: right;\">          0</td><td style=\"text-align: right;\">          0</td><td style=\"text-align: right;\">          1</td><td style=\"text-align: right;\">            0</td><td style=\"text-align: right;\">          0</td><td style=\"text-align: right;\">          0</td><td style=\"text-align: right;\">          0</td><td style=\"text-align: right;\">             1</td><td style=\"text-align: right;\">         0</td><td style=\"text-align: right;\">           0</td><td style=\"text-align: right;\">          0</td><td style=\"text-align: right;\">           1</td><td style=\"text-align: right;\">         0</td><td style=\"text-align: right;\">         0</td><td style=\"text-align: right;\">          0</td><td style=\"text-align: right;\">           0</td><td style=\"text-align: right;\">           0</td><td style=\"text-align: right;\">        0</td><td style=\"text-align: right;\">          0</td><td style=\"text-align: right;\">          0</td><td style=\"text-align: right;\">         0</td><td style=\"text-align: right;\">         0</td><td style=\"text-align: right;\">         0</td><td style=\"text-align: right;\">          0</td><td style=\"text-align: right;\">          0</td><td style=\"text-align: right;\">           0</td><td style=\"text-align: right;\">          0</td><td style=\"text-align: right;\">          1</td><td style=\"text-align: right;\">          0</td><td style=\"text-align: right;\">          0</td><td style=\"text-align: right;\">           0</td><td style=\"text-align: right;\">          0</td><td style=\"text-align: right;\">          0</td><td style=\"text-align: right;\">          0</td><td style=\"text-align: right;\">          0</td><td style=\"text-align: right;\">          0</td><td style=\"text-align: right;\">          0</td><td style=\"text-align: right;\">           0</td><td style=\"text-align: right;\">          0</td><td style=\"text-align: right;\">           0</td><td style=\"text-align: right;\">         0</td><td style=\"text-align: right;\">          1</td><td style=\"text-align: right;\">         1</td><td style=\"text-align: right;\">         0</td><td style=\"text-align: right;\">          0</td><td style=\"text-align: right;\">           0</td><td style=\"text-align: right;\">          0</td><td style=\"text-align: right;\">           0</td><td style=\"text-align: right;\">         0</td><td style=\"text-align: right;\">          1</td><td style=\"text-align: right;\">           0</td><td style=\"text-align: right;\">          0</td><td style=\"text-align: right;\">          0</td><td style=\"text-align: right;\">          0</td><td style=\"text-align: right;\">         0</td><td style=\"text-align: right;\">            0</td><td style=\"text-align: right;\">           1</td></tr>\n",
       "<tr><td>Ovary_XT38     </td><td>Ovary   </td><td style=\"text-align: right;\">             0</td><td style=\"text-align: right;\">           0</td><td style=\"text-align: right;\">         0</td><td style=\"text-align: right;\">         0</td><td style=\"text-align: right;\">          0</td><td style=\"text-align: right;\">           0</td><td style=\"text-align: right;\">            0</td><td style=\"text-align: right;\">          1</td><td style=\"text-align: right;\">          0</td><td style=\"text-align: right;\">          0</td><td style=\"text-align: right;\">          0</td><td style=\"text-align: right;\">           0</td><td style=\"text-align: right;\">            0</td><td style=\"text-align: right;\">           1</td><td style=\"text-align: right;\">          0</td><td style=\"text-align: right;\">           0</td><td style=\"text-align: right;\">            0</td><td style=\"text-align: right;\">           0</td><td style=\"text-align: right;\">         0</td><td style=\"text-align: right;\">          0</td><td style=\"text-align: right;\">           0</td><td style=\"text-align: right;\">         0</td><td style=\"text-align: right;\">         0</td><td style=\"text-align: right;\">            0</td><td style=\"text-align: right;\">          0</td><td style=\"text-align: right;\">          0</td><td style=\"text-align: right;\">         0</td><td style=\"text-align: right;\">          0</td><td style=\"text-align: right;\">          0</td><td style=\"text-align: right;\">          0</td><td style=\"text-align: right;\">          0</td><td style=\"text-align: right;\">           0</td><td style=\"text-align: right;\">          0</td><td style=\"text-align: right;\">          0</td><td style=\"text-align: right;\">          0</td><td style=\"text-align: right;\">        0</td><td style=\"text-align: right;\">          0</td><td style=\"text-align: right;\">            0</td><td style=\"text-align: right;\">          0</td><td style=\"text-align: right;\">          0</td><td style=\"text-align: right;\">          0</td><td style=\"text-align: right;\">         0</td><td style=\"text-align: right;\">          0</td><td style=\"text-align: right;\">        0</td><td style=\"text-align: right;\">          0</td><td style=\"text-align: right;\">         0</td><td style=\"text-align: right;\">          0</td><td style=\"text-align: right;\">           0</td><td style=\"text-align: right;\">        0</td><td style=\"text-align: right;\">           0</td><td style=\"text-align: right;\">           0</td><td style=\"text-align: right;\">           0</td><td style=\"text-align: right;\">           0</td><td style=\"text-align: right;\">          0</td><td style=\"text-align: right;\">          0</td><td style=\"text-align: right;\">           0</td><td style=\"text-align: right;\">           0</td><td style=\"text-align: right;\">          0</td><td style=\"text-align: right;\">          0</td><td style=\"text-align: right;\">          1</td><td style=\"text-align: right;\">           1</td><td style=\"text-align: right;\">         0</td><td style=\"text-align: right;\">          0</td><td style=\"text-align: right;\">          0</td><td style=\"text-align: right;\">          0</td><td style=\"text-align: right;\">          0</td><td style=\"text-align: right;\">          0</td><td style=\"text-align: right;\">          0</td><td style=\"text-align: right;\">         0</td><td style=\"text-align: right;\">             0</td><td style=\"text-align: right;\">         0</td><td style=\"text-align: right;\">           0</td><td style=\"text-align: right;\">          0</td><td style=\"text-align: right;\">             0</td><td style=\"text-align: right;\">           0</td><td style=\"text-align: right;\">          0</td><td style=\"text-align: right;\">          0</td><td style=\"text-align: right;\">         0</td><td style=\"text-align: right;\">          0</td><td style=\"text-align: right;\">          0</td><td style=\"text-align: right;\">         0</td><td style=\"text-align: right;\">         0</td><td style=\"text-align: right;\">           0</td><td style=\"text-align: right;\">          0</td><td style=\"text-align: right;\">         0</td><td style=\"text-align: right;\">        0</td><td style=\"text-align: right;\">           0</td><td style=\"text-align: right;\">         0</td><td style=\"text-align: right;\">             0</td><td style=\"text-align: right;\">           0</td><td style=\"text-align: right;\">         0</td><td style=\"text-align: right;\">          0</td><td style=\"text-align: right;\">          0</td><td style=\"text-align: right;\">          0</td><td style=\"text-align: right;\">         0</td><td style=\"text-align: right;\">           0</td><td style=\"text-align: right;\">          0</td><td style=\"text-align: right;\">            0</td><td style=\"text-align: right;\">         0</td><td style=\"text-align: right;\">          0</td><td style=\"text-align: right;\">           0</td><td style=\"text-align: right;\">          0</td><td style=\"text-align: right;\">            0</td><td style=\"text-align: right;\">           0</td><td style=\"text-align: right;\">            0</td><td style=\"text-align: right;\">         0</td><td style=\"text-align: right;\">          0</td><td style=\"text-align: right;\">            0</td><td style=\"text-align: right;\">           0</td><td style=\"text-align: right;\">          0</td><td style=\"text-align: right;\">           0</td><td style=\"text-align: right;\">         0</td><td style=\"text-align: right;\">            0</td><td style=\"text-align: right;\">          0</td><td style=\"text-align: right;\">          0</td><td style=\"text-align: right;\">        0</td><td style=\"text-align: right;\">          0</td><td style=\"text-align: right;\">          0</td><td style=\"text-align: right;\">          0</td><td style=\"text-align: right;\">           0</td><td style=\"text-align: right;\">       0</td><td style=\"text-align: right;\">            0</td><td style=\"text-align: right;\">            0</td><td style=\"text-align: right;\">         0</td><td style=\"text-align: right;\">         0</td><td style=\"text-align: right;\">        0</td><td style=\"text-align: right;\">          0</td><td style=\"text-align: right;\">         0</td><td style=\"text-align: right;\">           0</td><td style=\"text-align: right;\">          1</td><td style=\"text-align: right;\">         0</td><td style=\"text-align: right;\">           0</td><td style=\"text-align: right;\">         1</td><td style=\"text-align: right;\">          0</td><td style=\"text-align: right;\">           0</td><td style=\"text-align: right;\">           0</td><td style=\"text-align: right;\">          0</td><td style=\"text-align: right;\">           0</td><td style=\"text-align: right;\">           0</td><td style=\"text-align: right;\">          1</td><td style=\"text-align: right;\">             0</td><td style=\"text-align: right;\">          0</td><td style=\"text-align: right;\">          0</td><td style=\"text-align: right;\">          1</td><td style=\"text-align: right;\">            0</td><td style=\"text-align: right;\">          0</td><td style=\"text-align: right;\">          0</td><td style=\"text-align: right;\">          0</td><td style=\"text-align: right;\">             0</td><td style=\"text-align: right;\">         0</td><td style=\"text-align: right;\">           0</td><td style=\"text-align: right;\">          0</td><td style=\"text-align: right;\">           0</td><td style=\"text-align: right;\">         0</td><td style=\"text-align: right;\">         0</td><td style=\"text-align: right;\">          0</td><td style=\"text-align: right;\">           0</td><td style=\"text-align: right;\">           0</td><td style=\"text-align: right;\">        0</td><td style=\"text-align: right;\">          0</td><td style=\"text-align: right;\">          0</td><td style=\"text-align: right;\">         0</td><td style=\"text-align: right;\">         0</td><td style=\"text-align: right;\">         0</td><td style=\"text-align: right;\">          1</td><td style=\"text-align: right;\">          0</td><td style=\"text-align: right;\">           0</td><td style=\"text-align: right;\">          0</td><td style=\"text-align: right;\">          0</td><td style=\"text-align: right;\">          0</td><td style=\"text-align: right;\">          0</td><td style=\"text-align: right;\">           0</td><td style=\"text-align: right;\">          1</td><td style=\"text-align: right;\">          0</td><td style=\"text-align: right;\">          1</td><td style=\"text-align: right;\">          0</td><td style=\"text-align: right;\">          0</td><td style=\"text-align: right;\">          0</td><td style=\"text-align: right;\">           0</td><td style=\"text-align: right;\">          0</td><td style=\"text-align: right;\">           0</td><td style=\"text-align: right;\">         0</td><td style=\"text-align: right;\">          0</td><td style=\"text-align: right;\">         0</td><td style=\"text-align: right;\">         0</td><td style=\"text-align: right;\">          0</td><td style=\"text-align: right;\">           0</td><td style=\"text-align: right;\">          0</td><td style=\"text-align: right;\">           0</td><td style=\"text-align: right;\">         1</td><td style=\"text-align: right;\">          0</td><td style=\"text-align: right;\">           0</td><td style=\"text-align: right;\">          1</td><td style=\"text-align: right;\">          0</td><td style=\"text-align: right;\">          0</td><td style=\"text-align: right;\">         0</td><td style=\"text-align: right;\">            0</td><td style=\"text-align: right;\">           0</td></tr>\n",
       "</tbody>\n",
       "</table><pre style='font-size: smaller; margin-bottom: 1em;'>[9 rows x 200 columns]</pre>"
      ],
      "text/plain": [
       "index            type        mut_C1orf222    mut_CAMTA1    mut_H6PD    mut_SPEN    mut_HSPG2    mut_ARID1A    mut_ZSCAN20    mut_CSMD2    mut_MACF1    mut_CDCP2    mut_LRRC7    mut_ADGRL2    mut_COL11A1    mut_CHI3L2    mut_OVGP1    mut_NOTCH2    mut_PDE4DIP    mut_OTUD7B    mut_RHBG    mut_SPTA1    mut_BRINP3    mut_ASPM    mut_CRB1    mut_CACNA1S    mut_USH2A    mut_ITPKB    mut_APOB    mut_LTBP1    mut_PRKD3    mut_PREPL    mut_EPAS1    mut_SPTBN1    mut_USP34    mut_ALMS1    mut_IL1R2    mut_LCT    mut_LRP1B    mut_GALNT13    mut_TANC1    mut_SCN2A    mut_XIRP2    mut_LRP2    mut_SCRN3    mut_TTN    mut_DNAH7    mut_MAP2    mut_ERBB4    mut_ABCA12    mut_FN1    mut_COL4A4    mut_COL4A3    mut_COL6A3    mut_NUP210    mut_XIRP1    mut_SETD2    mut_COL7A1    mut_CELSR3    mut_MAGI1    mut_OR5K3    mut_DZIP3    mut_RETNLB    mut_POLQ    mut_KALRN    mut_CEP70    mut_WWTR1    mut_HTR3E    mut_SLIT2    mut_CWH43    mut_ANK2    mut_KIAA1109    mut_FAT4    mut_PCDH10    mut_DCHS2    mut_ADAMTS16    mut_CTNND2    mut_DNAH5    mut_CDH10    mut_CDH6    mut_PDZD2    mut_NIPBL    mut_LIFR    mut_BDP1    mut_ZNF366    mut_DMGDH    mut_VCAN    mut_APC    mut_ZNF474    mut_FBN2    mut_ADAMTS19    mut_SPINK5    mut_FAT2    mut_DOCK2    mut_OR2V2    mut_DNAH8    mut_CUL9    mut_ZNF318    mut_PKHD1    mut_COL12A1    mut_MDN1    mut_PTPRK    mut_HIVEP2    mut_SYNE1    mut_MICALL2    mut_PKD1L1    mut_ZNF804B    mut_RELN    mut_LAMB4    mut_PPP1R3A    mut_PTPRZ1    mut_ASB15    mut_PLXNA4    mut_BRAF    mut_CNTNAP2    mut_KMT2C    mut_TEX15    mut_RP1    mut_PREX2    mut_RIMS2    mut_CSMD3    mut_FER1L6    mut_TG    mut_FAM135B    mut_COL22A1    mut_PLEC    mut_CER1    mut_TEK    mut_TRPM6    mut_ROR2    mut_ZNF462    mut_CCDC7    mut_RBP3    mut_PCDH15    mut_ANK3    mut_KAT6B    mut_SORCS3    mut_ATRNL1    mut_TACC2    mut_OR52D1    mut_OR52N1    mut_OR5L2    mut_TNKS1BP1    mut_AHNAK    mut_NRXN2    mut_C2CD3    mut_GUCY1A2    mut_TECTA    mut_SORL1    mut_AKAP3    mut_C12orf60    mut_KRAS    mut_KIF21A    mut_LRRK2    mut_COL2A1    mut_LRP1    mut_GLI1    mut_TRHDE    mut_LRRIQ1    mut_GNPTAB    mut_CIT    mut_KDM2B    mut_SBNO1    mut_SACS    mut_FLT3    mut_FLT1    mut_RXFP2    mut_FREM2    mut_ZC3H13    mut_PCDH9    mut_FANCM    mut_KCNH5    mut_SYNE2    mut_SLC8A3    mut_NRXN3    mut_UNC79    mut_HERC2    mut_DMXL2    mut_MYO9A    mut_ALPK3    mut_AKAP13    mut_DNAH3    mut_KCTD19    mut_TP53    mut_DNAH2    mut_MYH1    mut_MYH2    mut_DNAH9    mut_GPR179    mut_SPAG9    mut_BZRAP1    mut_CLTC    mut_ABCA8    mut_ABCA10    mut_LAMA1    mut_LAMA3    mut_ALPK2    mut_RTTN    mut_TMPRSS9    mut_ZNF527\n",
       "---------------  --------  --------------  ------------  ----------  ----------  -----------  ------------  -------------  -----------  -----------  -----------  -----------  ------------  -------------  ------------  -----------  ------------  -------------  ------------  ----------  -----------  ------------  ----------  ----------  -------------  -----------  -----------  ----------  -----------  -----------  -----------  -----------  ------------  -----------  -----------  -----------  ---------  -----------  -------------  -----------  -----------  -----------  ----------  -----------  ---------  -----------  ----------  -----------  ------------  ---------  ------------  ------------  ------------  ------------  -----------  -----------  ------------  ------------  -----------  -----------  -----------  ------------  ----------  -----------  -----------  -----------  -----------  -----------  -----------  ----------  --------------  ----------  ------------  -----------  --------------  ------------  -----------  -----------  ----------  -----------  -----------  ----------  ----------  ------------  -----------  ----------  ---------  ------------  ----------  --------------  ------------  ----------  -----------  -----------  -----------  ----------  ------------  -----------  -------------  ----------  -----------  ------------  -----------  -------------  ------------  -------------  ----------  -----------  -------------  ------------  -----------  ------------  ----------  -------------  -----------  -----------  ---------  -----------  -----------  -----------  ------------  --------  -------------  -------------  ----------  ----------  ---------  -----------  ----------  ------------  -----------  ----------  ------------  ----------  -----------  ------------  ------------  -----------  ------------  ------------  -----------  --------------  -----------  -----------  -----------  -------------  -----------  -----------  -----------  --------------  ----------  ------------  -----------  ------------  ----------  ----------  -----------  ------------  ------------  ---------  -----------  -----------  ----------  ----------  ----------  -----------  -----------  ------------  -----------  -----------  -----------  -----------  ------------  -----------  -----------  -----------  -----------  -----------  -----------  ------------  -----------  ------------  ----------  -----------  ----------  ----------  -----------  ------------  -----------  ------------  ----------  -----------  ------------  -----------  -----------  -----------  ----------  -------------  ------------\n",
       "BrainCNS_VFF746  BrainCNS               0             0           0           0            0             0              0            1            0            0            0             0              0             0            0             0              0             0           0            0             0           0           0              0            0            0           0            0            0            0            0             0            0            0            0          0            0              0            0            0            0           0            0          0            0           0            0             0          0             0             0             1             0            1            0             0             0            0            1            0             0           0            0            0            0            0            0            0           0               0           0             0            0               0             0            0            0           0            0            0           0           0             0            0           0          0             0           0               0             0           0            0            0            0           0             0            0              0           0            0             0            0              0             0              0           0            0              0             0            1             0           0              0            1            0          0            0            0            0             0         0              0              0           0           0          0            0           0             1            0           0             0           0            0             0             0            0             0             0            0               0            0            0            0              0            0            0            0               1           0             1            0             0           0           0            0             0             0          0            0            0           0           0           0            0            0             0            0            0            0            0             0            0            0            0            0            0            0             0            0             0           0            0           0           0            0             0            0             0           0            0             0            0            0            0           0              0             0\n",
       "Bowel_KI64       Bowel                  1             1           1           0            0             0              0            1            1            1            0             1              1             0            1             0              0             1           0            1             1           1           1              1            1            1           1            0            1            1            0             0            1            1            0          1            1              1            1            1            0           1            0          1            1           0            1             1          1             0             1             0             1            0            1             1             1            1            0            0             0           1            0            0            0            0            1            0           0               1           1             1            1               0             1            1            0           1            0            0           1           1             1            0           1          1             0           1               0             1           1            1            0            1           0             0            1              1           1            0             1            1              1             1              1           1            0              0             1            0             0           0              1            1            0          1            1            1            1             1         1              1              0           1           1          1            1           1             1            0           1             0           1            1             1             0            0             0             0            1               1            1            1            1              1            1            1            0               0           1             0            1             1           1           1            1             0             1          1            0            0           1           0           0            1            1             1            1            1            0            1             0            1            1            1            1            1            1             1            1             1           1            1           0           1            1             1            1             0           0            1             0            1            1            1           1              1             0\n",
       "Bowel_QEVT62     Bowel                  0             0           0           0            0             0              0            0            0            0            0             0              0             0            0             0              1             1           0            0             0           0           0              0            0            0           0            0            0            0            1             1            0            0            0          0            1              0            0            0            0           0            0          0            0           1            0             0          0             0             0             0             0            0            0             0             0            0            0            0             0           0            0            0            0            0            0            0           1               0           0             0            1               0             0            0            0           0            1            0           0           0             0            0           0          0             0           0               1             0           1            0            0            0           0             0            0              0           0            0             0            0              0             0              0           0            0              0             0            0             0           0              0            0            0          1            0            0            0             0         0              0              0           0           0          0            0           0             0            0           0             0           0            0             0             0            0             0             0            0               0            0            0            0              0            0            0            0               0           1             0            1             0           0           0            0             0             0          0            0            0           0           0           0            0            0             0            0            0            0            0             0            0            0            0            0            0            0             1            1             0           0            1           0           0            0             0            0             0           1            0             0            0            0            1           0              0             0\n",
       "Lung_TXY395      Lung                   0             0           0           0            0             0              0            0            0            1            0             0              0             0            1             0              0             0           0            0             1           0           1              0            1            0           0            0            0            0            0             0            0            0            0          0            1              1            0            0            0           0            0          0            0           0            0             0          0             0             0             0             1            0            0             0             0            0            0            0             0           0            0            0            1            0            0            0           0               1           0             0            0               0             0            0            0           0            0            0           0           0             0            0           0          0             0           0               0             0           1            0            0            0           0             0            0              0           0            0             0            1              0             0              0           0            1              1             0            0             0           0              1            0            0          0            0            0            0             0         0              1              1           1           0          0            0           0             0            1           1             0           0            0             0             1            1             0             0            0               0            0            0            0              1            1            1            0               0           0             0            0             0           1           0            0             0             0          0            0            0           0           0           0            0            0             0            0            0            1            0             0            0            0            0            0            0            0             0            0             1           1            0           0           0            0             0            0             0           0            0             0            0            0            0           0              0             0\n",
       "Lung_JIL5        Lung                   0             0           0           0            0             0              0            0            0            0            0             0              0             0            1             0              0             0           0            0             0           0           0              0            0            0           0            0            1            0            0             0            0            1            0          0            0              1            0            0            0           1            0          0            0           0            0             0          0             0             0             0             1            0            0             0             0            0            0            0             0           0            0            0            0            0            0            0           0               0           0             0            0               0             0            0            0           0            0            1           0           0             0            0           0          0             0           0               0             0           0            0            0            0           0             0            0              0           0            0             0            0              0             0              0           0            0              0             0            0             0           0              0            0            0          0            0            0            0             0         0              0              0           1           0          0            0           0             0            1           0             0           0            0             0             0            0             0             0            0               0            0            0            0              0            0            0            0               0           1             0            0             0           0           0            1             0             0          0            0            0           0           0           0            0            0             0            0            0            0            0             0            1            0            0            0            0            0             0            0             0           0            0           0           0            0             0            0             1           0            0             0            0            1            0           0              0             0\n",
       "Blood_CB485      Blood                  0             0           1           1            0             1              1            1            1            0            0             0              0             0            0             1              0             0           0            0             0           0           0              0            1            0           0            0            0            0            0             0            0            0            0          1            1              0            0            0            1           0            0          0            0           1            1             0          0             0             1             0             0            0            0             1             0            1            0            0             0           0            1            0            0            0            0            0           0               0           0             0            0               0             0            0            0           0            1            0           0           0             0            0           0          0             0           1               0             0           0            0            1            1           0             1            1              1           1            1             1            1              0             0              1           0            1              0             1            0             0           0              0            0            0          0            1            0            1             1         1              1              1           0           0          0            0           0             0            0           1             0           1            0             1             0            0             0             0            0               0            1            1            1              1            0            0            1               0           0             1            0             0           1           1            0             0             0          0            1            1           0           0           0            0            0             0            1            1            1            1             1            1            1            0            0            0            1             0            1             0           1            0           0           1            0             1            0             0           0            0             1            0            1            1           1              1             0\n",
       "Skin_SFL7        Skin                   0             0           0           0            0             0              0            1            0            0            0             1              0             0            0             0              0             1           0            1             0           0           0              0            1            0           0            0            0            0            0             0            0            0            0          0            0              0            0            0            1           0            0          1            0           0            0             0          0             0             1             0             0            1            0             0             0            0            0            0             0           0            0            0            1            0            0            0           1               0           0             0            1               0             0            1            0           0            0            0           0           0             0            0           0          1             0           0               1             0           1            0            0            0           0             0            0              0           0            0             0            0              0             0              0           0            0              0             0            0             0           1              0            0            0          0            0            0            0             0         0              0              0           0           1          0            1           0             0            0           0             0           1            0             0             0            0             0             0            0               0            0            0            0              1            0            0            0               0           0             0            0             0           0           0            0             0             0          1            0            0           0           0           0            0            0             0            0            0            0            0             0            1            0            0            0            0            0             0            0             0           0            0           0           0            0             0            0             0           0            0             0            0            0            0           0              0             0\n",
       "Skin_VAK5        Skin                   1             0           0           0            1             0              0            0            0            0            1             0              0             0            0             0              0             1           0            1             1           0           0              0            0            0           0            0            0            0            0             0            0            1            0          0            0              0            0            0            1           0            0          1            0           0            0             0          0             0             0             0             0            1            0             0             0            1            0            0             0           0            0            1            0            0            0            0           0               0           0             0            0               0             0            0            0           1            0            0           1           0             1            0           0          0             0           0               0             0           0            0            0            0           1             0            0              0           0            0             0            0              1             0              0           0            0              0             0            0             0           1              1            1            0          0            0            0            0             0         0              0              0           0           0          0            0           0             1            0           0             0           0            0             0             0            0             1             0            0               0            0            0            1              0            0            0            0               1           0             0            0             1           0           0            0             0             0          0            0            0           0           0           0            0            0             0            0            1            0            0             0            0            0            0            0            0            0             0            0             0           0            1           1           0            0             0            0             0           0            1             0            0            0            0           0              0             1\n",
       "Ovary_XT38       Ovary                  0             0           0           0            0             0              0            1            0            0            0             0              0             1            0             0              0             0           0            0             0           0           0              0            0            0           0            0            0            0            0             0            0            0            0          0            0              0            0            0            0           0            0          0            0           0            0             0          0             0             0             0             0            0            0             0             0            0            0            1             1           0            0            0            0            0            0            0           0               0           0             0            0               0             0            0            0           0            0            0           0           0             0            0           0          0             0           0               0             0           0            0            0            0           0             0            0              0           0            0             0            0              0             0              0           0            0              0             0            0             0           0              0            0            0          0            0            0            0             0         0              0              0           0           0          0            0           0             0            1           0             0           1            0             0             0            0             0             0            1               0            0            0            1              0            0            0            0               0           0             0            0             0           0           0            0             0             0          0            0            0           0           0           0            1            0             0            0            0            0            0             0            1            0            1            0            0            0             0            0             0           0            0           0           0            0             0            0             0           1            0             0            1            0            0           0              0             0\n",
       "[9 rows x 200 columns]\n"
      ]
     },
     "execution_count": 31,
     "metadata": {},
     "output_type": "execute_result"
    }
   ],
   "source": [
    "test_df = h2o.import_file(path=\"testData.tsv\")\n",
    "test_df.head()"
   ]
  },
  {
   "cell_type": "code",
   "execution_count": 32,
   "id": "a19c334f-8fff-4a6f-a278-a05d2680a851",
   "metadata": {
    "tags": []
   },
   "outputs": [],
   "source": [
    "df[\"type\"] = df[\"type\"].asfactor()"
   ]
  },
  {
   "cell_type": "code",
   "execution_count": 33,
   "id": "1bdcdb83-b258-490f-bcdb-02f090df1006",
   "metadata": {
    "tags": []
   },
   "outputs": [
    {
     "data": {
      "text/plain": [
       "h2o.frame.H2OFrame"
      ]
     },
     "execution_count": 33,
     "metadata": {},
     "output_type": "execute_result"
    }
   ],
   "source": [
    "type(df[\"type\"])"
   ]
  },
  {
   "cell_type": "code",
   "execution_count": 34,
   "id": "69bd3016-f3e8-4401-a51b-b21558b88308",
   "metadata": {
    "tags": []
   },
   "outputs": [
    {
     "data": {
      "text/html": [
       "<table class='dataframe'>\n",
       "<thead>\n",
       "<tr><th>C1      </th></tr>\n",
       "</thead>\n",
       "<tbody>\n",
       "<tr><td>Blood   </td></tr>\n",
       "<tr><td>Bowel   </td></tr>\n",
       "<tr><td>BrainCNS</td></tr>\n",
       "<tr><td>Breast  </td></tr>\n",
       "<tr><td>Kidney  </td></tr>\n",
       "<tr><td>Lung    </td></tr>\n",
       "<tr><td>Ovary   </td></tr>\n",
       "<tr><td>Prostate</td></tr>\n",
       "<tr><td>Skin    </td></tr>\n",
       "</tbody>\n",
       "</table><pre style='font-size: smaller; margin-bottom: 1em;'>[9 rows x 1 column]</pre>"
      ],
      "text/plain": [
       "C1\n",
       "--------\n",
       "Blood\n",
       "Bowel\n",
       "BrainCNS\n",
       "Breast\n",
       "Kidney\n",
       "Lung\n",
       "Ovary\n",
       "Prostate\n",
       "Skin\n",
       "[9 rows x 1 column]\n"
      ]
     },
     "execution_count": 34,
     "metadata": {},
     "output_type": "execute_result"
    }
   ],
   "source": [
    "df[\"type\"].unique()"
   ]
  },
  {
   "cell_type": "code",
   "execution_count": 35,
   "id": "7b690709-2dcc-4367-8dd4-71d7ff09c3e2",
   "metadata": {
    "tags": []
   },
   "outputs": [
    {
     "name": "stdout",
     "output_type": "stream",
     "text": [
      "1525\n"
     ]
    }
   ],
   "source": [
    "i = 0\n",
    "for col in df.columns:\n",
    "    if col in test_df.columns:\n",
    "        i+=1\n",
    "print(i)"
   ]
  },
  {
   "cell_type": "code",
   "execution_count": 36,
   "id": "a91cfbe7-3cb5-43bd-a3b9-981503ad5964",
   "metadata": {
    "tags": []
   },
   "outputs": [
    {
     "name": "stdout",
     "output_type": "stream",
     "text": [
      "deeplearning prediction progress: |██████████████████████████████████████████████| (done) 100%\n"
     ]
    },
    {
     "name": "stderr",
     "output_type": "stream",
     "text": [
      "/opt/conda/lib/python3.10/site-packages/h2o/job.py:81: UserWarning: Test/Validation dataset is missing column 'rna_ATP6V1B1-AS1': substituting in a column of NaN\n",
      "  warnings.warn(w)\n",
      "/opt/conda/lib/python3.10/site-packages/h2o/job.py:81: UserWarning: Test/Validation dataset is missing column 'rna_MNX1-AS1': substituting in a column of NaN\n",
      "  warnings.warn(w)\n",
      "/opt/conda/lib/python3.10/site-packages/h2o/job.py:81: UserWarning: Test/Validation dataset is missing column 'rna_PROSER2-AS1': substituting in a column of NaN\n",
      "  warnings.warn(w)\n",
      "/opt/conda/lib/python3.10/site-packages/h2o/job.py:81: UserWarning: Test/Validation dataset is missing column 'rna_CBR3-AS1': substituting in a column of NaN\n",
      "  warnings.warn(w)\n",
      "/opt/conda/lib/python3.10/site-packages/h2o/job.py:81: UserWarning: Test/Validation dataset is missing column 'rna_MIR3180-5': substituting in a column of NaN\n",
      "  warnings.warn(w)\n",
      "/opt/conda/lib/python3.10/site-packages/h2o/job.py:81: UserWarning: Test/Validation dataset is missing column 'rna_RASSF8-AS1': substituting in a column of NaN\n",
      "  warnings.warn(w)\n",
      "/opt/conda/lib/python3.10/site-packages/h2o/job.py:81: UserWarning: Test/Validation dataset is missing column 'rna_MCM3AP-AS1': substituting in a column of NaN\n",
      "  warnings.warn(w)\n",
      "/opt/conda/lib/python3.10/site-packages/h2o/job.py:81: UserWarning: Test/Validation dataset is missing column 'rna_DICER1-AS1': substituting in a column of NaN\n",
      "  warnings.warn(w)\n",
      "/opt/conda/lib/python3.10/site-packages/h2o/job.py:81: UserWarning: Test/Validation dataset is missing column 'rna_RHPN1-AS1': substituting in a column of NaN\n",
      "  warnings.warn(w)\n",
      "/opt/conda/lib/python3.10/site-packages/h2o/job.py:81: UserWarning: Test/Validation dataset is missing column 'rna_DSCAM-AS1': substituting in a column of NaN\n",
      "  warnings.warn(w)\n",
      "/opt/conda/lib/python3.10/site-packages/h2o/job.py:81: UserWarning: Test/Validation dataset is missing column 'rna_NIFK-AS1': substituting in a column of NaN\n",
      "  warnings.warn(w)\n",
      "/opt/conda/lib/python3.10/site-packages/h2o/job.py:81: UserWarning: Test/Validation dataset is missing column 'rna_SCAMP1-AS1': substituting in a column of NaN\n",
      "  warnings.warn(w)\n",
      "/opt/conda/lib/python3.10/site-packages/h2o/job.py:81: UserWarning: Test/Validation dataset is missing column 'rna_GATA3-AS1': substituting in a column of NaN\n",
      "  warnings.warn(w)\n",
      "/opt/conda/lib/python3.10/site-packages/h2o/job.py:81: UserWarning: Test/Validation dataset is missing column 'rna_ZHX1-C8orf76': substituting in a column of NaN\n",
      "  warnings.warn(w)\n",
      "/opt/conda/lib/python3.10/site-packages/h2o/job.py:81: UserWarning: Test/Validation dataset is missing column 'rna_USP3-AS1': substituting in a column of NaN\n",
      "  warnings.warn(w)\n",
      "/opt/conda/lib/python3.10/site-packages/h2o/job.py:81: UserWarning: Test/Validation dataset is missing column 'rna_ENO1-AS1': substituting in a column of NaN\n",
      "  warnings.warn(w)\n",
      "/opt/conda/lib/python3.10/site-packages/h2o/job.py:81: UserWarning: Test/Validation dataset is missing column 'rna_ZNF793-AS1': substituting in a column of NaN\n",
      "  warnings.warn(w)\n",
      "/opt/conda/lib/python3.10/site-packages/h2o/job.py:81: UserWarning: Test/Validation dataset is missing column 'rna_ST8SIA6-AS1': substituting in a column of NaN\n",
      "  warnings.warn(w)\n",
      "/opt/conda/lib/python3.10/site-packages/h2o/job.py:81: UserWarning: Test/Validation dataset is missing column 'rna_WAC-AS1': substituting in a column of NaN\n",
      "  warnings.warn(w)\n",
      "/opt/conda/lib/python3.10/site-packages/h2o/job.py:81: UserWarning: Test/Validation dataset is missing column 'rna_PRKAG2-AS1': substituting in a column of NaN\n",
      "  warnings.warn(w)\n",
      "/opt/conda/lib/python3.10/site-packages/h2o/job.py:81: UserWarning: Test/Validation dataset is missing column 'rna_TBX2-AS1': substituting in a column of NaN\n",
      "  warnings.warn(w)\n",
      "/opt/conda/lib/python3.10/site-packages/h2o/job.py:81: UserWarning: Test/Validation dataset is missing column 'rna_IPO11-LRRC70': substituting in a column of NaN\n",
      "  warnings.warn(w)\n",
      "/opt/conda/lib/python3.10/site-packages/h2o/job.py:81: UserWarning: Test/Validation dataset is missing column 'rna_TRAM2-AS1': substituting in a column of NaN\n",
      "  warnings.warn(w)\n",
      "/opt/conda/lib/python3.10/site-packages/h2o/job.py:81: UserWarning: Test/Validation dataset is missing column 'rna_GRIK1-AS2': substituting in a column of NaN\n",
      "  warnings.warn(w)\n",
      "/opt/conda/lib/python3.10/site-packages/h2o/job.py:81: UserWarning: Test/Validation dataset is missing column 'rna_TCEB3-AS1': substituting in a column of NaN\n",
      "  warnings.warn(w)\n",
      "/opt/conda/lib/python3.10/site-packages/h2o/job.py:81: UserWarning: Test/Validation dataset is missing column 'rna_HOXC13-AS': substituting in a column of NaN\n",
      "  warnings.warn(w)\n",
      "/opt/conda/lib/python3.10/site-packages/h2o/job.py:81: UserWarning: Test/Validation dataset is missing column 'rna_TMEM254-AS1': substituting in a column of NaN\n",
      "  warnings.warn(w)\n",
      "/opt/conda/lib/python3.10/site-packages/h2o/job.py:81: UserWarning: Test/Validation dataset is missing column 'rna_LHX4-AS1': substituting in a column of NaN\n",
      "  warnings.warn(w)\n",
      "/opt/conda/lib/python3.10/site-packages/h2o/job.py:81: UserWarning: Test/Validation dataset is missing column 'rna_TEN1-CDK3': substituting in a column of NaN\n",
      "  warnings.warn(w)\n",
      "/opt/conda/lib/python3.10/site-packages/h2o/job.py:81: UserWarning: Test/Validation dataset is missing column 'rna_RNA5-8S5': substituting in a column of NaN\n",
      "  warnings.warn(w)\n",
      "/opt/conda/lib/python3.10/site-packages/h2o/job.py:81: UserWarning: Test/Validation dataset is missing column 'rna_UBE2Q1-AS1': substituting in a column of NaN\n",
      "  warnings.warn(w)\n",
      "/opt/conda/lib/python3.10/site-packages/h2o/job.py:81: UserWarning: Test/Validation dataset is missing column 'rna_ASH1L-AS1': substituting in a column of NaN\n",
      "  warnings.warn(w)\n",
      "/opt/conda/lib/python3.10/site-packages/h2o/job.py:81: UserWarning: Test/Validation dataset is missing column 'rna_MYCBP2-AS1': substituting in a column of NaN\n",
      "  warnings.warn(w)\n",
      "/opt/conda/lib/python3.10/site-packages/h2o/job.py:81: UserWarning: Test/Validation dataset is missing column 'rna_ST3GAL6-AS1': substituting in a column of NaN\n",
      "  warnings.warn(w)\n",
      "/opt/conda/lib/python3.10/site-packages/h2o/job.py:81: UserWarning: Test/Validation dataset is missing column 'rna_MIF-AS1': substituting in a column of NaN\n",
      "  warnings.warn(w)\n",
      "/opt/conda/lib/python3.10/site-packages/h2o/job.py:81: UserWarning: Test/Validation dataset is missing column 'rna_DGUOK-AS1': substituting in a column of NaN\n",
      "  warnings.warn(w)\n",
      "/opt/conda/lib/python3.10/site-packages/h2o/job.py:81: UserWarning: Test/Validation dataset is missing column 'rna_TNFAIP8L2-SCNM1': substituting in a column of NaN\n",
      "  warnings.warn(w)\n",
      "/opt/conda/lib/python3.10/site-packages/h2o/job.py:81: UserWarning: Test/Validation dataset is missing column 'rna_TTC28-AS1': substituting in a column of NaN\n",
      "  warnings.warn(w)\n",
      "/opt/conda/lib/python3.10/site-packages/h2o/job.py:81: UserWarning: Test/Validation dataset is missing column 'rna_PCBP2-OT1': substituting in a column of NaN\n",
      "  warnings.warn(w)\n",
      "/opt/conda/lib/python3.10/site-packages/h2o/job.py:81: UserWarning: Test/Validation dataset is missing column 'rna_MAGI2-AS3': substituting in a column of NaN\n",
      "  warnings.warn(w)\n",
      "/opt/conda/lib/python3.10/site-packages/h2o/job.py:81: UserWarning: Test/Validation dataset is missing column 'rna_PPAN-P2RY11': substituting in a column of NaN\n",
      "  warnings.warn(w)\n",
      "/opt/conda/lib/python3.10/site-packages/h2o/job.py:81: UserWarning: Test/Validation dataset is missing column 'rna_NCK1-AS1': substituting in a column of NaN\n",
      "  warnings.warn(w)\n",
      "/opt/conda/lib/python3.10/site-packages/h2o/job.py:81: UserWarning: Test/Validation dataset is missing column 'rna_EMC3-AS1': substituting in a column of NaN\n",
      "  warnings.warn(w)\n",
      "/opt/conda/lib/python3.10/site-packages/h2o/job.py:81: UserWarning: Test/Validation dataset is missing column 'rna_ALOX12-AS1': substituting in a column of NaN\n",
      "  warnings.warn(w)\n",
      "/opt/conda/lib/python3.10/site-packages/h2o/job.py:81: UserWarning: Test/Validation dataset is missing column 'rna_BRWD1-IT2': substituting in a column of NaN\n",
      "  warnings.warn(w)\n",
      "/opt/conda/lib/python3.10/site-packages/h2o/job.py:81: UserWarning: Test/Validation dataset is missing column 'rna_TOB1-AS1': substituting in a column of NaN\n",
      "  warnings.warn(w)\n",
      "/opt/conda/lib/python3.10/site-packages/h2o/job.py:81: UserWarning: Test/Validation dataset is missing column 'rna_KCNMB2-AS1': substituting in a column of NaN\n",
      "  warnings.warn(w)\n",
      "/opt/conda/lib/python3.10/site-packages/h2o/job.py:81: UserWarning: Test/Validation dataset is missing column 'rna_ZNF561-AS1': substituting in a column of NaN\n",
      "  warnings.warn(w)\n",
      "/opt/conda/lib/python3.10/site-packages/h2o/job.py:81: UserWarning: Test/Validation dataset is missing column 'rna_CRHR1-IT1': substituting in a column of NaN\n",
      "  warnings.warn(w)\n",
      "/opt/conda/lib/python3.10/site-packages/h2o/job.py:81: UserWarning: Test/Validation dataset is missing column 'rna_CH17-340M24.3': substituting in a column of NaN\n",
      "  warnings.warn(w)\n",
      "/opt/conda/lib/python3.10/site-packages/h2o/job.py:81: UserWarning: Test/Validation dataset is missing column 'rna_IDH1-AS1': substituting in a column of NaN\n",
      "  warnings.warn(w)\n",
      "/opt/conda/lib/python3.10/site-packages/h2o/job.py:81: UserWarning: Test/Validation dataset is missing column 'rna_RPS10-NUDT3': substituting in a column of NaN\n",
      "  warnings.warn(w)\n",
      "/opt/conda/lib/python3.10/site-packages/h2o/job.py:81: UserWarning: Test/Validation dataset is missing column 'rna_CEBPA-AS1': substituting in a column of NaN\n",
      "  warnings.warn(w)\n",
      "/opt/conda/lib/python3.10/site-packages/h2o/job.py:81: UserWarning: Test/Validation dataset is missing column 'rna_PDCD4-AS1': substituting in a column of NaN\n",
      "  warnings.warn(w)\n",
      "/opt/conda/lib/python3.10/site-packages/h2o/job.py:81: UserWarning: Test/Validation dataset is missing column 'rna_NCBP2-AS2': substituting in a column of NaN\n",
      "  warnings.warn(w)\n",
      "/opt/conda/lib/python3.10/site-packages/h2o/job.py:81: UserWarning: Test/Validation dataset is missing column 'rna_CERS6-AS1': substituting in a column of NaN\n",
      "  warnings.warn(w)\n",
      "/opt/conda/lib/python3.10/site-packages/h2o/job.py:81: UserWarning: Test/Validation dataset is missing column 'rna_IQCJ-SCHIP1': substituting in a column of NaN\n",
      "  warnings.warn(w)\n",
      "/opt/conda/lib/python3.10/site-packages/h2o/job.py:81: UserWarning: Test/Validation dataset is missing column 'rna_EPB41L4A-AS1': substituting in a column of NaN\n",
      "  warnings.warn(w)\n",
      "/opt/conda/lib/python3.10/site-packages/h2o/job.py:81: UserWarning: Test/Validation dataset is missing column 'rna_FOXN3-AS1': substituting in a column of NaN\n",
      "  warnings.warn(w)\n",
      "/opt/conda/lib/python3.10/site-packages/h2o/job.py:81: UserWarning: Test/Validation dataset is missing column 'rna_MIR3198-1': substituting in a column of NaN\n",
      "  warnings.warn(w)\n",
      "/opt/conda/lib/python3.10/site-packages/h2o/job.py:81: UserWarning: Test/Validation dataset is missing column 'rna_SNAR-H': substituting in a column of NaN\n",
      "  warnings.warn(w)\n",
      "/opt/conda/lib/python3.10/site-packages/h2o/job.py:81: UserWarning: Test/Validation dataset is missing column 'rna_NRSN2-AS1': substituting in a column of NaN\n",
      "  warnings.warn(w)\n",
      "/opt/conda/lib/python3.10/site-packages/h2o/job.py:81: UserWarning: Test/Validation dataset is missing column 'rna_RAET1E-AS1': substituting in a column of NaN\n",
      "  warnings.warn(w)\n",
      "/opt/conda/lib/python3.10/site-packages/h2o/job.py:81: UserWarning: Test/Validation dataset is missing column 'rna_RUSC1-AS1': substituting in a column of NaN\n",
      "  warnings.warn(w)\n",
      "/opt/conda/lib/python3.10/site-packages/h2o/job.py:81: UserWarning: Test/Validation dataset is missing column 'rna_ERICH6-AS1': substituting in a column of NaN\n",
      "  warnings.warn(w)\n",
      "/opt/conda/lib/python3.10/site-packages/h2o/job.py:81: UserWarning: Test/Validation dataset is missing column 'rna_SLC25A21-AS1': substituting in a column of NaN\n",
      "  warnings.warn(w)\n",
      "/opt/conda/lib/python3.10/site-packages/h2o/job.py:81: UserWarning: Test/Validation dataset is missing column 'rna_PRMT5-AS1': substituting in a column of NaN\n",
      "  warnings.warn(w)\n",
      "/opt/conda/lib/python3.10/site-packages/h2o/job.py:81: UserWarning: Test/Validation dataset is missing column 'rna_TAPT1-AS1': substituting in a column of NaN\n",
      "  warnings.warn(w)\n",
      "/opt/conda/lib/python3.10/site-packages/h2o/job.py:81: UserWarning: Test/Validation dataset is missing column 'rna_EEF1E1-BLOC1S5': substituting in a column of NaN\n",
      "  warnings.warn(w)\n",
      "/opt/conda/lib/python3.10/site-packages/h2o/job.py:81: UserWarning: Test/Validation dataset is missing column 'rna_SUCLG2-AS1': substituting in a column of NaN\n",
      "  warnings.warn(w)\n",
      "/opt/conda/lib/python3.10/site-packages/h2o/job.py:81: UserWarning: Test/Validation dataset is missing column 'rna_RPL17-C18orf32': substituting in a column of NaN\n",
      "  warnings.warn(w)\n",
      "/opt/conda/lib/python3.10/site-packages/h2o/job.py:81: UserWarning: Test/Validation dataset is missing column 'rna_ZNF667-AS1': substituting in a column of NaN\n",
      "  warnings.warn(w)\n",
      "/opt/conda/lib/python3.10/site-packages/h2o/job.py:81: UserWarning: Test/Validation dataset is missing column 'rna_RPARP-AS1': substituting in a column of NaN\n",
      "  warnings.warn(w)\n",
      "/opt/conda/lib/python3.10/site-packages/h2o/job.py:81: UserWarning: Test/Validation dataset is missing column 'rna_TMED7-TICAM2': substituting in a column of NaN\n",
      "  warnings.warn(w)\n",
      "/opt/conda/lib/python3.10/site-packages/h2o/job.py:81: UserWarning: Test/Validation dataset is missing column 'rna_HOXD-AS2': substituting in a column of NaN\n",
      "  warnings.warn(w)\n",
      "/opt/conda/lib/python3.10/site-packages/h2o/job.py:81: UserWarning: Test/Validation dataset is missing column 'rna_MAPKAPK5-AS1': substituting in a column of NaN\n",
      "  warnings.warn(w)\n"
     ]
    },
    {
     "data": {
      "text/html": [
       "<table class='dataframe'>\n",
       "<thead>\n",
       "<tr><th style=\"text-align: right;\">  predict</th><th style=\"text-align: right;\">      p0</th><th style=\"text-align: right;\">         p1</th></tr>\n",
       "</thead>\n",
       "<tbody>\n",
       "<tr><td style=\"text-align: right;\">        0</td><td style=\"text-align: right;\">1       </td><td style=\"text-align: right;\">5.47895e-14</td></tr>\n",
       "<tr><td style=\"text-align: right;\">        0</td><td style=\"text-align: right;\">0.800721</td><td style=\"text-align: right;\">0.199279   </td></tr>\n",
       "<tr><td style=\"text-align: right;\">        0</td><td style=\"text-align: right;\">0.999995</td><td style=\"text-align: right;\">4.84216e-06</td></tr>\n",
       "<tr><td style=\"text-align: right;\">        0</td><td style=\"text-align: right;\">0.999998</td><td style=\"text-align: right;\">2.47261e-06</td></tr>\n",
       "<tr><td style=\"text-align: right;\">        0</td><td style=\"text-align: right;\">0.999996</td><td style=\"text-align: right;\">4.16644e-06</td></tr>\n",
       "<tr><td style=\"text-align: right;\">        0</td><td style=\"text-align: right;\">0.999889</td><td style=\"text-align: right;\">0.00011145 </td></tr>\n",
       "<tr><td style=\"text-align: right;\">        0</td><td style=\"text-align: right;\">0.99999 </td><td style=\"text-align: right;\">9.621e-06  </td></tr>\n",
       "<tr><td style=\"text-align: right;\">        0</td><td style=\"text-align: right;\">1       </td><td style=\"text-align: right;\">3.92428e-10</td></tr>\n",
       "<tr><td style=\"text-align: right;\">        0</td><td style=\"text-align: right;\">1       </td><td style=\"text-align: right;\">8.02495e-10</td></tr>\n",
       "</tbody>\n",
       "</table><pre style='font-size: smaller; margin-bottom: 1em;'>[9 rows x 3 columns]</pre>"
      ],
      "text/plain": [
       "  predict        p0           p1\n",
       "---------  --------  -----------\n",
       "        0  1         5.47895e-14\n",
       "        0  0.800721  0.199279\n",
       "        0  0.999995  4.84216e-06\n",
       "        0  0.999998  2.47261e-06\n",
       "        0  0.999996  4.16644e-06\n",
       "        0  0.999889  0.00011145\n",
       "        0  0.99999   9.621e-06\n",
       "        0  1         3.92428e-10\n",
       "        0  1         8.02495e-10\n",
       "[9 rows x 3 columns]\n"
      ]
     },
     "execution_count": 36,
     "metadata": {},
     "output_type": "execute_result"
    }
   ],
   "source": [
    "fulvestrant_predict = fulvestrant_model.predict(test_df)\n",
    "fulvestrant_predict"
   ]
  },
  {
   "cell_type": "markdown",
   "id": "601a5cbc-fa31-4847-ba0e-e2271a41420b",
   "metadata": {
    "tags": []
   },
   "source": [
    "fulvestrant_model.shap_summary_plot(test_df)"
   ]
  },
  {
   "cell_type": "code",
   "execution_count": 42,
   "id": "bd4473bd-d0d6-41d5-9813-fdac8543f324",
   "metadata": {},
   "outputs": [
    {
     "name": "stdout",
     "output_type": "stream",
     "text": [
      "variable               rna_ZDHHC11\n",
      "relative_importance            1.0\n",
      "scaled_importance              1.0\n",
      "percentage                0.000781\n",
      "Name: 0, dtype: object\n",
      "variable               rna_ZDHHC11\n",
      "relative_importance            1.0\n",
      "scaled_importance              1.0\n",
      "percentage                0.000781\n",
      "Name: 0, dtype: object\n",
      "variable               rna_ZDHHC11\n",
      "relative_importance            1.0\n",
      "scaled_importance              1.0\n",
      "percentage                0.000781\n",
      "Name: 0, dtype: object\n",
      "variable               rna_ZDHHC11\n",
      "relative_importance            1.0\n",
      "scaled_importance              1.0\n",
      "percentage                0.000781\n",
      "Name: 0, dtype: object\n",
      "variable               rna_ZDHHC11\n",
      "relative_importance            1.0\n",
      "scaled_importance              1.0\n",
      "percentage                0.000781\n",
      "Name: 0, dtype: object\n",
      "variable               rna_ZDHHC11\n",
      "relative_importance            1.0\n",
      "scaled_importance              1.0\n",
      "percentage                0.000781\n",
      "Name: 0, dtype: object\n",
      "variable               rna_ZDHHC11\n",
      "relative_importance            1.0\n",
      "scaled_importance              1.0\n",
      "percentage                0.000781\n",
      "Name: 0, dtype: object\n",
      "variable               rna_ZDHHC11\n",
      "relative_importance            1.0\n",
      "scaled_importance              1.0\n",
      "percentage                0.000781\n",
      "Name: 0, dtype: object\n",
      "variable               rna_ZDHHC11\n",
      "relative_importance            1.0\n",
      "scaled_importance              1.0\n",
      "percentage                0.000781\n",
      "Name: 0, dtype: object\n"
     ]
    }
   ],
   "source": [
    "for i in range(len(test_df)):\n",
    "    print(fulvestrant_model.varimp(test_df[i]).iloc[0])"
   ]
  },
  {
   "cell_type": "code",
   "execution_count": null,
   "id": "4c916470-2a0f-4630-8485-de962d1084d8",
   "metadata": {},
   "outputs": [],
   "source": []
  },
  {
   "cell_type": "code",
   "execution_count": 10,
   "id": "c8120d0c-8fa2-4b29-979f-6dd8798be2b6",
   "metadata": {
    "tags": []
   },
   "outputs": [
    {
     "name": "stdout",
     "output_type": "stream",
     "text": [
      "Parse progress: |████████████████████████████████████████████████████████████████| (done) 100%\n"
     ]
    },
    {
     "data": {
      "text/plain": [
       "(48, 837)"
      ]
     },
     "execution_count": 10,
     "metadata": {},
     "output_type": "execute_result"
    }
   ],
   "source": [
    "df = h2o.import_file(path=\"Gefitinib_final.csv\")\n",
    "df.shape"
   ]
  },
  {
   "cell_type": "code",
   "execution_count": 11,
   "id": "2e158374-eb20-4a8e-ab39-bca286299373",
   "metadata": {
    "tags": []
   },
   "outputs": [],
   "source": [
    "model_path = \"/root/capsule/code/Gefitinib/DeepLearning_grid_2_AutoML_9_20231119_91641_model_9\"\n",
    "# code/Gefitinib/DeepLearning_grid_2_AutoML_9_20231119_91641_model_9\n",
    "gefitinib_model = h2o.load_model(model_path)"
   ]
  },
  {
   "cell_type": "code",
   "execution_count": 12,
   "id": "b50e6ca0-be09-4842-8a38-3ba424d5a42a",
   "metadata": {
    "tags": []
   },
   "outputs": [
    {
     "name": "stdout",
     "output_type": "stream",
     "text": [
      "deeplearning prediction progress: |██████████████████████████████████████████████| (done) 100%\n"
     ]
    },
    {
     "name": "stderr",
     "output_type": "stream",
     "text": [
      "/opt/conda/lib/python3.10/site-packages/h2o/job.py:81: UserWarning: Test/Validation dataset is missing column 'rna_EPB41L4A-AS1': substituting in a column of NaN\n",
      "  warnings.warn(w)\n",
      "/opt/conda/lib/python3.10/site-packages/h2o/job.py:81: UserWarning: Test/Validation dataset is missing column 'rna_HNRNPUL2-BSCL2': substituting in a column of NaN\n",
      "  warnings.warn(w)\n",
      "/opt/conda/lib/python3.10/site-packages/h2o/job.py:81: UserWarning: Test/Validation dataset is missing column 'rna_HOXD-AS2': substituting in a column of NaN\n",
      "  warnings.warn(w)\n",
      "/opt/conda/lib/python3.10/site-packages/h2o/job.py:81: UserWarning: Test/Validation dataset is missing column 'rna_SUCLG2-AS1': substituting in a column of NaN\n",
      "  warnings.warn(w)\n",
      "/opt/conda/lib/python3.10/site-packages/h2o/job.py:81: UserWarning: Test/Validation dataset is missing column 'rna_TRIM52-AS1': substituting in a column of NaN\n",
      "  warnings.warn(w)\n",
      "/opt/conda/lib/python3.10/site-packages/h2o/job.py:81: UserWarning: Test/Validation dataset is missing column 'rna_CERS6-AS1': substituting in a column of NaN\n",
      "  warnings.warn(w)\n",
      "/opt/conda/lib/python3.10/site-packages/h2o/job.py:81: UserWarning: Test/Validation dataset is missing column 'rna_LMO7-AS1': substituting in a column of NaN\n",
      "  warnings.warn(w)\n",
      "/opt/conda/lib/python3.10/site-packages/h2o/job.py:81: UserWarning: Test/Validation dataset is missing column 'rna_PRMT5-AS1': substituting in a column of NaN\n",
      "  warnings.warn(w)\n",
      "/opt/conda/lib/python3.10/site-packages/h2o/job.py:81: UserWarning: Test/Validation dataset is missing column 'rna_ZNF503-AS2': substituting in a column of NaN\n",
      "  warnings.warn(w)\n",
      "/opt/conda/lib/python3.10/site-packages/h2o/job.py:81: UserWarning: Test/Validation dataset is missing column 'rna_TTC28-AS1': substituting in a column of NaN\n",
      "  warnings.warn(w)\n",
      "/opt/conda/lib/python3.10/site-packages/h2o/job.py:81: UserWarning: Test/Validation dataset is missing column 'rna_CA3-AS1': substituting in a column of NaN\n",
      "  warnings.warn(w)\n",
      "/opt/conda/lib/python3.10/site-packages/h2o/job.py:81: UserWarning: Test/Validation dataset is missing column 'rna_FOXP4-AS1': substituting in a column of NaN\n",
      "  warnings.warn(w)\n",
      "/opt/conda/lib/python3.10/site-packages/h2o/job.py:81: UserWarning: Test/Validation dataset is missing column 'rna_NKX2-4': substituting in a column of NaN\n",
      "  warnings.warn(w)\n",
      "/opt/conda/lib/python3.10/site-packages/h2o/job.py:81: UserWarning: Test/Validation dataset is missing column 'rna_IPO11-LRRC70': substituting in a column of NaN\n",
      "  warnings.warn(w)\n",
      "/opt/conda/lib/python3.10/site-packages/h2o/job.py:81: UserWarning: Test/Validation dataset is missing column 'rna_RPL36A-HNRNPH2': substituting in a column of NaN\n",
      "  warnings.warn(w)\n",
      "/opt/conda/lib/python3.10/site-packages/h2o/job.py:81: UserWarning: Test/Validation dataset is missing column 'rna_ZHX1-C8orf76': substituting in a column of NaN\n",
      "  warnings.warn(w)\n"
     ]
    },
    {
     "data": {
      "text/html": [
       "<table class='dataframe'>\n",
       "<thead>\n",
       "<tr><th style=\"text-align: right;\">  predict</th><th style=\"text-align: right;\">         p0</th><th style=\"text-align: right;\">         p1</th></tr>\n",
       "</thead>\n",
       "<tbody>\n",
       "<tr><td style=\"text-align: right;\">        0</td><td style=\"text-align: right;\">1          </td><td style=\"text-align: right;\">1.84273e-09</td></tr>\n",
       "<tr><td style=\"text-align: right;\">        0</td><td style=\"text-align: right;\">1          </td><td style=\"text-align: right;\">2.58347e-07</td></tr>\n",
       "<tr><td style=\"text-align: right;\">        0</td><td style=\"text-align: right;\">1          </td><td style=\"text-align: right;\">2.84996e-09</td></tr>\n",
       "<tr><td style=\"text-align: right;\">        0</td><td style=\"text-align: right;\">0.931127   </td><td style=\"text-align: right;\">0.068873   </td></tr>\n",
       "<tr><td style=\"text-align: right;\">        0</td><td style=\"text-align: right;\">0.999085   </td><td style=\"text-align: right;\">0.000915011</td></tr>\n",
       "<tr><td style=\"text-align: right;\">        0</td><td style=\"text-align: right;\">1          </td><td style=\"text-align: right;\">3.53363e-11</td></tr>\n",
       "<tr><td style=\"text-align: right;\">        0</td><td style=\"text-align: right;\">0.000144401</td><td style=\"text-align: right;\">0.999856   </td></tr>\n",
       "<tr><td style=\"text-align: right;\">        0</td><td style=\"text-align: right;\">0.632612   </td><td style=\"text-align: right;\">0.367388   </td></tr>\n",
       "<tr><td style=\"text-align: right;\">        0</td><td style=\"text-align: right;\">1          </td><td style=\"text-align: right;\">8.67009e-09</td></tr>\n",
       "</tbody>\n",
       "</table><pre style='font-size: smaller; margin-bottom: 1em;'>[9 rows x 3 columns]</pre>"
      ],
      "text/plain": [
       "  predict           p0           p1\n",
       "---------  -----------  -----------\n",
       "        0  1            1.84273e-09\n",
       "        0  1            2.58347e-07\n",
       "        0  1            2.84996e-09\n",
       "        0  0.931127     0.068873\n",
       "        0  0.999085     0.000915011\n",
       "        0  1            3.53363e-11\n",
       "        0  0.000144401  0.999856\n",
       "        0  0.632612     0.367388\n",
       "        0  1            8.67009e-09\n",
       "[9 rows x 3 columns]\n"
      ]
     },
     "execution_count": 12,
     "metadata": {},
     "output_type": "execute_result"
    }
   ],
   "source": [
    "gefitinib_predict = gefitinib_model.predict(test_df)\n",
    "gefitinib_predict"
   ]
  },
  {
   "cell_type": "code",
   "execution_count": 46,
   "id": "6429475a-3f82-42b6-a6a9-5edbdc520f37",
   "metadata": {},
   "outputs": [
    {
     "name": "stdout",
     "output_type": "stream",
     "text": [
      "variable               rna_PLCXD3\n",
      "relative_importance           1.0\n",
      "scaled_importance             1.0\n",
      "percentage               0.001389\n",
      "Name: 0, dtype: object\n",
      "variable               rna_PLCXD3\n",
      "relative_importance           1.0\n",
      "scaled_importance             1.0\n",
      "percentage               0.001389\n",
      "Name: 0, dtype: object\n",
      "variable               rna_PLCXD3\n",
      "relative_importance           1.0\n",
      "scaled_importance             1.0\n",
      "percentage               0.001389\n",
      "Name: 0, dtype: object\n",
      "variable               rna_PLCXD3\n",
      "relative_importance           1.0\n",
      "scaled_importance             1.0\n",
      "percentage               0.001389\n",
      "Name: 0, dtype: object\n",
      "variable               rna_PLCXD3\n",
      "relative_importance           1.0\n",
      "scaled_importance             1.0\n",
      "percentage               0.001389\n",
      "Name: 0, dtype: object\n",
      "variable               rna_PLCXD3\n",
      "relative_importance           1.0\n",
      "scaled_importance             1.0\n",
      "percentage               0.001389\n",
      "Name: 0, dtype: object\n",
      "variable               rna_PLCXD3\n",
      "relative_importance           1.0\n",
      "scaled_importance             1.0\n",
      "percentage               0.001389\n",
      "Name: 0, dtype: object\n",
      "variable               rna_PLCXD3\n",
      "relative_importance           1.0\n",
      "scaled_importance             1.0\n",
      "percentage               0.001389\n",
      "Name: 0, dtype: object\n",
      "variable               rna_PLCXD3\n",
      "relative_importance           1.0\n",
      "scaled_importance             1.0\n",
      "percentage               0.001389\n",
      "Name: 0, dtype: object\n"
     ]
    }
   ],
   "source": [
    "for i in range(len(test_df)):\n",
    "    print(gefitinib_model.varimp(test_df[i]).iloc[0])"
   ]
  },
  {
   "cell_type": "code",
   "execution_count": null,
   "id": "3ce3ad9c-fd4b-461d-a81e-30f9f9b16a7b",
   "metadata": {},
   "outputs": [],
   "source": []
  },
  {
   "cell_type": "code",
   "execution_count": 17,
   "id": "2645c678-74fa-4527-97a2-d515f8966e7a",
   "metadata": {},
   "outputs": [],
   "source": [
    "model_path = \"/root/capsule/code/Mitomycin/DeepLearning_grid_2_AutoML_4_20231119_83344_model_3\"\n",
    "# code/Gefitinib/DeepLearning_grid_2_AutoML_9_20231119_91641_model_9\n",
    "mitomycin_model = h2o.load_model(model_path)"
   ]
  },
  {
   "cell_type": "code",
   "execution_count": 18,
   "id": "2b9ffe07-cf89-41ae-babb-8e1f0bf59e06",
   "metadata": {
    "tags": []
   },
   "outputs": [
    {
     "name": "stdout",
     "output_type": "stream",
     "text": [
      "deeplearning prediction progress: |██████████████████████████████████████████████| (done) 100%\n"
     ]
    },
    {
     "name": "stderr",
     "output_type": "stream",
     "text": [
      "/opt/conda/lib/python3.10/site-packages/h2o/job.py:81: UserWarning: Test/Validation dataset is missing column 'rna_PSMG3-AS1': substituting in a column of NaN\n",
      "  warnings.warn(w)\n",
      "/opt/conda/lib/python3.10/site-packages/h2o/job.py:81: UserWarning: Test/Validation dataset is missing column 'rna_RUNX1-IT1': substituting in a column of NaN\n",
      "  warnings.warn(w)\n",
      "/opt/conda/lib/python3.10/site-packages/h2o/job.py:81: UserWarning: Test/Validation dataset is missing column 'rna_TMX2-CTNND1': substituting in a column of NaN\n",
      "  warnings.warn(w)\n",
      "/opt/conda/lib/python3.10/site-packages/h2o/job.py:81: UserWarning: Test/Validation dataset is missing column 'rna_MCM3AP-AS1': substituting in a column of NaN\n",
      "  warnings.warn(w)\n",
      "/opt/conda/lib/python3.10/site-packages/h2o/job.py:81: UserWarning: Test/Validation dataset is missing column 'rna_PRRT3-AS1': substituting in a column of NaN\n",
      "  warnings.warn(w)\n",
      "/opt/conda/lib/python3.10/site-packages/h2o/job.py:81: UserWarning: Test/Validation dataset is missing column 'rna_STARD4-AS1': substituting in a column of NaN\n",
      "  warnings.warn(w)\n",
      "/opt/conda/lib/python3.10/site-packages/h2o/job.py:81: UserWarning: Test/Validation dataset is missing column 'rna_ZFHX4-AS1': substituting in a column of NaN\n",
      "  warnings.warn(w)\n",
      "/opt/conda/lib/python3.10/site-packages/h2o/job.py:81: UserWarning: Test/Validation dataset is missing column 'rna_MAFG-AS1': substituting in a column of NaN\n",
      "  warnings.warn(w)\n",
      "/opt/conda/lib/python3.10/site-packages/h2o/job.py:81: UserWarning: Test/Validation dataset is missing column 'rna_SOCS2-AS1': substituting in a column of NaN\n",
      "  warnings.warn(w)\n",
      "/opt/conda/lib/python3.10/site-packages/h2o/job.py:81: UserWarning: Test/Validation dataset is missing column 'rna_PAXIP1-AS2': substituting in a column of NaN\n",
      "  warnings.warn(w)\n",
      "/opt/conda/lib/python3.10/site-packages/h2o/job.py:81: UserWarning: Test/Validation dataset is missing column 'rna_C1QTNF9B-AS1': substituting in a column of NaN\n",
      "  warnings.warn(w)\n",
      "/opt/conda/lib/python3.10/site-packages/h2o/job.py:81: UserWarning: Test/Validation dataset is missing column 'rna_LENG8-AS1': substituting in a column of NaN\n",
      "  warnings.warn(w)\n",
      "/opt/conda/lib/python3.10/site-packages/h2o/job.py:81: UserWarning: Test/Validation dataset is missing column 'rna_BLOC1S5-TXNDC5': substituting in a column of NaN\n",
      "  warnings.warn(w)\n",
      "/opt/conda/lib/python3.10/site-packages/h2o/job.py:81: UserWarning: Test/Validation dataset is missing column 'rna_BOK-AS1': substituting in a column of NaN\n",
      "  warnings.warn(w)\n",
      "/opt/conda/lib/python3.10/site-packages/h2o/job.py:81: UserWarning: Test/Validation dataset is missing column 'rna_PCBP2-OT1': substituting in a column of NaN\n",
      "  warnings.warn(w)\n",
      "/opt/conda/lib/python3.10/site-packages/h2o/job.py:81: UserWarning: Test/Validation dataset is missing column 'rna_SPAG5-AS1': substituting in a column of NaN\n",
      "  warnings.warn(w)\n",
      "/opt/conda/lib/python3.10/site-packages/h2o/job.py:81: UserWarning: Test/Validation dataset is missing column 'rna_PRR34-AS1': substituting in a column of NaN\n",
      "  warnings.warn(w)\n",
      "/opt/conda/lib/python3.10/site-packages/h2o/job.py:81: UserWarning: Test/Validation dataset is missing column 'rna_UBE2Q1-AS1': substituting in a column of NaN\n",
      "  warnings.warn(w)\n",
      "/opt/conda/lib/python3.10/site-packages/h2o/job.py:81: UserWarning: Test/Validation dataset is missing column 'rna_ARPC4-TTLL3': substituting in a column of NaN\n",
      "  warnings.warn(w)\n",
      "/opt/conda/lib/python3.10/site-packages/h2o/job.py:81: UserWarning: Test/Validation dataset is missing column 'rna_FGF14-AS2': substituting in a column of NaN\n",
      "  warnings.warn(w)\n",
      "/opt/conda/lib/python3.10/site-packages/h2o/job.py:81: UserWarning: Test/Validation dataset is missing column 'rna_ASH1L-AS1': substituting in a column of NaN\n",
      "  warnings.warn(w)\n",
      "/opt/conda/lib/python3.10/site-packages/h2o/job.py:81: UserWarning: Test/Validation dataset is missing column 'rna_FOXD2-AS1': substituting in a column of NaN\n",
      "  warnings.warn(w)\n",
      "/opt/conda/lib/python3.10/site-packages/h2o/job.py:81: UserWarning: Test/Validation dataset is missing column 'rna_EEF1E1-BLOC1S5': substituting in a column of NaN\n",
      "  warnings.warn(w)\n",
      "/opt/conda/lib/python3.10/site-packages/h2o/job.py:81: UserWarning: Test/Validation dataset is missing column 'rna_TMEM161B-AS1': substituting in a column of NaN\n",
      "  warnings.warn(w)\n",
      "/opt/conda/lib/python3.10/site-packages/h2o/job.py:81: UserWarning: Test/Validation dataset is missing column 'rna_WT1-AS': substituting in a column of NaN\n",
      "  warnings.warn(w)\n",
      "/opt/conda/lib/python3.10/site-packages/h2o/job.py:81: UserWarning: Test/Validation dataset is missing column 'rna_ERVH48-1': substituting in a column of NaN\n",
      "  warnings.warn(w)\n"
     ]
    },
    {
     "data": {
      "text/html": [
       "<table class='dataframe'>\n",
       "<thead>\n",
       "<tr><th style=\"text-align: right;\">  predict</th><th style=\"text-align: right;\">         p0</th><th style=\"text-align: right;\">          p1</th></tr>\n",
       "</thead>\n",
       "<tbody>\n",
       "<tr><td style=\"text-align: right;\">        0</td><td style=\"text-align: right;\">1          </td><td style=\"text-align: right;\">3.87848e-16 </td></tr>\n",
       "<tr><td style=\"text-align: right;\">        1</td><td style=\"text-align: right;\">3.70666e-24</td><td style=\"text-align: right;\">1           </td></tr>\n",
       "<tr><td style=\"text-align: right;\">        0</td><td style=\"text-align: right;\">1          </td><td style=\"text-align: right;\">2.30227e-132</td></tr>\n",
       "<tr><td style=\"text-align: right;\">        0</td><td style=\"text-align: right;\">0.99838    </td><td style=\"text-align: right;\">0.00162013  </td></tr>\n",
       "<tr><td style=\"text-align: right;\">        1</td><td style=\"text-align: right;\">6.0207e-54 </td><td style=\"text-align: right;\">1           </td></tr>\n",
       "<tr><td style=\"text-align: right;\">        1</td><td style=\"text-align: right;\">5.2224e-64 </td><td style=\"text-align: right;\">1           </td></tr>\n",
       "<tr><td style=\"text-align: right;\">        0</td><td style=\"text-align: right;\">0.000335744</td><td style=\"text-align: right;\">0.999664    </td></tr>\n",
       "<tr><td style=\"text-align: right;\">        0</td><td style=\"text-align: right;\">0.00340544 </td><td style=\"text-align: right;\">0.996595    </td></tr>\n",
       "<tr><td style=\"text-align: right;\">        0</td><td style=\"text-align: right;\">0.132568   </td><td style=\"text-align: right;\">0.867432    </td></tr>\n",
       "</tbody>\n",
       "</table><pre style='font-size: smaller; margin-bottom: 1em;'>[9 rows x 3 columns]</pre>"
      ],
      "text/plain": [
       "  predict           p0            p1\n",
       "---------  -----------  ------------\n",
       "        0  1            3.87848e-16\n",
       "        1  3.70666e-24  1\n",
       "        0  1            2.30227e-132\n",
       "        0  0.99838      0.00162013\n",
       "        1  6.0207e-54   1\n",
       "        1  5.2224e-64   1\n",
       "        0  0.000335744  0.999664\n",
       "        0  0.00340544   0.996595\n",
       "        0  0.132568     0.867432\n",
       "[9 rows x 3 columns]\n"
      ]
     },
     "execution_count": 18,
     "metadata": {},
     "output_type": "execute_result"
    }
   ],
   "source": [
    "mitomycin_predict = mitomycin_model.predict(test_df)\n",
    "mitomycin_predict"
   ]
  },
  {
   "cell_type": "code",
   "execution_count": 51,
   "id": "68b358e1-c13d-40a8-a377-c7161ba95cee",
   "metadata": {
    "tags": []
   },
   "outputs": [
    {
     "name": "stdout",
     "output_type": "stream",
     "text": [
      "variable               rna_RAB9A\n",
      "relative_importance          1.0\n",
      "scaled_importance            1.0\n",
      "percentage              0.002862\n",
      "Name: 0, dtype: object\n",
      "variable               rna_RAB9A\n",
      "relative_importance          1.0\n",
      "scaled_importance            1.0\n",
      "percentage              0.002862\n",
      "Name: 0, dtype: object\n",
      "variable               rna_RAB9A\n",
      "relative_importance          1.0\n",
      "scaled_importance            1.0\n",
      "percentage              0.002862\n",
      "Name: 0, dtype: object\n",
      "variable               rna_RAB9A\n",
      "relative_importance          1.0\n",
      "scaled_importance            1.0\n",
      "percentage              0.002862\n",
      "Name: 0, dtype: object\n",
      "variable               rna_RAB9A\n",
      "relative_importance          1.0\n",
      "scaled_importance            1.0\n",
      "percentage              0.002862\n",
      "Name: 0, dtype: object\n",
      "variable               rna_RAB9A\n",
      "relative_importance          1.0\n",
      "scaled_importance            1.0\n",
      "percentage              0.002862\n",
      "Name: 0, dtype: object\n",
      "variable               rna_RAB9A\n",
      "relative_importance          1.0\n",
      "scaled_importance            1.0\n",
      "percentage              0.002862\n",
      "Name: 0, dtype: object\n",
      "variable               rna_RAB9A\n",
      "relative_importance          1.0\n",
      "scaled_importance            1.0\n",
      "percentage              0.002862\n",
      "Name: 0, dtype: object\n",
      "variable               rna_RAB9A\n",
      "relative_importance          1.0\n",
      "scaled_importance            1.0\n",
      "percentage              0.002862\n",
      "Name: 0, dtype: object\n"
     ]
    }
   ],
   "source": [
    "for i in range(len(test_df)):\n",
    "    print(mitomycin_model.varimp(test_df[i]).iloc[0])"
   ]
  },
  {
   "cell_type": "code",
   "execution_count": 19,
   "id": "d832ea29-4f77-4418-b9a4-a7553cf6547f",
   "metadata": {
    "tags": []
   },
   "outputs": [],
   "source": [
    "model_path = \"/root/capsule/code/Rapamycin/GLM_1_AutoML_5_20231119_84245\"\n",
    "\n",
    "# code/Gefitinib/DeepLearning_grid_2_AutoML_9_20231119_91641_model_9\n",
    "rapamycin_model = h2o.load_model(model_path)"
   ]
  },
  {
   "cell_type": "code",
   "execution_count": 20,
   "id": "62b0bb55-b548-4ec7-9e56-3cb66955843c",
   "metadata": {
    "tags": []
   },
   "outputs": [
    {
     "name": "stdout",
     "output_type": "stream",
     "text": [
      "glm prediction progress: |███████████████████████████████████████████████████████| (done) 100%\n"
     ]
    },
    {
     "name": "stderr",
     "output_type": "stream",
     "text": [
      "/opt/conda/lib/python3.10/site-packages/h2o/job.py:81: UserWarning: Test/Validation dataset is missing column 'rna_HLA-B': substituting in a column of NaN\n",
      "  warnings.warn(w)\n",
      "/opt/conda/lib/python3.10/site-packages/h2o/job.py:81: UserWarning: Test/Validation dataset is missing column 'rna_UPK1A-AS1': substituting in a column of NaN\n",
      "  warnings.warn(w)\n",
      "/opt/conda/lib/python3.10/site-packages/h2o/job.py:81: UserWarning: Test/Validation dataset is missing column 'rna_FEZF1-AS1': substituting in a column of NaN\n",
      "  warnings.warn(w)\n",
      "/opt/conda/lib/python3.10/site-packages/h2o/job.py:81: UserWarning: Test/Validation dataset is missing column 'rna_PALM2-AKAP2': substituting in a column of NaN\n",
      "  warnings.warn(w)\n",
      "/opt/conda/lib/python3.10/site-packages/h2o/job.py:81: UserWarning: Test/Validation dataset is missing column 'rna_SPRY4-IT1': substituting in a column of NaN\n",
      "  warnings.warn(w)\n",
      "/opt/conda/lib/python3.10/site-packages/h2o/job.py:81: UserWarning: Test/Validation dataset is missing column 'rna_GAS6-AS2': substituting in a column of NaN\n",
      "  warnings.warn(w)\n",
      "/opt/conda/lib/python3.10/site-packages/h2o/job.py:81: UserWarning: Test/Validation dataset is missing column 'rna_AZIN1-AS1': substituting in a column of NaN\n",
      "  warnings.warn(w)\n",
      "/opt/conda/lib/python3.10/site-packages/h2o/job.py:81: UserWarning: Test/Validation dataset is missing column 'rna_SLCO4A1-AS1': substituting in a column of NaN\n",
      "  warnings.warn(w)\n",
      "/opt/conda/lib/python3.10/site-packages/h2o/job.py:81: UserWarning: Test/Validation dataset is missing column 'rna_RAD51-AS1': substituting in a column of NaN\n",
      "  warnings.warn(w)\n",
      "/opt/conda/lib/python3.10/site-packages/h2o/job.py:81: UserWarning: Test/Validation dataset is missing column 'rna_ZNF664-FAM101A': substituting in a column of NaN\n",
      "  warnings.warn(w)\n",
      "/opt/conda/lib/python3.10/site-packages/h2o/job.py:81: UserWarning: Test/Validation dataset is missing column 'rna_MSC-AS1': substituting in a column of NaN\n",
      "  warnings.warn(w)\n",
      "/opt/conda/lib/python3.10/site-packages/h2o/job.py:81: UserWarning: Test/Validation dataset is missing column 'rna_P4HA2-AS1': substituting in a column of NaN\n",
      "  warnings.warn(w)\n",
      "/opt/conda/lib/python3.10/site-packages/h2o/job.py:81: UserWarning: Test/Validation dataset is missing column 'rna_COL18A1-AS1': substituting in a column of NaN\n",
      "  warnings.warn(w)\n",
      "/opt/conda/lib/python3.10/site-packages/h2o/job.py:81: UserWarning: Test/Validation dataset is missing column 'rna_AGPAT4-IT1': substituting in a column of NaN\n",
      "  warnings.warn(w)\n",
      "/opt/conda/lib/python3.10/site-packages/h2o/job.py:81: UserWarning: Test/Validation dataset is missing column 'rna_BDNF-AS': substituting in a column of NaN\n",
      "  warnings.warn(w)\n",
      "/opt/conda/lib/python3.10/site-packages/h2o/job.py:81: UserWarning: Test/Validation dataset is missing column 'rna_DLGAP1-AS2': substituting in a column of NaN\n",
      "  warnings.warn(w)\n",
      "/opt/conda/lib/python3.10/site-packages/h2o/job.py:81: UserWarning: Test/Validation dataset is missing column 'rna_SBF2-AS1': substituting in a column of NaN\n",
      "  warnings.warn(w)\n",
      "/opt/conda/lib/python3.10/site-packages/h2o/job.py:81: UserWarning: Test/Validation dataset is missing column 'rna_ZMIZ1-AS1': substituting in a column of NaN\n",
      "  warnings.warn(w)\n",
      "/opt/conda/lib/python3.10/site-packages/h2o/job.py:81: UserWarning: Test/Validation dataset is missing column 'rna_ERV3-1': substituting in a column of NaN\n",
      "  warnings.warn(w)\n",
      "/opt/conda/lib/python3.10/site-packages/h2o/job.py:81: UserWarning: Test/Validation dataset is missing column 'rna_LBX2-AS1': substituting in a column of NaN\n",
      "  warnings.warn(w)\n",
      "/opt/conda/lib/python3.10/site-packages/h2o/job.py:81: UserWarning: Test/Validation dataset is missing column 'rna_APITD1-CORT': substituting in a column of NaN\n",
      "  warnings.warn(w)\n",
      "/opt/conda/lib/python3.10/site-packages/h2o/job.py:81: UserWarning: Test/Validation dataset is missing column 'rna_APCDD1L-AS1': substituting in a column of NaN\n",
      "  warnings.warn(w)\n",
      "/opt/conda/lib/python3.10/site-packages/h2o/job.py:81: UserWarning: Test/Validation dataset is missing column 'rna_NKX2-8': substituting in a column of NaN\n",
      "  warnings.warn(w)\n",
      "/opt/conda/lib/python3.10/site-packages/h2o/job.py:81: UserWarning: Test/Validation dataset is missing column 'rna_SNAI3-AS1': substituting in a column of NaN\n",
      "  warnings.warn(w)\n"
     ]
    },
    {
     "data": {
      "text/html": [
       "<table class='dataframe'>\n",
       "<thead>\n",
       "<tr><th style=\"text-align: right;\">  predict</th><th style=\"text-align: right;\">       p0</th><th style=\"text-align: right;\">         p1</th></tr>\n",
       "</thead>\n",
       "<tbody>\n",
       "<tr><td style=\"text-align: right;\">        0</td><td style=\"text-align: right;\">0.470705 </td><td style=\"text-align: right;\">0.529295   </td></tr>\n",
       "<tr><td style=\"text-align: right;\">        0</td><td style=\"text-align: right;\">0.977781 </td><td style=\"text-align: right;\">0.0222191  </td></tr>\n",
       "<tr><td style=\"text-align: right;\">        0</td><td style=\"text-align: right;\">0.99995  </td><td style=\"text-align: right;\">5.02536e-05</td></tr>\n",
       "<tr><td style=\"text-align: right;\">        0</td><td style=\"text-align: right;\">0.0142667</td><td style=\"text-align: right;\">0.985733   </td></tr>\n",
       "<tr><td style=\"text-align: right;\">        0</td><td style=\"text-align: right;\">0.992711 </td><td style=\"text-align: right;\">0.00728883 </td></tr>\n",
       "<tr><td style=\"text-align: right;\">        0</td><td style=\"text-align: right;\">0.410997 </td><td style=\"text-align: right;\">0.589003   </td></tr>\n",
       "<tr><td style=\"text-align: right;\">        0</td><td style=\"text-align: right;\">0.998573 </td><td style=\"text-align: right;\">0.00142692 </td></tr>\n",
       "<tr><td style=\"text-align: right;\">        0</td><td style=\"text-align: right;\">0.803451 </td><td style=\"text-align: right;\">0.196549   </td></tr>\n",
       "<tr><td style=\"text-align: right;\">        0</td><td style=\"text-align: right;\">0.970593 </td><td style=\"text-align: right;\">0.0294066  </td></tr>\n",
       "</tbody>\n",
       "</table><pre style='font-size: smaller; margin-bottom: 1em;'>[9 rows x 3 columns]</pre>"
      ],
      "text/plain": [
       "  predict         p0           p1\n",
       "---------  ---------  -----------\n",
       "        0  0.470705   0.529295\n",
       "        0  0.977781   0.0222191\n",
       "        0  0.99995    5.02536e-05\n",
       "        0  0.0142667  0.985733\n",
       "        0  0.992711   0.00728883\n",
       "        0  0.410997   0.589003\n",
       "        0  0.998573   0.00142692\n",
       "        0  0.803451   0.196549\n",
       "        0  0.970593   0.0294066\n",
       "[9 rows x 3 columns]\n"
      ]
     },
     "execution_count": 20,
     "metadata": {},
     "output_type": "execute_result"
    }
   ],
   "source": [
    "rapamycin_predict = rapamycin_model.predict(test_df)\n",
    "rapamycin_predict"
   ]
  },
  {
   "cell_type": "code",
   "execution_count": 47,
   "id": "6dbfdf62-6ef1-47ec-af88-4847bc8b8abf",
   "metadata": {
    "tags": []
   },
   "outputs": [
    {
     "name": "stdout",
     "output_type": "stream",
     "text": [
      "variable               rna_MCOLN2\n",
      "relative_importance      0.088374\n",
      "scaled_importance             1.0\n",
      "percentage               0.003756\n",
      "Name: 0, dtype: object\n",
      "variable               rna_MCOLN2\n",
      "relative_importance      0.088374\n",
      "scaled_importance             1.0\n",
      "percentage               0.003756\n",
      "Name: 0, dtype: object\n",
      "variable               rna_MCOLN2\n",
      "relative_importance      0.088374\n",
      "scaled_importance             1.0\n",
      "percentage               0.003756\n",
      "Name: 0, dtype: object\n",
      "variable               rna_MCOLN2\n",
      "relative_importance      0.088374\n",
      "scaled_importance             1.0\n",
      "percentage               0.003756\n",
      "Name: 0, dtype: object\n",
      "variable               rna_MCOLN2\n",
      "relative_importance      0.088374\n",
      "scaled_importance             1.0\n",
      "percentage               0.003756\n",
      "Name: 0, dtype: object\n",
      "variable               rna_MCOLN2\n",
      "relative_importance      0.088374\n",
      "scaled_importance             1.0\n",
      "percentage               0.003756\n",
      "Name: 0, dtype: object\n",
      "variable               rna_MCOLN2\n",
      "relative_importance      0.088374\n",
      "scaled_importance             1.0\n",
      "percentage               0.003756\n",
      "Name: 0, dtype: object\n",
      "variable               rna_MCOLN2\n",
      "relative_importance      0.088374\n",
      "scaled_importance             1.0\n",
      "percentage               0.003756\n",
      "Name: 0, dtype: object\n",
      "variable               rna_MCOLN2\n",
      "relative_importance      0.088374\n",
      "scaled_importance             1.0\n",
      "percentage               0.003756\n",
      "Name: 0, dtype: object\n"
     ]
    }
   ],
   "source": [
    "for i in range(len(test_df)):\n",
    "    print(rapamycin_model.varimp(test_df[i]).iloc[0])"
   ]
  },
  {
   "cell_type": "code",
   "execution_count": 21,
   "id": "853d5a25-907f-4a2e-ba19-ce76d78298a9",
   "metadata": {
    "tags": []
   },
   "outputs": [],
   "source": [
    "model_path = \"/root/capsule/code/Mitomycin_Fulvestrant/DeepLearning_grid_1_AutoML_7_20231119_85638_model_8\"\n",
    "\n",
    "mitomycin_fulvestrant_model = h2o.load_model(model_path)\n"
   ]
  },
  {
   "cell_type": "code",
   "execution_count": 22,
   "id": "98601693-70d7-4854-ad95-6a4643e969bf",
   "metadata": {
    "tags": []
   },
   "outputs": [
    {
     "name": "stdout",
     "output_type": "stream",
     "text": [
      "deeplearning prediction progress: |██████████████████████████████████████████████| (done) 100%\n"
     ]
    },
    {
     "name": "stderr",
     "output_type": "stream",
     "text": [
      "/opt/conda/lib/python3.10/site-packages/h2o/job.py:81: UserWarning: Test/Validation dataset is missing column 'rna_CTC-338M12.4': substituting in a column of NaN\n",
      "  warnings.warn(w)\n",
      "/opt/conda/lib/python3.10/site-packages/h2o/job.py:81: UserWarning: Test/Validation dataset is missing column 'rna_TMEM256-PLSCR3': substituting in a column of NaN\n",
      "  warnings.warn(w)\n",
      "/opt/conda/lib/python3.10/site-packages/h2o/job.py:81: UserWarning: Test/Validation dataset is missing column 'rna_PRMT5-AS1': substituting in a column of NaN\n",
      "  warnings.warn(w)\n",
      "/opt/conda/lib/python3.10/site-packages/h2o/job.py:81: UserWarning: Test/Validation dataset is missing column 'rna_MIR3648-1': substituting in a column of NaN\n",
      "  warnings.warn(w)\n",
      "/opt/conda/lib/python3.10/site-packages/h2o/job.py:81: UserWarning: Test/Validation dataset is missing column 'rna_WAC-AS1': substituting in a column of NaN\n",
      "  warnings.warn(w)\n",
      "/opt/conda/lib/python3.10/site-packages/h2o/job.py:81: UserWarning: Test/Validation dataset is missing column 'rna_RAD51L3-RFFL': substituting in a column of NaN\n",
      "  warnings.warn(w)\n",
      "/opt/conda/lib/python3.10/site-packages/h2o/job.py:81: UserWarning: Test/Validation dataset is missing column 'rna_NKX2-1': substituting in a column of NaN\n",
      "  warnings.warn(w)\n",
      "/opt/conda/lib/python3.10/site-packages/h2o/job.py:81: UserWarning: Test/Validation dataset is missing column 'rna_PPAN-P2RY11': substituting in a column of NaN\n",
      "  warnings.warn(w)\n",
      "/opt/conda/lib/python3.10/site-packages/h2o/job.py:81: UserWarning: Test/Validation dataset is missing column 'rna_PAX8-AS1': substituting in a column of NaN\n",
      "  warnings.warn(w)\n",
      "/opt/conda/lib/python3.10/site-packages/h2o/job.py:81: UserWarning: Test/Validation dataset is missing column 'rna_DICER1-AS1': substituting in a column of NaN\n",
      "  warnings.warn(w)\n",
      "/opt/conda/lib/python3.10/site-packages/h2o/job.py:81: UserWarning: Test/Validation dataset is missing column 'rna_FOXD3-AS1': substituting in a column of NaN\n",
      "  warnings.warn(w)\n",
      "/opt/conda/lib/python3.10/site-packages/h2o/job.py:81: UserWarning: Test/Validation dataset is missing column 'rna_RPL17-C18orf32': substituting in a column of NaN\n",
      "  warnings.warn(w)\n",
      "/opt/conda/lib/python3.10/site-packages/h2o/job.py:81: UserWarning: Test/Validation dataset is missing column 'rna_ZEB1-AS1': substituting in a column of NaN\n",
      "  warnings.warn(w)\n",
      "/opt/conda/lib/python3.10/site-packages/h2o/job.py:81: UserWarning: Test/Validation dataset is missing column 'rna_TRPM2-AS': substituting in a column of NaN\n",
      "  warnings.warn(w)\n",
      "/opt/conda/lib/python3.10/site-packages/h2o/job.py:81: UserWarning: Test/Validation dataset is missing column 'rna_MINOS1-NBL1': substituting in a column of NaN\n",
      "  warnings.warn(w)\n",
      "/opt/conda/lib/python3.10/site-packages/h2o/job.py:81: UserWarning: Test/Validation dataset is missing column 'rna_GS1-259H13.2': substituting in a column of NaN\n",
      "  warnings.warn(w)\n",
      "/opt/conda/lib/python3.10/site-packages/h2o/job.py:81: UserWarning: Test/Validation dataset is missing column 'rna_PSMD5-AS1': substituting in a column of NaN\n",
      "  warnings.warn(w)\n",
      "/opt/conda/lib/python3.10/site-packages/h2o/job.py:81: UserWarning: Test/Validation dataset is missing column 'rna_CDC37L1-AS1': substituting in a column of NaN\n",
      "  warnings.warn(w)\n",
      "/opt/conda/lib/python3.10/site-packages/h2o/job.py:81: UserWarning: Test/Validation dataset is missing column 'rna_MYCBP2-AS1': substituting in a column of NaN\n",
      "  warnings.warn(w)\n",
      "/opt/conda/lib/python3.10/site-packages/h2o/job.py:81: UserWarning: Test/Validation dataset is missing column 'rna_CACTIN-AS1': substituting in a column of NaN\n",
      "  warnings.warn(w)\n",
      "/opt/conda/lib/python3.10/site-packages/h2o/job.py:81: UserWarning: Test/Validation dataset is missing column 'rna_PINK1-AS': substituting in a column of NaN\n",
      "  warnings.warn(w)\n",
      "/opt/conda/lib/python3.10/site-packages/h2o/job.py:81: UserWarning: Test/Validation dataset is missing column 'rna_NIPBL-AS1': substituting in a column of NaN\n",
      "  warnings.warn(w)\n",
      "/opt/conda/lib/python3.10/site-packages/h2o/job.py:81: UserWarning: Test/Validation dataset is missing column 'rna_MSANTD3-TMEFF1': substituting in a column of NaN\n",
      "  warnings.warn(w)\n"
     ]
    },
    {
     "data": {
      "text/html": [
       "<table class='dataframe'>\n",
       "<thead>\n",
       "<tr><th style=\"text-align: right;\">  predict</th><th style=\"text-align: right;\">         p0</th><th style=\"text-align: right;\">         p1</th></tr>\n",
       "</thead>\n",
       "<tbody>\n",
       "<tr><td style=\"text-align: right;\">        0</td><td style=\"text-align: right;\">0.414084   </td><td style=\"text-align: right;\">0.585916   </td></tr>\n",
       "<tr><td style=\"text-align: right;\">        1</td><td style=\"text-align: right;\">5.2231e-05 </td><td style=\"text-align: right;\">0.999948   </td></tr>\n",
       "<tr><td style=\"text-align: right;\">        1</td><td style=\"text-align: right;\">4.63977e-19</td><td style=\"text-align: right;\">1          </td></tr>\n",
       "<tr><td style=\"text-align: right;\">        0</td><td style=\"text-align: right;\">0.292603   </td><td style=\"text-align: right;\">0.707397   </td></tr>\n",
       "<tr><td style=\"text-align: right;\">        0</td><td style=\"text-align: right;\">0.999382   </td><td style=\"text-align: right;\">0.00061833 </td></tr>\n",
       "<tr><td style=\"text-align: right;\">        1</td><td style=\"text-align: right;\">1.71186e-10</td><td style=\"text-align: right;\">1          </td></tr>\n",
       "<tr><td style=\"text-align: right;\">        0</td><td style=\"text-align: right;\">0.999952   </td><td style=\"text-align: right;\">4.76384e-05</td></tr>\n",
       "<tr><td style=\"text-align: right;\">        0</td><td style=\"text-align: right;\">1          </td><td style=\"text-align: right;\">4.19325e-08</td></tr>\n",
       "<tr><td style=\"text-align: right;\">        0</td><td style=\"text-align: right;\">0.504567   </td><td style=\"text-align: right;\">0.495433   </td></tr>\n",
       "</tbody>\n",
       "</table><pre style='font-size: smaller; margin-bottom: 1em;'>[9 rows x 3 columns]</pre>"
      ],
      "text/plain": [
       "  predict           p0           p1\n",
       "---------  -----------  -----------\n",
       "        0  0.414084     0.585916\n",
       "        1  5.2231e-05   0.999948\n",
       "        1  4.63977e-19  1\n",
       "        0  0.292603     0.707397\n",
       "        0  0.999382     0.00061833\n",
       "        1  1.71186e-10  1\n",
       "        0  0.999952     4.76384e-05\n",
       "        0  1            4.19325e-08\n",
       "        0  0.504567     0.495433\n",
       "[9 rows x 3 columns]\n"
      ]
     },
     "execution_count": 22,
     "metadata": {},
     "output_type": "execute_result"
    }
   ],
   "source": [
    "mitomycin_fulvestrant_predict = mitomycin_fulvestrant_model.predict(test_df)\n",
    "mitomycin_fulvestrant_predict"
   ]
  },
  {
   "cell_type": "code",
   "execution_count": 60,
   "id": "3798cd5d-e6eb-41c4-b1b4-23bea9067bb7",
   "metadata": {
    "tags": []
   },
   "outputs": [],
   "source": [
    "for i in df['type'].unique():\n",
    "    if i == \"C1\":\n",
    "        continue\n",
    "    print(i)"
   ]
  },
  {
   "cell_type": "code",
   "execution_count": 49,
   "id": "22f8a3e1-0e14-487c-bc5b-4588d6f90f73",
   "metadata": {
    "tags": []
   },
   "outputs": [
    {
     "name": "stdout",
     "output_type": "stream",
     "text": [
      "variable               rna_PLSCR1\n",
      "relative_importance           1.0\n",
      "scaled_importance             1.0\n",
      "percentage               0.002371\n",
      "Name: 0, dtype: object\n",
      "variable               rna_PLSCR1\n",
      "relative_importance           1.0\n",
      "scaled_importance             1.0\n",
      "percentage               0.002371\n",
      "Name: 0, dtype: object\n",
      "variable               rna_PLSCR1\n",
      "relative_importance           1.0\n",
      "scaled_importance             1.0\n",
      "percentage               0.002371\n",
      "Name: 0, dtype: object\n",
      "variable               rna_PLSCR1\n",
      "relative_importance           1.0\n",
      "scaled_importance             1.0\n",
      "percentage               0.002371\n",
      "Name: 0, dtype: object\n",
      "variable               rna_PLSCR1\n",
      "relative_importance           1.0\n",
      "scaled_importance             1.0\n",
      "percentage               0.002371\n",
      "Name: 0, dtype: object\n",
      "variable               rna_PLSCR1\n",
      "relative_importance           1.0\n",
      "scaled_importance             1.0\n",
      "percentage               0.002371\n",
      "Name: 0, dtype: object\n",
      "variable               rna_PLSCR1\n",
      "relative_importance           1.0\n",
      "scaled_importance             1.0\n",
      "percentage               0.002371\n",
      "Name: 0, dtype: object\n",
      "variable               rna_PLSCR1\n",
      "relative_importance           1.0\n",
      "scaled_importance             1.0\n",
      "percentage               0.002371\n",
      "Name: 0, dtype: object\n",
      "variable               rna_PLSCR1\n",
      "relative_importance           1.0\n",
      "scaled_importance             1.0\n",
      "percentage               0.002371\n",
      "Name: 0, dtype: object\n"
     ]
    }
   ],
   "source": [
    "for i in range(len(test_df)):\n",
    "    print(mitomycin_fulvestrant_model.varimp(test_df[i]).iloc[0])"
   ]
  },
  {
   "cell_type": "code",
   "execution_count": 23,
   "id": "3171ea56-7781-4e24-9670-f8ea2f4e2400",
   "metadata": {
    "tags": []
   },
   "outputs": [],
   "source": [
    "model_path = \"/root/capsule/code/Rapamycin_Gefitinib/DeepLearning_grid_1_AutoML_8_20231119_90318_model_3\"\n",
    "\n",
    "rampamycin_Gefitnib_model = h2o.load_model(model_path)\n"
   ]
  },
  {
   "cell_type": "code",
   "execution_count": 24,
   "id": "aa7474a9-58d9-4a4a-b5ae-e7ffa3b74e6c",
   "metadata": {
    "tags": []
   },
   "outputs": [
    {
     "name": "stdout",
     "output_type": "stream",
     "text": [
      "deeplearning prediction progress: |██████████████████████████████████████████████| (done) 100%\n"
     ]
    },
    {
     "name": "stderr",
     "output_type": "stream",
     "text": [
      "/opt/conda/lib/python3.10/site-packages/h2o/job.py:81: UserWarning: Test/Validation dataset is missing column 'rna_RASSF8-AS1': substituting in a column of NaN\n",
      "  warnings.warn(w)\n",
      "/opt/conda/lib/python3.10/site-packages/h2o/job.py:81: UserWarning: Test/Validation dataset is missing column 'rna_TGIF2-C20orf24': substituting in a column of NaN\n",
      "  warnings.warn(w)\n",
      "/opt/conda/lib/python3.10/site-packages/h2o/job.py:81: UserWarning: Test/Validation dataset is missing column 'rna_ZNF667-AS1': substituting in a column of NaN\n",
      "  warnings.warn(w)\n",
      "/opt/conda/lib/python3.10/site-packages/h2o/job.py:81: UserWarning: Test/Validation dataset is missing column 'rna_UCKL1-AS1': substituting in a column of NaN\n",
      "  warnings.warn(w)\n",
      "/opt/conda/lib/python3.10/site-packages/h2o/job.py:81: UserWarning: Test/Validation dataset is missing column 'rna_NOP14-AS1': substituting in a column of NaN\n",
      "  warnings.warn(w)\n",
      "/opt/conda/lib/python3.10/site-packages/h2o/job.py:81: UserWarning: Test/Validation dataset is missing column 'rna_COMMD3-BMI1': substituting in a column of NaN\n",
      "  warnings.warn(w)\n",
      "/opt/conda/lib/python3.10/site-packages/h2o/job.py:81: UserWarning: Test/Validation dataset is missing column 'rna_HOXB-AS1': substituting in a column of NaN\n",
      "  warnings.warn(w)\n",
      "/opt/conda/lib/python3.10/site-packages/h2o/job.py:81: UserWarning: Test/Validation dataset is missing column 'rna_ERI3-IT1': substituting in a column of NaN\n",
      "  warnings.warn(w)\n",
      "/opt/conda/lib/python3.10/site-packages/h2o/job.py:81: UserWarning: Test/Validation dataset is missing column 'rna_VIM-AS1': substituting in a column of NaN\n",
      "  warnings.warn(w)\n",
      "/opt/conda/lib/python3.10/site-packages/h2o/job.py:81: UserWarning: Test/Validation dataset is missing column 'rna_MED4-AS1': substituting in a column of NaN\n",
      "  warnings.warn(w)\n",
      "/opt/conda/lib/python3.10/site-packages/h2o/job.py:81: UserWarning: Test/Validation dataset is missing column 'rna_NCAM1-AS1': substituting in a column of NaN\n",
      "  warnings.warn(w)\n",
      "/opt/conda/lib/python3.10/site-packages/h2o/job.py:81: UserWarning: Test/Validation dataset is missing column 'rna_ABHD14A-ACY1': substituting in a column of NaN\n",
      "  warnings.warn(w)\n",
      "/opt/conda/lib/python3.10/site-packages/h2o/job.py:81: UserWarning: Test/Validation dataset is missing column 'rna_PIK3IP1-AS1': substituting in a column of NaN\n",
      "  warnings.warn(w)\n",
      "/opt/conda/lib/python3.10/site-packages/h2o/job.py:81: UserWarning: Test/Validation dataset is missing column 'rna_PCNA-AS1': substituting in a column of NaN\n",
      "  warnings.warn(w)\n",
      "/opt/conda/lib/python3.10/site-packages/h2o/job.py:81: UserWarning: Test/Validation dataset is missing column 'rna_OTUD6B-AS1': substituting in a column of NaN\n",
      "  warnings.warn(w)\n",
      "/opt/conda/lib/python3.10/site-packages/h2o/job.py:81: UserWarning: Test/Validation dataset is missing column 'rna_ABHD11-AS1': substituting in a column of NaN\n",
      "  warnings.warn(w)\n",
      "/opt/conda/lib/python3.10/site-packages/h2o/job.py:81: UserWarning: Test/Validation dataset is missing column 'rna_SLFNL1-AS1': substituting in a column of NaN\n",
      "  warnings.warn(w)\n"
     ]
    },
    {
     "data": {
      "text/html": [
       "<table class='dataframe'>\n",
       "<thead>\n",
       "<tr><th style=\"text-align: right;\">  predict</th><th style=\"text-align: right;\">         p0</th><th style=\"text-align: right;\">         p1</th></tr>\n",
       "</thead>\n",
       "<tbody>\n",
       "<tr><td style=\"text-align: right;\">        0</td><td style=\"text-align: right;\">0.076495   </td><td style=\"text-align: right;\">0.923505   </td></tr>\n",
       "<tr><td style=\"text-align: right;\">        0</td><td style=\"text-align: right;\">0.999998   </td><td style=\"text-align: right;\">2.42198e-06</td></tr>\n",
       "<tr><td style=\"text-align: right;\">        0</td><td style=\"text-align: right;\">1          </td><td style=\"text-align: right;\">7.28528e-20</td></tr>\n",
       "<tr><td style=\"text-align: right;\">        0</td><td style=\"text-align: right;\">0.811216   </td><td style=\"text-align: right;\">0.188784   </td></tr>\n",
       "<tr><td style=\"text-align: right;\">        1</td><td style=\"text-align: right;\">8.4365e-52 </td><td style=\"text-align: right;\">1          </td></tr>\n",
       "<tr><td style=\"text-align: right;\">        0</td><td style=\"text-align: right;\">1          </td><td style=\"text-align: right;\">2.18325e-08</td></tr>\n",
       "<tr><td style=\"text-align: right;\">        0</td><td style=\"text-align: right;\">0.244885   </td><td style=\"text-align: right;\">0.755115   </td></tr>\n",
       "<tr><td style=\"text-align: right;\">        0</td><td style=\"text-align: right;\">0.999996   </td><td style=\"text-align: right;\">3.82416e-06</td></tr>\n",
       "<tr><td style=\"text-align: right;\">        1</td><td style=\"text-align: right;\">4.87259e-29</td><td style=\"text-align: right;\">1          </td></tr>\n",
       "</tbody>\n",
       "</table><pre style='font-size: smaller; margin-bottom: 1em;'>[9 rows x 3 columns]</pre>"
      ],
      "text/plain": [
       "  predict           p0           p1\n",
       "---------  -----------  -----------\n",
       "        0  0.076495     0.923505\n",
       "        0  0.999998     2.42198e-06\n",
       "        0  1            7.28528e-20\n",
       "        0  0.811216     0.188784\n",
       "        1  8.4365e-52   1\n",
       "        0  1            2.18325e-08\n",
       "        0  0.244885     0.755115\n",
       "        0  0.999996     3.82416e-06\n",
       "        1  4.87259e-29  1\n",
       "[9 rows x 3 columns]\n"
      ]
     },
     "execution_count": 24,
     "metadata": {},
     "output_type": "execute_result"
    }
   ],
   "source": [
    "rampamycin_Gefitnib_predict = rampamycin_Gefitnib_model.predict(test_df)\n",
    "rampamycin_Gefitnib_predict"
   ]
  },
  {
   "cell_type": "code",
   "execution_count": 50,
   "id": "989409e7-9315-4d63-90df-93f7634f5cf9",
   "metadata": {},
   "outputs": [
    {
     "name": "stdout",
     "output_type": "stream",
     "text": [
      "variable               rna_C7orf13\n",
      "relative_importance            1.0\n",
      "scaled_importance              1.0\n",
      "percentage                 0.00178\n",
      "Name: 0, dtype: object\n",
      "variable               rna_C7orf13\n",
      "relative_importance            1.0\n",
      "scaled_importance              1.0\n",
      "percentage                 0.00178\n",
      "Name: 0, dtype: object\n",
      "variable               rna_C7orf13\n",
      "relative_importance            1.0\n",
      "scaled_importance              1.0\n",
      "percentage                 0.00178\n",
      "Name: 0, dtype: object\n",
      "variable               rna_C7orf13\n",
      "relative_importance            1.0\n",
      "scaled_importance              1.0\n",
      "percentage                 0.00178\n",
      "Name: 0, dtype: object\n",
      "variable               rna_C7orf13\n",
      "relative_importance            1.0\n",
      "scaled_importance              1.0\n",
      "percentage                 0.00178\n",
      "Name: 0, dtype: object\n",
      "variable               rna_C7orf13\n",
      "relative_importance            1.0\n",
      "scaled_importance              1.0\n",
      "percentage                 0.00178\n",
      "Name: 0, dtype: object\n",
      "variable               rna_C7orf13\n",
      "relative_importance            1.0\n",
      "scaled_importance              1.0\n",
      "percentage                 0.00178\n",
      "Name: 0, dtype: object\n",
      "variable               rna_C7orf13\n",
      "relative_importance            1.0\n",
      "scaled_importance              1.0\n",
      "percentage                 0.00178\n",
      "Name: 0, dtype: object\n",
      "variable               rna_C7orf13\n",
      "relative_importance            1.0\n",
      "scaled_importance              1.0\n",
      "percentage                 0.00178\n",
      "Name: 0, dtype: object\n"
     ]
    }
   ],
   "source": [
    "for i in range(len(test_df)):\n",
    "    print(rampamycin_Gefitnib_model.varimp(test_df[i]).iloc[0])"
   ]
  },
  {
   "cell_type": "code",
   "execution_count": null,
   "id": "32bfeed9-143a-4efd-85d8-8242eeddfb7c",
   "metadata": {},
   "outputs": [],
   "source": []
  },
  {
   "cell_type": "code",
   "execution_count": null,
   "id": "a871806a-6736-4321-a3ec-5cbbbec651c8",
   "metadata": {},
   "outputs": [],
   "source": []
  }
 ],
 "metadata": {
  "kernelspec": {
   "display_name": "Python 3 (ipykernel)",
   "language": "python",
   "name": "python3"
  },
  "language_info": {
   "codemirror_mode": {
    "name": "ipython",
    "version": 3
   },
   "file_extension": ".py",
   "mimetype": "text/x-python",
   "name": "python",
   "nbconvert_exporter": "python",
   "pygments_lexer": "ipython3",
   "version": "3.10.12"
  }
 },
 "nbformat": 4,
 "nbformat_minor": 5
}
